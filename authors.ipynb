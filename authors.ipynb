{
 "cells": [
  {
   "cell_type": "code",
   "execution_count": 1,
   "id": "c9f4a25c-60f9-47aa-88f2-457712e5f546",
   "metadata": {},
   "outputs": [],
   "source": [
    "from bs4 import BeautifulSoup\n",
    "import requests"
   ]
  },
  {
   "cell_type": "code",
   "execution_count": 2,
   "id": "55589ae4-2a4a-41db-aa69-e6b66122b7d5",
   "metadata": {},
   "outputs": [],
   "source": [
    "import pandas as pd"
   ]
  },
  {
   "cell_type": "code",
   "execution_count": 3,
   "id": "fb2f03f7-24a2-4c66-b515-3c6251ee814f",
   "metadata": {},
   "outputs": [],
   "source": [
    "from src.scraping import scrape_birth_year, scrape_death_year "
   ]
  },
  {
   "cell_type": "code",
   "execution_count": 4,
   "id": "436a41dc-65e3-4d32-9eaa-25f396a37504",
   "metadata": {
    "tags": []
   },
   "outputs": [],
   "source": [
    "author_list = ['Christian Fürchtegott Gellert', 'Johann Christoph Gottsched',\n",
    "'Johann Jakob Breitinger', 'Johann Jakob Bodmer', 'Johann Christian Günther',\n",
    "'Barthold Heinrich Brockes', 'Friedrich Hagedorn', 'Ewald Christian von Kleist',\n",
    "'Salomon Gessner', 'Friedrich Gottlieb Klopstock', 'Christoph Martin Wieland',\n",
    "'Gotthold Ephraim Lessing', 'Johann Wolfgang von Goethe', 'Friedrich Schiller',\n",
    "'Jakob Lenz', 'Georg Büchner', 'Gerhart Hauptmann',  'Bertolt Brecht',\n",
    "'Johann Gottfried Herder', 'Karl Philipp Moritz', 'Friedrich Hölderlin', \n",
    "'Heinrich von Kleist', 'Jean Paul', 'August Wilhelm', 'Friedrich Schlegel',\n",
    "'Wilhelm Heinrich Wackenroder', 'Ludwig Tieck', 'Achim von Arnim',\n",
    "'Clemens Brentano', 'Bettina von Arnim', 'Wilhelm Grimm', 'E. T. A. Hoffmann',\n",
    "'Joseph von Eichendorff', 'Heinrich Heine', 'Nikolaus Lenau', 'Eduard Mörike', \n",
    "'Friedrich Rückert', 'August von Platen', 'Annette von Droste-Hülshoff', \n",
    "'Adalbert Stifter', 'Jeremias Gotthelf', 'Franz Grillparzer',\n",
    "'Johann Nepomuk Nestroy', 'Ferdinand Raimund', 'Georg Herwegh', 'Heinrich Laube', \n",
    "'Karl Gutzkow', 'Ferdinand Freiligrath', 'Ludwig Börne', 'Georg Büchner', \n",
    "'Conrad Ferdinand Meyer', 'Theodor Storm', 'Friedrich Hebbel', \n",
    "'Gustav Freytag', 'Wilhelm Raabe', 'Gottfried Keller', 'Theodor Fontane', \n",
    "'Marie von Ebner-Eschenbach', 'Ludwig Anzengruber', 'Peter Rosegger', \n",
    "'Arno Holz', 'Johannes Schlaf', 'Frank Wedekind', 'Stefan George', \n",
    "'Hugo von Hofmannsthal', 'Rainer Maria Rilke', 'Heinrich Mann', \n",
    "'Hermann Broch', 'Robert Musil', 'Franz Kafka', 'Hermann Hesse']"
   ]
  },
  {
   "cell_type": "code",
   "execution_count": 5,
   "id": "d9d4564d-ad81-4fd5-a520-32486ac6f6a4",
   "metadata": {},
   "outputs": [],
   "source": [
    "df = pd.DataFrame(data = author_list, columns=['author'])"
   ]
  },
  {
   "cell_type": "code",
   "execution_count": 6,
   "id": "dbd56bb1-f360-47c1-b7b2-e77814aaf3ba",
   "metadata": {},
   "outputs": [],
   "source": [
    "df['author_url'] = df['author'].apply(lambda x : x.rsplit(' ', 1)[-1]\n",
    "                                   .replace('ä', 'ae')\n",
    "                                   .replace('ö', 'oe')\n",
    "                                   .replace('ü', 'ue')\n",
    "                                   .lower())"
   ]
  },
  {
   "cell_type": "code",
   "execution_count": 7,
   "id": "1ed68a78-91bc-4970-bd97-67f8c514af19",
   "metadata": {},
   "outputs": [],
   "source": [
    "df['born'] = df['author'].apply(lambda x: scrape_birth_year(x))\n",
    "df['died'] = df['author'].apply(lambda x: scrape_death_year(x))"
   ]
  },
  {
   "cell_type": "code",
   "execution_count": 10,
   "id": "8c63d0b9-24f9-4a87-b7fa-81ae881f37f1",
   "metadata": {},
   "outputs": [],
   "source": [
    "df.to_csv('data/authors.csv', index=False)"
   ]
  }
 ],
 "metadata": {
  "kernelspec": {
   "display_name": "Python 3 (ipykernel)",
   "language": "python",
   "name": "python3"
  },
  "language_info": {
   "codemirror_mode": {
    "name": "ipython",
    "version": 3
   },
   "file_extension": ".py",
   "mimetype": "text/x-python",
   "name": "python",
   "nbconvert_exporter": "python",
   "pygments_lexer": "ipython3",
   "version": "3.9.7"
  }
 },
 "nbformat": 4,
 "nbformat_minor": 5
}
