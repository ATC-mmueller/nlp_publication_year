{
 "cells": [
  {
   "cell_type": "code",
   "execution_count": 1,
   "id": "9cbcb3bf-eec3-4af0-a1c3-d7b9f3aa0900",
   "metadata": {},
   "outputs": [],
   "source": [
    "import pandas as pd"
   ]
  },
  {
   "cell_type": "code",
   "execution_count": 2,
   "id": "17a2a364-7f73-4d9c-b0dd-b5c5b1da4a82",
   "metadata": {},
   "outputs": [],
   "source": [
    "chapters = pd.read_csv('data/chapters_2nd.csv')\n",
    "titles = pd.read_csv('data/titles_2nd.csv')\n",
    "authors = pd.read_csv('data/authors_2nd.csv')"
   ]
  },
  {
   "cell_type": "code",
   "execution_count": 3,
   "id": "5b019c59-7145-4135-a42b-ee696a270caf",
   "metadata": {},
   "outputs": [],
   "source": [
    "df = (chapters.merge(titles, on='title_url', how='left')\n",
    "      .merge(authors, on='author_url', how='left')\n",
    "     )"
   ]
  },
  {
   "cell_type": "code",
   "execution_count": 4,
   "id": "1382aa3a-12f9-4b3e-8ba9-f1b3cfca6fde",
   "metadata": {},
   "outputs": [
    {
     "data": {
      "text/plain": [
       "title_url        0\n",
       "chapter_num      0\n",
       "chapter        923\n",
       "author_url       0\n",
       "title            0\n",
       "year             0\n",
       "author           0\n",
       "born             0\n",
       "died             0\n",
       "dtype: int64"
      ]
     },
     "execution_count": 4,
     "metadata": {},
     "output_type": "execute_result"
    }
   ],
   "source": [
    "df.isna().sum()"
   ]
  },
  {
   "cell_type": "code",
   "execution_count": 5,
   "id": "447e576a-9789-4fae-8746-53e69d0c0f4d",
   "metadata": {},
   "outputs": [],
   "source": [
    "df = df.loc[~df.chapter.isna()]"
   ]
  },
  {
   "cell_type": "code",
   "execution_count": 6,
   "id": "d1841137-72b7-42dc-b542-a9c5c0021ccb",
   "metadata": {},
   "outputs": [],
   "source": [
    "df = df.loc[~df.chapter.str.contains('Projekt Gutenberg')]"
   ]
  },
  {
   "cell_type": "markdown",
   "id": "2d63fba1-adc7-47d2-bc18-ab9775a98d9c",
   "metadata": {},
   "source": [
    "### Imputing years\n",
    "This might be a task for an API, but because of a hard limit on the calls I'll probably impute some dates from time to time manually.\n",
    "For now we'll remove the titles without a proper year."
   ]
  },
  {
   "cell_type": "code",
   "execution_count": 7,
   "id": "48245183-f732-4fbf-9a8b-9ae3e16e0f17",
   "metadata": {},
   "outputs": [],
   "source": [
    "df.loc[(df.year == 'o.J.')&(df.author_url == 'zweig'), 'year'] = 1904"
   ]
  },
  {
   "cell_type": "code",
   "execution_count": 8,
   "id": "8bc5e382-6e89-4810-bf86-a224725c26a3",
   "metadata": {},
   "outputs": [],
   "source": [
    "df = df.loc[~(df.year == 'o.J.')]"
   ]
  },
  {
   "cell_type": "code",
   "execution_count": 9,
   "id": "844fd4b6-3139-4ea9-bf7f-6ca3ad551e33",
   "metadata": {},
   "outputs": [],
   "source": [
    "df['year'] = pd.to_numeric(df['year'])"
   ]
  },
  {
   "cell_type": "markdown",
   "id": "bb296697-2f95-41f7-86b6-58da5ca0e7e3",
   "metadata": {},
   "source": [
    "#### Stefan Zweig"
   ]
  },
  {
   "cell_type": "code",
   "execution_count": 10,
   "id": "5f822d16-0989-4437-951d-b86a980d78db",
   "metadata": {},
   "outputs": [],
   "source": [
    "df.loc[(df.author_url == 'zweig') & (df.title == 'Amok'), 'year'] = 1922\n",
    "df.loc[(df.author_url == 'zweig') & (df.title == 'Die unsichtbare Sammlung'), 'year'] = 1925\n",
    "df.loc[(df.author_url == 'zweig') & (df.title == 'Erstes Erlebnis'), 'year'] = 1911\n",
    "df.loc[(df.author_url == 'zweig') & (df.title == 'Marceline Desbordes-Valmore'), 'year'] = 1920\n",
    "df.loc[(df.author_url == 'zweig') & (df.title == 'Reise nach Rußland'), 'year'] = 1928\n",
    "df.loc[(df.author_url == 'zweig') & (df.title == 'Sternstunden der Menschheit'), 'year'] = 1927\n",
    "df.loc[(df.author_url == 'zweig') & (df.title == 'Silberne Saiten'), 'year'] = 1901\n",
    "df.loc[(df.author_url == 'zweig') & (df.title == 'Die frühen Kränze'), 'year'] = 1906"
   ]
  },
  {
   "cell_type": "markdown",
   "id": "16e9aa54-0454-4cb7-805e-eedd9bc6f740",
   "metadata": {},
   "source": [
    "#### Gottfried August Bürger"
   ]
  },
  {
   "cell_type": "code",
   "execution_count": 11,
   "id": "1718c410-75c6-4f37-af56-f1104b55b334",
   "metadata": {},
   "outputs": [],
   "source": [
    "df.loc[(df.author_url == 'buerger') &(df.title == 'Gedichte'), 'year'] = 1778"
   ]
  },
  {
   "cell_type": "markdown",
   "id": "a10628be-4ec5-460b-9b08-396298816881",
   "metadata": {},
   "source": [
    "#### Ludwig Tieck"
   ]
  },
  {
   "cell_type": "code",
   "execution_count": 12,
   "id": "d890dbf6-0e69-4655-a9f3-1b19887b1053",
   "metadata": {},
   "outputs": [
    {
     "data": {
      "text/plain": [
       "array(['Das Jüngste Gericht', 'Des Lebens Überfluß',\n",
       "       'Das Fest zu Kenelworth',\n",
       "       'Leben des berühmten Kaisers Abraham Tonelli', 'Pietro von Abano',\n",
       "       'Tod des Dichters', 'Der Abschied', 'Der Aufzug der Romanze',\n",
       "       'Fortunat', 'Leben und Tod der heiligen Genoveva',\n",
       "       'Einzelne Gedichte', 'Gedichte', 'Coriolanus', 'Cymbeline',\n",
       "       'Macbeth', 'Frauendienst', 'Chronologie der Werke Tiecks',\n",
       "       'Über Leben und Werk Tiecks'], dtype=object)"
      ]
     },
     "execution_count": 12,
     "metadata": {},
     "output_type": "execute_result"
    }
   ],
   "source": [
    "df.loc[(df.year < 10) &(df.author_url == 'tieck')].title.unique()"
   ]
  },
  {
   "cell_type": "code",
   "execution_count": 13,
   "id": "078b67af-f1f0-433e-8180-e9aaad11c951",
   "metadata": {},
   "outputs": [],
   "source": [
    "df.loc[(df.author_url == 'tieck') & (df.title == 'Des Lebens Überfluß'), 'year'] = 1839\n",
    "df.loc[(df.author_url == 'tieck') & (df.title == 'Das Fest zu Kenelworth'), 'year'] = 1828\n",
    "df.loc[(df.author_url == 'tieck') & (df.title == 'Pietro von Abano'), 'year'] = 1825\n",
    "df.loc[(df.author_url == 'tieck') & (df.title == 'Tod des Dichters'), 'year'] = 1834\n",
    "df.loc[(df.author_url == 'tieck') & (df.title == 'Leben und Tod der heiligen Genoveva'), 'year'] = 1821\n",
    "df.loc[(df.author_url == 'tieck') & (df.title == 'Frauendienst'), 'year'] = 1812\n",
    "df.loc[(df.author_url == 'tieck') & (df.title == 'Tod des Dichters'), 'year'] = 1792"
   ]
  },
  {
   "cell_type": "markdown",
   "id": "127cc341-6f97-47e5-924d-1ba2dec79664",
   "metadata": {},
   "source": [
    "#### Wilhelm Raabe"
   ]
  },
  {
   "cell_type": "code",
   "execution_count": 14,
   "id": "b7dfd1fa-5af0-4bed-a780-bf318b0c1a15",
   "metadata": {},
   "outputs": [
    {
     "data": {
      "text/plain": [
       "array(['Christoph Pechlin', 'Das letzte Recht', 'Der Dräumling',\n",
       "       'Der gute Tag', 'Der Marsch nach Hause', 'Des Reiches Krone',\n",
       "       'Die Gänse von Bützow', 'Die Innerste',\n",
       "       'Die Kinder von Finkenrode', 'Eine Grabrede aus dem Jahr 1609',\n",
       "       'Eulenpfingsten', 'Fabian und Sebastian', 'Gedelöcke',\n",
       "       'Gutmanns Reisen', 'Kloster Lugau',\n",
       "       'Meister Autor oder Die Geschichten vom versunkenen Garten',\n",
       "       'Sankt Thomas', 'Prinzessin Fisch', 'Unruhige Gäste',\n",
       "       'Verworrenes Leben. Novellen und Skizzen', 'Vom alten Proteus'],\n",
       "      dtype=object)"
      ]
     },
     "execution_count": 14,
     "metadata": {},
     "output_type": "execute_result"
    }
   ],
   "source": [
    "df.loc[(df.year < 10) &(df.author_url == 'raabe')].title.unique()"
   ]
  },
  {
   "cell_type": "code",
   "execution_count": 15,
   "id": "63e74c42-d6ec-4f3d-b0ad-6e92c32ab720",
   "metadata": {},
   "outputs": [],
   "source": [
    "df.loc[(df.author_url == 'raabe') & (df.title == 'Christoph Pechlin'), 'year'] = 1873\n",
    "df.loc[(df.author_url == 'raabe') & (df.title == 'Das letzte Recht'), 'year'] = 1862\n",
    "df.loc[(df.author_url == 'raabe') & (df.title == 'Der Dräumling'), 'year'] = 1872\n",
    "df.loc[(df.author_url == 'raabe') & (df.title == 'Der Marsch nach Hause'), 'year'] = 1870\n",
    "df.loc[(df.author_url == 'raabe') & (df.title == 'Des Reiches Krone'), 'year'] = 1873\n",
    "df.loc[(df.author_url == 'raabe') & (df.title == 'Die Gänse von Bützow'), 'year'] = 1906\n",
    "df.loc[(df.author_url == 'raabe') & (df.title == 'Die Innerste'), 'year'] = 1876\n",
    "df.loc[(df.author_url == 'raabe') & (df.title == 'Die Kinder von Finkenrode'), 'year'] = 1859\n",
    "df.loc[(df.author_url == 'raabe') & (df.title == 'Eine Grabrede aus dem Jahr 1609'), 'year'] = 1862\n",
    "df.loc[(df.author_url == 'raabe') & (df.title == 'Eulenpfingsten'), 'year'] = 1908\n",
    "df.loc[(df.author_url == 'raabe') & (df.title == 'Fabian und Sebastian'), 'year'] = 1882\n",
    "df.loc[(df.author_url == 'raabe') & (df.title == 'Gedelöcke'), 'year'] = 1866\n",
    "df.loc[(df.author_url == 'raabe') & (df.title == 'Gutmanns Reisen'), 'year'] = 1892\n",
    "df.loc[(df.author_url == 'raabe') & (df.title == 'Kloster Lugau'), 'year'] = 1894\n",
    "df.loc[(df.author_url == 'raabe') & (df.title == 'Meister Autor oder Die Geschichten vom versunkenen Garten'), 'year'] = 1874\n",
    "df.loc[(df.author_url == 'raabe') & (df.title == 'Sankt Thomas'), 'year'] = 1866\n",
    "df.loc[(df.author_url == 'raabe') & (df.title == 'Prinzessin Fisch'), 'year'] = 1883\n",
    "df.loc[(df.author_url == 'raabe') & (df.title == 'Verworrenes Leben. Novellen und Skizzen'), 'year'] = 1862\n",
    "df.loc[(df.author_url == 'raabe') & (df.title == 'Vom alten Proteus'), 'year'] = 1879"
   ]
  },
  {
   "cell_type": "markdown",
   "id": "93fb4cff-87b7-4e70-99f2-8cf529eb2b95",
   "metadata": {},
   "source": [
    "#### Friedrich Gottlieb Klopstock"
   ]
  },
  {
   "cell_type": "code",
   "execution_count": 17,
   "id": "3bf80e18-3af9-4cc3-9926-b5a322cab6fb",
   "metadata": {},
   "outputs": [
    {
     "data": {
      "text/plain": [
       "array(['Gedichte', 'Messias'], dtype=object)"
      ]
     },
     "execution_count": 17,
     "metadata": {},
     "output_type": "execute_result"
    }
   ],
   "source": [
    "df.loc[(df.year < 10) &(df.author_url == 'klopstoc')].title.unique()"
   ]
  },
  {
   "cell_type": "code",
   "execution_count": 22,
   "id": "b2a89df1-964c-4965-9e5f-d8fdf84e2aa1",
   "metadata": {},
   "outputs": [],
   "source": [
    "df.loc[(df.author_url == 'klopstoc') & (df.title == 'Messias'), 'year'] = 1748 "
   ]
  },
  {
   "cell_type": "code",
   "execution_count": 39,
   "id": "c6b4856e-0f95-47b3-afd8-cef2b2d0860e",
   "metadata": {},
   "outputs": [],
   "source": [
    "df.loc[(df.author_url == 'klopstoc') & (df.title == 'Gedichte') \n",
    "       &(df.chapter_num >= 1) \n",
    "       &(df.chapter_num <= 2), 'year'] = 1747\n",
    "df.loc[(df.author_url == 'klopstoc') & (df.title == 'Gedichte') \n",
    "       &(df.chapter_num >= 3) \n",
    "       &(df.chapter_num <= 5), 'year'] = 1748\n",
    "df.loc[(df.author_url == 'klopstoc') & (df.title == 'Gedichte')  \n",
    "       &(df.chapter_num == 6), 'year'] = 1747\n",
    "df.loc[(df.author_url == 'klopstoc') & (df.title == 'Gedichte')  \n",
    "       &(df.chapter_num == 7), 'year'] = 1767\n",
    "df.loc[(df.author_url == 'klopstoc') \n",
    "       & (df.title == 'Gedichte') \n",
    "       &(df.chapter_num >= 8) \n",
    "       &(df.chapter_num <= 9), 'year'] = 1748\n",
    "df.loc[(df.author_url == 'klopstoc') \n",
    "       & (df.title == 'Gedichte') \n",
    "       &(df.chapter_num >= 10) \n",
    "       &(df.chapter_num <= 11), 'year'] = 1750\n",
    "df.loc[(df.author_url == 'klopstoc') \n",
    "       & (df.title == 'Gedichte') \n",
    "       &(df.chapter_num >= 12) \n",
    "       &(df.chapter_num <= 15), 'year'] = 1752\n",
    "df.loc[(df.author_url == 'klopstoc') \n",
    "       & (df.title == 'Gedichte') \n",
    "       &(df.chapter_num >= 16) \n",
    "       &(df.chapter_num <= 17), 'year'] = 1753\n",
    "df.loc[(df.author_url == 'klopstoc') \n",
    "       & (df.title == 'Gedichte')  \n",
    "       &(df.chapter_num == 18), 'year'] = 1758\n",
    "df.loc[(df.author_url == 'klopstoc') \n",
    "       & (df.title == 'Gedichte') \n",
    "       &(df.chapter_num >= 19) \n",
    "       &(df.chapter_num <= 21), 'year'] = 1759\n",
    "df.loc[(df.author_url == 'klopstoc') \n",
    "       & (df.title == 'Gedichte') \n",
    "       &(df.chapter_num >= 22) \n",
    "       &(df.chapter_num <= 24), 'year'] = 1764\n",
    "df.loc[(df.author_url == 'klopstoc') \n",
    "       & (df.title == 'Gedichte')  \n",
    "       &(df.chapter_num == 25), 'year'] = 1766\n",
    "df.loc[(df.author_url == 'klopstoc') \n",
    "       & (df.title == 'Gedichte')  \n",
    "       &(df.chapter_num == 26), 'year'] = 1750\n",
    "df.loc[(df.author_url == 'klopstoc') \n",
    "       & (df.title == 'Gedichte')  \n",
    "       &(df.chapter_num == 27), 'year'] = 1751\n",
    "df.loc[(df.author_url == 'klopstoc') \n",
    "       & (df.title == 'Gedichte')  \n",
    "       &(df.chapter_num == 28), 'year'] = 1766\n",
    "df.loc[(df.author_url == 'klopstoc') \n",
    "       & (df.title == 'Gedichte')  \n",
    "       &(df.chapter_num == 29), 'year'] = 1775\n",
    "df.loc[(df.author_url == 'klopstoc') \n",
    "       & (df.title == 'Gedichte')  \n",
    "       &(df.chapter_num == 30), 'year'] = 1780\n",
    "df.loc[(df.author_url == 'klopstoc') \n",
    "       & (df.title == 'Gedichte')  \n",
    "       &(df.chapter_num == 31), 'year'] = 1764\n",
    "df.loc[(df.author_url == 'klopstoc') \n",
    "       & (df.title == 'Gedichte')  \n",
    "       &(df.chapter_num == 32), 'year'] = 1770\n",
    "df.loc[(df.author_url == 'klopstoc') \n",
    "       & (df.title == 'Gedichte')  \n",
    "       &(df.chapter_num == 33), 'year'] = 1764\n",
    "df.loc[(df.author_url == 'klopstoc') \n",
    "       & (df.title == 'Gedichte')  \n",
    "       &(df.chapter_num == 34), 'year'] = 1767\n",
    "df.loc[(df.author_url == 'klopstoc') \n",
    "       & (df.title == 'Gedichte')  \n",
    "       &(df.chapter_num == 35), 'year'] = 1773\n",
    "df.loc[(df.author_url == 'klopstoc') \n",
    "       & (df.title == 'Gedichte')  \n",
    "       &(df.chapter_num == 36), 'year'] = 1781\n",
    "df.loc[(df.author_url == 'klopstoc') \n",
    "       & (df.title == 'Gedichte')  \n",
    "       &(df.chapter_num == 37), 'year'] = 1782\n",
    "df.loc[(df.author_url == 'klopstoc') \n",
    "       & (df.title == 'Gedichte')  \n",
    "       &(df.chapter_num == 38), 'year'] = 1782\n",
    "df.loc[(df.author_url == 'klopstoc') \n",
    "       & (df.title == 'Gedichte')  \n",
    "       &(df.chapter_num == 39), 'year'] = 1784\n",
    "df.loc[(df.author_url == 'klopstoc') \n",
    "       & (df.title == 'Gedichte')  \n",
    "       &(df.chapter_num == 40), 'year'] = 1784\n",
    "df.loc[(df.author_url == 'klopstoc') \n",
    "       & (df.title == 'Gedichte')  \n",
    "       &(df.chapter_num == 41), 'year'] = 1796\n",
    "df.loc[(df.author_url == 'klopstoc') \n",
    "       & (df.title == 'Gedichte')  \n",
    "       &(df.chapter_num == 42), 'year'] = 1790\n",
    "df.loc[(df.author_url == 'klopstoc') \n",
    "       & (df.title == 'Gedichte')  \n",
    "       &(df.chapter_num == 43), 'year'] = 1792\n",
    "df.loc[(df.author_url == 'klopstoc') \n",
    "       & (df.title == 'Gedichte')  \n",
    "       &(df.chapter_num == 44), 'year'] = 1793\n",
    "df.loc[(df.author_url == 'klopstoc') \n",
    "       & (df.title == 'Gedichte')  \n",
    "       &(df.chapter_num == 45), 'year'] = 1793\n",
    "df.loc[(df.author_url == 'klopstoc') \n",
    "       & (df.title == 'Gedichte')  \n",
    "       &(df.chapter_num == 46), 'year'] = 1799\n",
    "df.loc[(df.author_url == 'klopstoc') \n",
    "       & (df.title == 'Gedichte')  \n",
    "       &(df.chapter_num == 47), 'year'] = 1795\n",
    "df.loc[(df.author_url == 'klopstoc') \n",
    "       & (df.title == 'Gedichte')  \n",
    "       &(df.chapter_num == 48), 'year'] = 1784\n",
    "df.loc[(df.author_url == 'klopstoc') \n",
    "       & (df.title == 'Gedichte')  \n",
    "       &(df.chapter_num == 49), 'year'] = 1789\n",
    "df.loc[(df.author_url == 'klopstoc') \n",
    "       & (df.title == 'Gedichte')  \n",
    "       &(df.chapter_num == 50), 'year'] = 1795\n",
    "df.loc[(df.author_url == 'klopstoc') \n",
    "       & (df.title == 'Gedichte')  \n",
    "       &(df.chapter_num == 51), 'year'] = 1796\n",
    "df.loc[(df.author_url == 'klopstoc') \n",
    "       & (df.title == 'Gedichte')  \n",
    "       &(df.chapter_num == 52), 'year'] = 1796\n",
    "df.loc[(df.author_url == 'klopstoc') \n",
    "       & (df.title == 'Gedichte')  \n",
    "       &(df.chapter_num == 53), 'year'] = 1797\n",
    "df.loc[(df.author_url == 'klopstoc') \n",
    "       & (df.title == 'Gedichte')  \n",
    "       &(df.chapter_num == 54), 'year'] = 1797\n",
    "df.loc[(df.author_url == 'klopstoc') \n",
    "       & (df.title == 'Gedichte')  \n",
    "       &(df.chapter_num == 55), 'year'] = 1800\n",
    "df.loc[(df.author_url == 'klopstoc') \n",
    "       & (df.title == 'Gedichte')  \n",
    "       &(df.chapter_num == 57), 'year'] = 1752"
   ]
  },
  {
   "cell_type": "markdown",
   "id": "8d1a6545-0e61-48bb-b148-62d5caca7d39",
   "metadata": {},
   "source": [
    "#### Max Dauthendey"
   ]
  },
  {
   "cell_type": "code",
   "execution_count": 43,
   "id": "77e15682-c6c6-4366-bae8-8b11c4e53c4d",
   "metadata": {},
   "outputs": [
    {
     "data": {
      "text/plain": [
       "array(['Das Märchenbriefbuch der heiligen Nächte im Javanerlande',\n",
       "       'Des großen Krieges Not', 'Geschichten aus den vier Winden',\n",
       "       'Insichversunkene Lieder im Laub', 'Novellen und Erzählungen',\n",
       "       'Raubmenschen', 'Einzelne Gedichte', 'Die ewige Hochzeit',\n",
       "       'Der brennende Kalender', 'Weltspuk'], dtype=object)"
      ]
     },
     "execution_count": 43,
     "metadata": {},
     "output_type": "execute_result"
    }
   ],
   "source": [
    "df.loc[(df.year < 10) & (df.author_url == 'dauthend')].title.unique()"
   ]
  },
  {
   "cell_type": "code",
   "execution_count": 44,
   "id": "0d736456-af22-48ea-8c72-b3f23f707dc6",
   "metadata": {},
   "outputs": [],
   "source": [
    "df.loc[(df.author_url == 'dauthend') \n",
    "       & (df.title == 'Des großen Krieges Not'), 'year'] = 1914\n",
    "df.loc[(df.author_url == 'dauthend') \n",
    "       & (df.title == 'Geschichten aus den vier Winden'), 'year'] = 1915\n",
    "df.loc[(df.author_url == 'dauthend') \n",
    "       & (df.title == 'Insichversunkene Lieder im Laub'), 'year'] = 1908\n",
    "df.loc[(df.author_url == 'dauthend') \n",
    "       & (df.title == 'Raubmenschen'), 'year'] = 1911\n",
    "df.loc[(df.author_url == 'dauthend') \n",
    "       & (df.title == 'Die ewige Hochzeit'), 'year'] = 1907\n",
    "df.loc[(df.author_url == 'dauthend') \n",
    "       & (df.title == 'Der brennende Kalender'), 'year'] = 1905\n",
    "df.loc[(df.author_url == 'dauthend') \n",
    "       & (df.title == 'Weltspuk'), 'year'] = 1910"
   ]
  },
  {
   "cell_type": "markdown",
   "id": "566a13ce-1cd8-4d16-9f9d-aeeeaee5860d",
   "metadata": {},
   "source": [
    "#### Fritz Reuter"
   ]
  },
  {
   "cell_type": "code",
   "execution_count": 46,
   "id": "7bd1bfd0-98fb-46e1-8136-fdf49ff8ed61",
   "metadata": {},
   "outputs": [
    {
     "data": {
      "text/plain": [
       "array(['Abendteuer des Entspekter Bräsig',\n",
       "       'Memoiren eines alten Fliegenschimmels', 'Aus der Franzosenzeit',\n",
       "       'Zwei Gedichte'], dtype=object)"
      ]
     },
     "execution_count": 46,
     "metadata": {},
     "output_type": "execute_result"
    }
   ],
   "source": [
    "df.loc[(df.year < 10)&(df.author_url == 'reuter')].title.unique()"
   ]
  },
  {
   "cell_type": "code",
   "execution_count": 49,
   "id": "3a90ddf1-63dc-4172-889e-ef0fee211c9b",
   "metadata": {},
   "outputs": [],
   "source": [
    "df.loc[(df.year < 10)&(df.author_url == 'reuter')&(df.title == 'Aus der Franzosenzeit'), 'year'] = 1859"
   ]
  },
  {
   "cell_type": "code",
   "execution_count": 53,
   "id": "8ba2fad1-417d-40c3-acbf-c3d760f85c8a",
   "metadata": {},
   "outputs": [
    {
     "data": {
      "text/plain": [
       "array(['Aphoristisches', 'Bemerkungen über uns närrische Menschen',\n",
       "       'Der Komet', 'Der Papierdrache. Erster Theil',\n",
       "       'Der Papierdrache. Zweiter Theil',\n",
       "       'Des Geburtshelfers Walther Vierneissel Nachtgedanken über seine verlorenen Fötus-Ideale',\n",
       "       'Die Vernichtung',\n",
       "       'Mein Aufenthalt in der Nepomukskirche während der Belagerung der Reichsfestung Ziebingen',\n",
       "       'Selina oder über die Unsterblichkeit der Seele'], dtype=object)"
      ]
     },
     "execution_count": 53,
     "metadata": {},
     "output_type": "execute_result"
    }
   ],
   "source": [
    "df.loc[(df.year < 10)&(df.author_url == 'jeanpaul')].title.unique()"
   ]
  },
  {
   "cell_type": "code",
   "execution_count": 54,
   "id": "e7810e72-85e5-4186-9845-c78eda73d018",
   "metadata": {},
   "outputs": [],
   "source": [
    "df.loc[(df.year < 10)&(df.author_url == 'jeanpaul') &(df.title == 'Der Komet'), 'year'] = 1820"
   ]
  },
  {
   "cell_type": "code",
   "execution_count": 56,
   "id": "a77f4ba3-5d7e-4d56-a6a3-72ddaa920009",
   "metadata": {},
   "outputs": [
    {
     "data": {
      "text/html": [
       "<div>\n",
       "<style scoped>\n",
       "    .dataframe tbody tr th:only-of-type {\n",
       "        vertical-align: middle;\n",
       "    }\n",
       "\n",
       "    .dataframe tbody tr th {\n",
       "        vertical-align: top;\n",
       "    }\n",
       "\n",
       "    .dataframe thead th {\n",
       "        text-align: right;\n",
       "    }\n",
       "</style>\n",
       "<table border=\"1\" class=\"dataframe\">\n",
       "  <thead>\n",
       "    <tr style=\"text-align: right;\">\n",
       "      <th></th>\n",
       "      <th>title_url</th>\n",
       "      <th>chapter_num</th>\n",
       "      <th>chapter</th>\n",
       "      <th>author_url</th>\n",
       "      <th>title</th>\n",
       "      <th>year</th>\n",
       "      <th>author</th>\n",
       "      <th>born</th>\n",
       "      <th>died</th>\n",
       "    </tr>\n",
       "  </thead>\n",
       "  <tbody>\n",
       "    <tr>\n",
       "      <th>3</th>\n",
       "      <td>/anzengru/erzaehlg/erzaehlg.html</td>\n",
       "      <td>1</td>\n",
       "      <td>Florian Traidmann hieß das kleine, schwächlich...</td>\n",
       "      <td>anzengru</td>\n",
       "      <td>Drei Kleinere Erzählungen</td>\n",
       "      <td>0</td>\n",
       "      <td>Ludwig Anzengruber</td>\n",
       "      <td>1839</td>\n",
       "      <td>1889</td>\n",
       "    </tr>\n",
       "    <tr>\n",
       "      <th>4</th>\n",
       "      <td>/anzengru/erzaehlg/erzaehlg.html</td>\n",
       "      <td>2</td>\n",
       "      <td>Dort, wo der Wald niedergeht und ein Spitz wie...</td>\n",
       "      <td>anzengru</td>\n",
       "      <td>Drei Kleinere Erzählungen</td>\n",
       "      <td>0</td>\n",
       "      <td>Ludwig Anzengruber</td>\n",
       "      <td>1839</td>\n",
       "      <td>1889</td>\n",
       "    </tr>\n",
       "    <tr>\n",
       "      <th>5</th>\n",
       "      <td>/anzengru/erzaehlg/erzaehlg.html</td>\n",
       "      <td>3</td>\n",
       "      <td>Ein dichter Nebel lag über der großen Stadt Lo...</td>\n",
       "      <td>anzengru</td>\n",
       "      <td>Drei Kleinere Erzählungen</td>\n",
       "      <td>0</td>\n",
       "      <td>Ludwig Anzengruber</td>\n",
       "      <td>1839</td>\n",
       "      <td>1889</td>\n",
       "    </tr>\n",
       "    <tr>\n",
       "      <th>6</th>\n",
       "      <td>/anzengru/gedichte/gedichte.html</td>\n",
       "      <td>0</td>\n",
       "      <td>Verlag der J. G. Cotta'schen Buchhandlung Na...</td>\n",
       "      <td>anzengru</td>\n",
       "      <td>Gedichte</td>\n",
       "      <td>0</td>\n",
       "      <td>Ludwig Anzengruber</td>\n",
       "      <td>1839</td>\n",
       "      <td>1889</td>\n",
       "    </tr>\n",
       "    <tr>\n",
       "      <th>7</th>\n",
       "      <td>/anzengru/gedichte/gedichte.html</td>\n",
       "      <td>1</td>\n",
       "      <td>Ludwig Anzengruber hat seine Gedichte weder fü...</td>\n",
       "      <td>anzengru</td>\n",
       "      <td>Gedichte</td>\n",
       "      <td>0</td>\n",
       "      <td>Ludwig Anzengruber</td>\n",
       "      <td>1839</td>\n",
       "      <td>1889</td>\n",
       "    </tr>\n",
       "    <tr>\n",
       "      <th>...</th>\n",
       "      <td>...</td>\n",
       "      <td>...</td>\n",
       "      <td>...</td>\n",
       "      <td>...</td>\n",
       "      <td>...</td>\n",
       "      <td>...</td>\n",
       "      <td>...</td>\n",
       "      <td>...</td>\n",
       "      <td>...</td>\n",
       "    </tr>\n",
       "    <tr>\n",
       "      <th>52981</th>\n",
       "      <td>/zweig/rezensio/rezensio.html</td>\n",
       "      <td>31</td>\n",
       "      <td>Welche legendarischen und mythenbildenden Kräf...</td>\n",
       "      <td>zweig</td>\n",
       "      <td>Rezensionen 1902 - 1939</td>\n",
       "      <td>0</td>\n",
       "      <td>Stefan Zweig</td>\n",
       "      <td>1881</td>\n",
       "      <td>1942</td>\n",
       "    </tr>\n",
       "    <tr>\n",
       "      <th>52982</th>\n",
       "      <td>/zweig/rezensio/rezensio.html</td>\n",
       "      <td>32</td>\n",
       "      <td>Vor etwa einem halben Jahrhundert brachte Ferd...</td>\n",
       "      <td>zweig</td>\n",
       "      <td>Rezensionen 1902 - 1939</td>\n",
       "      <td>0</td>\n",
       "      <td>Stefan Zweig</td>\n",
       "      <td>1881</td>\n",
       "      <td>1942</td>\n",
       "    </tr>\n",
       "    <tr>\n",
       "      <th>52983</th>\n",
       "      <td>/zweig/rezensio/rezensio.html</td>\n",
       "      <td>33</td>\n",
       "      <td>Gebrauchsanweisung: man suche zuerst nach eine...</td>\n",
       "      <td>zweig</td>\n",
       "      <td>Rezensionen 1902 - 1939</td>\n",
       "      <td>0</td>\n",
       "      <td>Stefan Zweig</td>\n",
       "      <td>1881</td>\n",
       "      <td>1942</td>\n",
       "    </tr>\n",
       "    <tr>\n",
       "      <th>52984</th>\n",
       "      <td>/zweig/rezensio/rezensio.html</td>\n",
       "      <td>34</td>\n",
       "      <td>Iwan Gontscharow: \\n      OblomowDie Gesetze d...</td>\n",
       "      <td>zweig</td>\n",
       "      <td>Rezensionen 1902 - 1939</td>\n",
       "      <td>0</td>\n",
       "      <td>Stefan Zweig</td>\n",
       "      <td>1881</td>\n",
       "      <td>1942</td>\n",
       "    </tr>\n",
       "    <tr>\n",
       "      <th>52985</th>\n",
       "      <td>/zweig/rezensio/rezensio.html</td>\n",
       "      <td>35</td>\n",
       "      <td>Maxim Gorki: \\n      Das Werk der ArtamonowsMe...</td>\n",
       "      <td>zweig</td>\n",
       "      <td>Rezensionen 1902 - 1939</td>\n",
       "      <td>0</td>\n",
       "      <td>Stefan Zweig</td>\n",
       "      <td>1881</td>\n",
       "      <td>1942</td>\n",
       "    </tr>\n",
       "  </tbody>\n",
       "</table>\n",
       "<p>17006 rows × 9 columns</p>\n",
       "</div>"
      ],
      "text/plain": [
       "                              title_url  chapter_num  \\\n",
       "3      /anzengru/erzaehlg/erzaehlg.html            1   \n",
       "4      /anzengru/erzaehlg/erzaehlg.html            2   \n",
       "5      /anzengru/erzaehlg/erzaehlg.html            3   \n",
       "6      /anzengru/gedichte/gedichte.html            0   \n",
       "7      /anzengru/gedichte/gedichte.html            1   \n",
       "...                                 ...          ...   \n",
       "52981     /zweig/rezensio/rezensio.html           31   \n",
       "52982     /zweig/rezensio/rezensio.html           32   \n",
       "52983     /zweig/rezensio/rezensio.html           33   \n",
       "52984     /zweig/rezensio/rezensio.html           34   \n",
       "52985     /zweig/rezensio/rezensio.html           35   \n",
       "\n",
       "                                                 chapter author_url  \\\n",
       "3      Florian Traidmann hieß das kleine, schwächlich...   anzengru   \n",
       "4      Dort, wo der Wald niedergeht und ein Spitz wie...   anzengru   \n",
       "5      Ein dichter Nebel lag über der großen Stadt Lo...   anzengru   \n",
       "6        Verlag der J. G. Cotta'schen Buchhandlung Na...   anzengru   \n",
       "7      Ludwig Anzengruber hat seine Gedichte weder fü...   anzengru   \n",
       "...                                                  ...        ...   \n",
       "52981  Welche legendarischen und mythenbildenden Kräf...      zweig   \n",
       "52982  Vor etwa einem halben Jahrhundert brachte Ferd...      zweig   \n",
       "52983  Gebrauchsanweisung: man suche zuerst nach eine...      zweig   \n",
       "52984  Iwan Gontscharow: \\n      OblomowDie Gesetze d...      zweig   \n",
       "52985  Maxim Gorki: \\n      Das Werk der ArtamonowsMe...      zweig   \n",
       "\n",
       "                           title  year              author  born  died  \n",
       "3      Drei Kleinere Erzählungen     0  Ludwig Anzengruber  1839  1889  \n",
       "4      Drei Kleinere Erzählungen     0  Ludwig Anzengruber  1839  1889  \n",
       "5      Drei Kleinere Erzählungen     0  Ludwig Anzengruber  1839  1889  \n",
       "6                       Gedichte     0  Ludwig Anzengruber  1839  1889  \n",
       "7                       Gedichte     0  Ludwig Anzengruber  1839  1889  \n",
       "...                          ...   ...                 ...   ...   ...  \n",
       "52981    Rezensionen 1902 - 1939     0        Stefan Zweig  1881  1942  \n",
       "52982    Rezensionen 1902 - 1939     0        Stefan Zweig  1881  1942  \n",
       "52983    Rezensionen 1902 - 1939     0        Stefan Zweig  1881  1942  \n",
       "52984    Rezensionen 1902 - 1939     0        Stefan Zweig  1881  1942  \n",
       "52985    Rezensionen 1902 - 1939     0        Stefan Zweig  1881  1942  \n",
       "\n",
       "[17006 rows x 9 columns]"
      ]
     },
     "execution_count": 56,
     "metadata": {},
     "output_type": "execute_result"
    }
   ],
   "source": [
    "df.loc[df.year < 10]"
   ]
  }
 ],
 "metadata": {
  "kernelspec": {
   "display_name": "Python 3 (ipykernel)",
   "language": "python",
   "name": "python3"
  },
  "language_info": {
   "codemirror_mode": {
    "name": "ipython",
    "version": 3
   },
   "file_extension": ".py",
   "mimetype": "text/x-python",
   "name": "python",
   "nbconvert_exporter": "python",
   "pygments_lexer": "ipython3",
   "version": "3.9.7"
  }
 },
 "nbformat": 4,
 "nbformat_minor": 5
}
