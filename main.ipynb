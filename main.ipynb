{
 "cells": [
  {
   "cell_type": "markdown",
   "id": "b24cb577-b002-4580-b28f-d80e699aed51",
   "metadata": {},
   "source": [
    "## Data Scraping\n",
    "\n",
    "As a first step we will scrape the necessary data to proceed, namely:\n",
    "- titles for each author that are publicly available\n",
    "- publishing year, if it is stored in the metadata\n",
    "- text strings split into single chapters"
   ]
  },
  {
   "cell_type": "code",
   "execution_count": 1,
   "id": "7caa9ea1-5543-4269-b3fe-6c9e46726620",
   "metadata": {},
   "outputs": [],
   "source": [
    "from bs4 import BeautifulSoup\n",
    "import requests"
   ]
  },
  {
   "cell_type": "code",
   "execution_count": 1,
   "id": "889e7022-50a0-452b-ab71-de5423057993",
   "metadata": {},
   "outputs": [],
   "source": [
    "import pandas as pd"
   ]
  },
  {
   "cell_type": "code",
   "execution_count": 3,
   "id": "21d0a18b-e26b-4caf-a7b5-f703a8405b48",
   "metadata": {},
   "outputs": [],
   "source": [
    "from src.scraping import scrape_titles_years\n",
    "from src.utils import dict_to_csv, csv_to_dict"
   ]
  },
  {
   "cell_type": "code",
   "execution_count": 4,
   "id": "df01a59d-0e7b-4533-be44-1f41a51e3faa",
   "metadata": {},
   "outputs": [],
   "source": [
    "authors_df = pd.read_csv('data/authors.csv')\n",
    "titles_years_list = []\n",
    "for url in authors_df.author_url:\n",
    "    titles_years_list.extend(scrape_titles_years(url))\n",
    "\n",
    "df = pd.DataFrame(data = titles_years_list, columns = ['author_url', 'title', 'title_url', 'year'])\n",
    "df.to_csv('data/titles.csv', index=False)"
   ]
  },
  {
   "cell_type": "code",
   "execution_count": 3,
   "id": "db3925d9-7952-472c-901d-2dbd0c61e3ec",
   "metadata": {},
   "outputs": [],
   "source": [
    "titles_df = pd.read_csv('data/titles.csv')"
   ]
  },
  {
   "cell_type": "code",
   "execution_count": 4,
   "id": "c49d5c4b-f203-4be7-85c1-08a462b78fcb",
   "metadata": {},
   "outputs": [],
   "source": [
    "from src.scraping import scrape_chapters"
   ]
  },
  {
   "cell_type": "code",
   "execution_count": 6,
   "id": "a7c6e176-b0fa-4ef4-9767-4a8b5832097a",
   "metadata": {},
   "outputs": [],
   "source": [
    "chapters_list = []\n",
    "for title in titles_df.title_url:\n",
    "    chapters_list.append(scrape_chapters(title))\n",
    "\n",
    "df = pd.DataFrame(data = chapters_list, columns = ['title_url',\n",
    "                                              'chapter_num',\n",
    "                                              'chapter'])\n",
    "df.to_csv('data/chapters.csv', index=False) "
   ]
  },
  {
   "cell_type": "markdown",
   "id": "5979d1d3-e43f-4987-b8d0-d6f4639177ee",
   "metadata": {},
   "source": [
    "## Using API's\n",
    "If scraping the years from projekt-gutenberg.org does not yield any results, we'll have to rely on API's. Trying to avoid that because of hard limits though."
   ]
  },
  {
   "cell_type": "code",
   "execution_count": null,
   "id": "50118512-6045-43a8-9585-8b895d432a70",
   "metadata": {},
   "outputs": [],
   "source": [
    "from src.utils import PrivateKeysHandler"
   ]
  },
  {
   "cell_type": "code",
   "execution_count": 22,
   "id": "baca2f5c-c457-41b7-8253-f7190c811b78",
   "metadata": {},
   "outputs": [],
   "source": [
    "relative_path_to_file = '.env'\n",
    "keys = PrivateKeysHandler(relative_path_to_file)\n",
    "api_key_dict = keys.load_keys('APIs')"
   ]
  },
  {
   "cell_type": "code",
   "execution_count": 52,
   "id": "687112e6-af77-49a3-a861-d3c7cc7fd71e",
   "metadata": {
    "collapsed": true,
    "jupyter": {
     "outputs_hidden": true
    },
    "tags": []
   },
   "outputs": [
    {
     "name": "stdout",
     "output_type": "stream",
     "text": [
      "{\"search_term\":\"theodor+fontane+effi+briest\",\"search_site\":null,\"knowledge_panel\":{\"name\":\"Effi Briest\",\"label\":\"Novel by Theodor Fontane\",\"description\":{\"text\":\"Effi Briest is a realist novel by Theodor Fontane. Published in book form in 1895, Effi Briest marks both a watershed and a climax in the poetic realism of literature.\",\"url\":\"https:\\/\\/en.wikipedia.org\\/wiki\\/Effi_Briest\",\"site\":\"Wikipedia\"},\"image\":{\"url\":\"https:\\/\\/encrypted-tbn0.gstatic.com\\/images?q=tbn:mP-X_DD_yDH2zM\",\"width\":181,\"height\":278,\"page_url\":\"https:\\/\\/books.google.com\\/books\\/about\\/Effi_Briest.html?id=OYX5JoRGQkoC&source=kp_cover\"},\"info\":[{\"title\":\"Originally published\",\"labels\":[\"1894\"]},{\"title\":\"Author\",\"labels\":[\"Theodor Fontane\"]},{\"title\":\"Genre\",\"labels\":[\"Novel\"]},{\"title\":\"Adaptations\",\"labels\":[\"Effi Briest (1974)\",\"The False Step (1939)\"]}]},\"results\":[{\"position\":1,\"url\":\"https:\\/\\/en.wikipedia.org\\/wiki\\/Effi_Briest\",\"title\":\"Effi Briest - Wikipedia\",\"description\":\"Effi Briest is a realist novel by Theodor Fontane. Published in book form in 1895, Effi Briest marks both a watershed and a climax in the poetic realism of\\u00a0...\"}],\"related_keywords\":{\"spelling_suggestion_html\":null,\"spelling_suggestion\":null,\"keywords\":[{\"position\":1,\"knowledge\":null,\"keyword_html\":\"<b>theodor fontane effi briest<\\/b>\",\"keyword\":\"theodor fontane effi briest\"},{\"position\":2,\"knowledge\":null,\"keyword_html\":\"<b>sterilet en cuivre avantage et inconvenient<\\/b>\",\"keyword\":\"sterilet en cuivre avantage et inconvenient\"},{\"position\":3,\"knowledge\":null,\"keyword_html\":\"<b>theodor w. adorno quotes<\\/b>\",\"keyword\":\"theodor w. adorno quotes\"},{\"position\":4,\"knowledge\":null,\"keyword_html\":\"<b>the cons of formant<\\/b>\",\"keyword\":\"the cons of formant\"}]}}\n"
     ]
    }
   ],
   "source": [
    "# import requests\n",
    "\n",
    "# url = \"https://google-web-search.p.rapidapi.com/\"\n",
    "\n",
    "# querystring = {\"query\":\"theodor+fontane+effi+briest\",\"max\":\"1\"}\n",
    "\n",
    "# headers = {\n",
    "# \t\"X-RapidAPI-Key\": api_key_dict['google_web_search_key'],\n",
    "# \t\"X-RapidAPI-Host\": \"google-web-search.p.rapidapi.com\"\n",
    "# }\n",
    "\n",
    "# response = requests.request(\"GET\", url, headers=headers, params=querystring)\n",
    "\n",
    "# print(response.text)"
   ]
  },
  {
   "cell_type": "code",
   "execution_count": 59,
   "id": "d3862dba-b998-45d5-bce6-45abde07a2a4",
   "metadata": {},
   "outputs": [
    {
     "data": {
      "text/plain": [
       "1894"
      ]
     },
     "execution_count": 59,
     "metadata": {},
     "output_type": "execute_result"
    }
   ],
   "source": [
    "#int(response.json()['knowledge_panel']['info'][0]['labels'][0])"
   ]
  },
  {
   "cell_type": "markdown",
   "id": "ca295238-6e10-406c-b0c1-2ae8ed53f03a",
   "metadata": {},
   "source": [
    "## Filter Data\n",
    "Now we will filter our data. For this we'll merge our 3 dataframes. We will left join, because there are authors in the authors dataframe which do not have any title/chapter in the other dataframes."
   ]
  },
  {
   "cell_type": "code",
   "execution_count": 20,
   "id": "9584b756-0f5e-48cd-943b-4170f5c63915",
   "metadata": {},
   "outputs": [],
   "source": [
    "chapters = pd.read_csv('data/chapters.csv')\n",
    "authors = pd.read_csv('data/authors.csv')\n",
    "titles = pd.read_csv('data/titles.csv')"
   ]
  },
  {
   "cell_type": "code",
   "execution_count": 22,
   "id": "ab037f87-43bc-4a19-8b00-fd13a1b070d1",
   "metadata": {},
   "outputs": [],
   "source": [
    "df = (chapters.merge(titles, on='title_url', how='left')\n",
    "      .merge(authors, on='author_url', how='left')\n",
    "     )"
   ]
  },
  {
   "cell_type": "code",
   "execution_count": 23,
   "id": "a5eabe4c-b728-46b7-967b-1a917a59fff8",
   "metadata": {},
   "outputs": [
    {
     "data": {
      "text/html": [
       "<div>\n",
       "<style scoped>\n",
       "    .dataframe tbody tr th:only-of-type {\n",
       "        vertical-align: middle;\n",
       "    }\n",
       "\n",
       "    .dataframe tbody tr th {\n",
       "        vertical-align: top;\n",
       "    }\n",
       "\n",
       "    .dataframe thead th {\n",
       "        text-align: right;\n",
       "    }\n",
       "</style>\n",
       "<table border=\"1\" class=\"dataframe\">\n",
       "  <thead>\n",
       "    <tr style=\"text-align: right;\">\n",
       "      <th></th>\n",
       "      <th>title_url</th>\n",
       "      <th>chapter_num</th>\n",
       "      <th>chapter</th>\n",
       "      <th>author_url</th>\n",
       "      <th>title</th>\n",
       "      <th>year</th>\n",
       "      <th>author</th>\n",
       "      <th>born</th>\n",
       "      <th>died</th>\n",
       "    </tr>\n",
       "  </thead>\n",
       "  <tbody>\n",
       "    <tr>\n",
       "      <th>0</th>\n",
       "      <td>/gellert/comoedia/comoedia.html</td>\n",
       "      <td>0</td>\n",
       "      <td>Man hat zu unsern Zeiten, besonders in Frankre...</td>\n",
       "      <td>gellert</td>\n",
       "      <td>Pro comoedia commovente</td>\n",
       "      <td>1751</td>\n",
       "      <td>Christian Fürchtegott Gellert</td>\n",
       "      <td>1715</td>\n",
       "      <td>1769</td>\n",
       "    </tr>\n",
       "    <tr>\n",
       "      <th>1</th>\n",
       "      <td>/gellert/comoedia/comoedia.html</td>\n",
       "      <td>1</td>\n",
       "      <td>Ich komme nunmehr auf den zweiten Einwurf. Rüh...</td>\n",
       "      <td>gellert</td>\n",
       "      <td>Pro comoedia commovente</td>\n",
       "      <td>1751</td>\n",
       "      <td>Christian Fürchtegott Gellert</td>\n",
       "      <td>1715</td>\n",
       "      <td>1769</td>\n",
       "    </tr>\n",
       "    <tr>\n",
       "      <th>2</th>\n",
       "      <td>/gellert/comoedia/comoedia.html</td>\n",
       "      <td>2</td>\n",
       "      <td>Bei jeder Erdichtung nemlich verursacht nicht ...</td>\n",
       "      <td>gellert</td>\n",
       "      <td>Pro comoedia commovente</td>\n",
       "      <td>1751</td>\n",
       "      <td>Christian Fürchtegott Gellert</td>\n",
       "      <td>1715</td>\n",
       "      <td>1769</td>\n",
       "    </tr>\n",
       "    <tr>\n",
       "      <th>3</th>\n",
       "      <td>/gellert/zschwest/zschwest.html</td>\n",
       "      <td>0</td>\n",
       "      <td>CleonDer Magister, sein BruderLottchen, Cleons...</td>\n",
       "      <td>gellert</td>\n",
       "      <td>Die zärtlichen Schwestern</td>\n",
       "      <td>1747</td>\n",
       "      <td>Christian Fürchtegott Gellert</td>\n",
       "      <td>1715</td>\n",
       "      <td>1769</td>\n",
       "    </tr>\n",
       "    <tr>\n",
       "      <th>4</th>\n",
       "      <td>/gellert/zschwest/zschwest.html</td>\n",
       "      <td>1</td>\n",
       "      <td>Cleon. Lottchen.Lottchen. Lieber Papa, Herr Da...</td>\n",
       "      <td>gellert</td>\n",
       "      <td>Die zärtlichen Schwestern</td>\n",
       "      <td>1747</td>\n",
       "      <td>Christian Fürchtegott Gellert</td>\n",
       "      <td>1715</td>\n",
       "      <td>1769</td>\n",
       "    </tr>\n",
       "  </tbody>\n",
       "</table>\n",
       "</div>"
      ],
      "text/plain": [
       "                         title_url  chapter_num  \\\n",
       "0  /gellert/comoedia/comoedia.html            0   \n",
       "1  /gellert/comoedia/comoedia.html            1   \n",
       "2  /gellert/comoedia/comoedia.html            2   \n",
       "3  /gellert/zschwest/zschwest.html            0   \n",
       "4  /gellert/zschwest/zschwest.html            1   \n",
       "\n",
       "                                             chapter author_url  \\\n",
       "0  Man hat zu unsern Zeiten, besonders in Frankre...    gellert   \n",
       "1  Ich komme nunmehr auf den zweiten Einwurf. Rüh...    gellert   \n",
       "2  Bei jeder Erdichtung nemlich verursacht nicht ...    gellert   \n",
       "3  CleonDer Magister, sein BruderLottchen, Cleons...    gellert   \n",
       "4  Cleon. Lottchen.Lottchen. Lieber Papa, Herr Da...    gellert   \n",
       "\n",
       "                       title  year                         author  born  died  \n",
       "0    Pro comoedia commovente  1751  Christian Fürchtegott Gellert  1715  1769  \n",
       "1    Pro comoedia commovente  1751  Christian Fürchtegott Gellert  1715  1769  \n",
       "2    Pro comoedia commovente  1751  Christian Fürchtegott Gellert  1715  1769  \n",
       "3  Die zärtlichen Schwestern  1747  Christian Fürchtegott Gellert  1715  1769  \n",
       "4  Die zärtlichen Schwestern  1747  Christian Fürchtegott Gellert  1715  1769  "
      ]
     },
     "execution_count": 23,
     "metadata": {},
     "output_type": "execute_result"
    }
   ],
   "source": [
    "df.head()"
   ]
  },
  {
   "cell_type": "code",
   "execution_count": 25,
   "id": "b1dff7a0-44c7-47f4-a050-e8795113c7c0",
   "metadata": {},
   "outputs": [
    {
     "name": "stdout",
     "output_type": "stream",
     "text": [
      "<class 'pandas.core.frame.DataFrame'>\n",
      "Int64Index: 37313 entries, 0 to 37312\n",
      "Data columns (total 9 columns):\n",
      " #   Column       Non-Null Count  Dtype \n",
      "---  ------       --------------  ----- \n",
      " 0   title_url    37313 non-null  object\n",
      " 1   chapter_num  37313 non-null  int64 \n",
      " 2   chapter      36682 non-null  object\n",
      " 3   author_url   37313 non-null  object\n",
      " 4   title        37313 non-null  object\n",
      " 5   year         36708 non-null  object\n",
      " 6   author       37313 non-null  object\n",
      " 7   born         37313 non-null  int64 \n",
      " 8   died         37313 non-null  int64 \n",
      "dtypes: int64(3), object(6)\n",
      "memory usage: 2.8+ MB\n"
     ]
    }
   ],
   "source": [
    "df.info()"
   ]
  },
  {
   "cell_type": "markdown",
   "id": "b68ebf17-c67b-4193-8634-3ff87613fadb",
   "metadata": {},
   "source": [
    "We see that some chapters do not contain any values. This might be due to some illustrations or different html-structures. "
   ]
  },
  {
   "cell_type": "code",
   "execution_count": 27,
   "id": "8cf0b797-9d64-4be7-8107-3a21229cd471",
   "metadata": {},
   "outputs": [],
   "source": [
    "df = df.loc[~df.chapter.isna()]"
   ]
  },
  {
   "cell_type": "code",
   "execution_count": 30,
   "id": "d5b8145a-350d-4e72-9409-73265fdd67c6",
   "metadata": {},
   "outputs": [
    {
     "data": {
      "text/html": [
       "<div>\n",
       "<style scoped>\n",
       "    .dataframe tbody tr th:only-of-type {\n",
       "        vertical-align: middle;\n",
       "    }\n",
       "\n",
       "    .dataframe tbody tr th {\n",
       "        vertical-align: top;\n",
       "    }\n",
       "\n",
       "    .dataframe thead th {\n",
       "        text-align: right;\n",
       "    }\n",
       "</style>\n",
       "<table border=\"1\" class=\"dataframe\">\n",
       "  <thead>\n",
       "    <tr style=\"text-align: right;\">\n",
       "      <th></th>\n",
       "      <th>title_url</th>\n",
       "      <th>chapter_num</th>\n",
       "      <th>chapter</th>\n",
       "      <th>author_url</th>\n",
       "      <th>title</th>\n",
       "      <th>year</th>\n",
       "      <th>author</th>\n",
       "      <th>born</th>\n",
       "      <th>died</th>\n",
       "    </tr>\n",
       "  </thead>\n",
       "  <tbody>\n",
       "    <tr>\n",
       "      <th>6678</th>\n",
       "      <td>/diderot/rameaus/rameaus.html</td>\n",
       "      <td>0</td>\n",
       "      <td>Mit Zeichnungen von Antoine Watteau»Rameaus Ne...</td>\n",
       "      <td>goethe</td>\n",
       "      <td>Rameaus Neffe</td>\n",
       "      <td>NaN</td>\n",
       "      <td>Johann Wolfgang von Goethe</td>\n",
       "      <td>1749</td>\n",
       "      <td>1832</td>\n",
       "    </tr>\n",
       "    <tr>\n",
       "      <th>6679</th>\n",
       "      <td>/diderot/rameaus/rameaus.html</td>\n",
       "      <td>1</td>\n",
       "      <td>Es mag schön oder häßlich Wetter sein, meine G...</td>\n",
       "      <td>goethe</td>\n",
       "      <td>Rameaus Neffe</td>\n",
       "      <td>NaN</td>\n",
       "      <td>Johann Wolfgang von Goethe</td>\n",
       "      <td>1749</td>\n",
       "      <td>1832</td>\n",
       "    </tr>\n",
       "    <tr>\n",
       "      <th>6680</th>\n",
       "      <td>/diderot/rameaus/rameaus.html</td>\n",
       "      <td>2</td>\n",
       "      <td>Der Übersetzer hatte sich vorgenommen, die Per...</td>\n",
       "      <td>goethe</td>\n",
       "      <td>Rameaus Neffe</td>\n",
       "      <td>NaN</td>\n",
       "      <td>Johann Wolfgang von Goethe</td>\n",
       "      <td>1749</td>\n",
       "      <td>1832</td>\n",
       "    </tr>\n",
       "    <tr>\n",
       "      <th>6681</th>\n",
       "      <td>/diderot/rameaus/rameaus.html</td>\n",
       "      <td>3</td>\n",
       "      <td>Nachdem die französische Übersetzung des Dider...</td>\n",
       "      <td>goethe</td>\n",
       "      <td>Rameaus Neffe</td>\n",
       "      <td>NaN</td>\n",
       "      <td>Johann Wolfgang von Goethe</td>\n",
       "      <td>1749</td>\n",
       "      <td>1832</td>\n",
       "    </tr>\n",
       "    <tr>\n",
       "      <th>7217</th>\n",
       "      <td>/lenz/empfinds/empfinds.html</td>\n",
       "      <td>0</td>\n",
       "      <td>oder \\n\\n</td>\n",
       "      <td>lenz</td>\n",
       "      <td>Empfindsamster aller Romane</td>\n",
       "      <td>NaN</td>\n",
       "      <td>Jakob Lenz</td>\n",
       "      <td>1751</td>\n",
       "      <td>1792</td>\n",
       "    </tr>\n",
       "  </tbody>\n",
       "</table>\n",
       "</div>"
      ],
      "text/plain": [
       "                          title_url  chapter_num  \\\n",
       "6678  /diderot/rameaus/rameaus.html            0   \n",
       "6679  /diderot/rameaus/rameaus.html            1   \n",
       "6680  /diderot/rameaus/rameaus.html            2   \n",
       "6681  /diderot/rameaus/rameaus.html            3   \n",
       "7217   /lenz/empfinds/empfinds.html            0   \n",
       "\n",
       "                                                chapter author_url  \\\n",
       "6678  Mit Zeichnungen von Antoine Watteau»Rameaus Ne...     goethe   \n",
       "6679  Es mag schön oder häßlich Wetter sein, meine G...     goethe   \n",
       "6680  Der Übersetzer hatte sich vorgenommen, die Per...     goethe   \n",
       "6681  Nachdem die französische Übersetzung des Dider...     goethe   \n",
       "7217                                        oder \\n\\n         lenz   \n",
       "\n",
       "                            title year                      author  born  died  \n",
       "6678                Rameaus Neffe  NaN  Johann Wolfgang von Goethe  1749  1832  \n",
       "6679                Rameaus Neffe  NaN  Johann Wolfgang von Goethe  1749  1832  \n",
       "6680                Rameaus Neffe  NaN  Johann Wolfgang von Goethe  1749  1832  \n",
       "6681                Rameaus Neffe  NaN  Johann Wolfgang von Goethe  1749  1832  \n",
       "7217  Empfindsamster aller Romane  NaN                  Jakob Lenz  1751  1792  "
      ]
     },
     "execution_count": 30,
     "metadata": {},
     "output_type": "execute_result"
    }
   ],
   "source": [
    "df.loc[df.year.isna()].head()"
   ]
  },
  {
   "cell_type": "markdown",
   "id": "9ff92c75-ff24-4d8e-971c-fde2ce8b434f",
   "metadata": {},
   "source": [
    "Also some of the rows do not have a year-value. After looking into it, a possible reason is that the metadata for 'firstpub' exists, but only consists of an empty string. We can tweak the data collection code for this later."
   ]
  },
  {
   "cell_type": "code",
   "execution_count": 31,
   "id": "4d732ce6-dd84-4b35-aa1c-68ba885a7b2a",
   "metadata": {},
   "outputs": [],
   "source": [
    "df = df.loc[~df.year.isna()]"
   ]
  },
  {
   "cell_type": "markdown",
   "id": "2dc110f7-9c81-42ac-ac5d-6793552ab88b",
   "metadata": {},
   "source": [
    "In some collections (often collections of poems) there are title pages where 'Projekt Gutenberg' is mentioned. This doesn't belong to the original book."
   ]
  },
  {
   "cell_type": "code",
   "execution_count": 33,
   "id": "47c3b271-4439-4368-9c21-acadd8c0f753",
   "metadata": {},
   "outputs": [],
   "source": [
    "df = df.loc[~df.chapter.str.contains('Projekt Gutenberg')]"
   ]
  },
  {
   "cell_type": "markdown",
   "id": "41060c09-9da4-47b9-93be-63ca8bad8bd0",
   "metadata": {},
   "source": [
    "For the first iteration it is enough for us to consider books where the year of first publishment was already given in the metadata of the webpage. We assigned the values 0 (for missing firstpub-data / or data in the wrong format) and 2 (url status_code different from 200) to titles with missing years.\n",
    "\n",
    "Because of some missing years, we first have to convert the year-data into integer values."
   ]
  },
  {
   "cell_type": "code",
   "execution_count": 36,
   "id": "278fd1d1-d10d-4e29-8d2c-dd718e21f592",
   "metadata": {},
   "outputs": [
    {
     "ename": "ValueError",
     "evalue": "Unable to parse string \"1800-1801\" at position 1508",
     "output_type": "error",
     "traceback": [
      "\u001b[1;31m---------------------------------------------------------------------------\u001b[0m",
      "\u001b[1;31mValueError\u001b[0m                                Traceback (most recent call last)",
      "\u001b[1;32m~\\anaconda3\\lib\\site-packages\\pandas\\_libs\\lib.pyx\u001b[0m in \u001b[0;36mpandas._libs.lib.maybe_convert_numeric\u001b[1;34m()\u001b[0m\n",
      "\u001b[1;31mValueError\u001b[0m: Unable to parse string \"1800-1801\"",
      "\nDuring handling of the above exception, another exception occurred:\n",
      "\u001b[1;31mValueError\u001b[0m                                Traceback (most recent call last)",
      "\u001b[1;32m~\\AppData\\Local\\Temp/ipykernel_3184/3324939045.py\u001b[0m in \u001b[0;36m<module>\u001b[1;34m\u001b[0m\n\u001b[1;32m----> 1\u001b[1;33m \u001b[0mdf\u001b[0m\u001b[1;33m[\u001b[0m\u001b[1;34m'year'\u001b[0m\u001b[1;33m]\u001b[0m \u001b[1;33m=\u001b[0m \u001b[0mpd\u001b[0m\u001b[1;33m.\u001b[0m\u001b[0mto_numeric\u001b[0m\u001b[1;33m(\u001b[0m\u001b[0mdf\u001b[0m\u001b[1;33m[\u001b[0m\u001b[1;34m'year'\u001b[0m\u001b[1;33m]\u001b[0m\u001b[1;33m)\u001b[0m\u001b[1;33m\u001b[0m\u001b[1;33m\u001b[0m\u001b[0m\n\u001b[0m",
      "\u001b[1;32m~\\anaconda3\\lib\\site-packages\\pandas\\core\\tools\\numeric.py\u001b[0m in \u001b[0;36mto_numeric\u001b[1;34m(arg, errors, downcast)\u001b[0m\n\u001b[0;32m    181\u001b[0m         \u001b[0mcoerce_numeric\u001b[0m \u001b[1;33m=\u001b[0m \u001b[0merrors\u001b[0m \u001b[1;32mnot\u001b[0m \u001b[1;32min\u001b[0m \u001b[1;33m(\u001b[0m\u001b[1;34m\"ignore\"\u001b[0m\u001b[1;33m,\u001b[0m \u001b[1;34m\"raise\"\u001b[0m\u001b[1;33m)\u001b[0m\u001b[1;33m\u001b[0m\u001b[1;33m\u001b[0m\u001b[0m\n\u001b[0;32m    182\u001b[0m         \u001b[1;32mtry\u001b[0m\u001b[1;33m:\u001b[0m\u001b[1;33m\u001b[0m\u001b[1;33m\u001b[0m\u001b[0m\n\u001b[1;32m--> 183\u001b[1;33m             values, _ = lib.maybe_convert_numeric(\n\u001b[0m\u001b[0;32m    184\u001b[0m                 \u001b[0mvalues\u001b[0m\u001b[1;33m,\u001b[0m \u001b[0mset\u001b[0m\u001b[1;33m(\u001b[0m\u001b[1;33m)\u001b[0m\u001b[1;33m,\u001b[0m \u001b[0mcoerce_numeric\u001b[0m\u001b[1;33m=\u001b[0m\u001b[0mcoerce_numeric\u001b[0m\u001b[1;33m\u001b[0m\u001b[1;33m\u001b[0m\u001b[0m\n\u001b[0;32m    185\u001b[0m             )\n",
      "\u001b[1;32m~\\anaconda3\\lib\\site-packages\\pandas\\_libs\\lib.pyx\u001b[0m in \u001b[0;36mpandas._libs.lib.maybe_convert_numeric\u001b[1;34m()\u001b[0m\n",
      "\u001b[1;31mValueError\u001b[0m: Unable to parse string \"1800-1801\" at position 1508"
     ]
    }
   ],
   "source": [
    "#df['year'] = pd.to_numeric(df['year'])"
   ]
  },
  {
   "cell_type": "markdown",
   "id": "a2ab17b8-3b9c-4d56-bb10-49c404a71258",
   "metadata": {},
   "source": [
    "We are unable to do so, because some strings are of the form \n",
    "- '1800-1801' or\n",
    "- '1778/79' or\n",
    "- '1854/1855'. \n",
    "To keep things simple, we will just keep the first numbers (first 4 characters)."
   ]
  },
  {
   "cell_type": "code",
   "execution_count": 42,
   "id": "dee8df0c-4765-4644-a22c-2be969df8db9",
   "metadata": {
    "collapsed": true,
    "jupyter": {
     "outputs_hidden": true
    },
    "tags": []
   },
   "outputs": [
    {
     "data": {
      "text/html": [
       "<div>\n",
       "<style scoped>\n",
       "    .dataframe tbody tr th:only-of-type {\n",
       "        vertical-align: middle;\n",
       "    }\n",
       "\n",
       "    .dataframe tbody tr th {\n",
       "        vertical-align: top;\n",
       "    }\n",
       "\n",
       "    .dataframe thead th {\n",
       "        text-align: right;\n",
       "    }\n",
       "</style>\n",
       "<table border=\"1\" class=\"dataframe\">\n",
       "  <thead>\n",
       "    <tr style=\"text-align: right;\">\n",
       "      <th></th>\n",
       "      <th>title_url</th>\n",
       "      <th>chapter_num</th>\n",
       "      <th>chapter</th>\n",
       "      <th>author_url</th>\n",
       "      <th>title</th>\n",
       "      <th>year</th>\n",
       "      <th>author</th>\n",
       "      <th>born</th>\n",
       "      <th>died</th>\n",
       "    </tr>\n",
       "  </thead>\n",
       "  <tbody>\n",
       "    <tr>\n",
       "      <th>7913</th>\n",
       "      <td>/herder/volklied/volklied.html</td>\n",
       "      <td>121</td>\n",
       "      <td>Spanisch.Aus Gongora Romanc. Liricos p. 328.O ...</td>\n",
       "      <td>herder</td>\n",
       "      <td>Stimmen der Völker in Liedern</td>\n",
       "      <td>1778/79</td>\n",
       "      <td>Johann Gottfried Herder</td>\n",
       "      <td>1744</td>\n",
       "      <td>1803</td>\n",
       "    </tr>\n",
       "    <tr>\n",
       "      <th>36940</th>\n",
       "      <td>/musil/mannohne/mannohne.html</td>\n",
       "      <td>98</td>\n",
       "      <td>Aus einem Staat, der an einem Sprachfehler zug...</td>\n",
       "      <td>musil</td>\n",
       "      <td>Der Mann ohne Eigenschaften. Erstes Buch</td>\n",
       "      <td>1930 - 1932</td>\n",
       "      <td>Robert Musil</td>\n",
       "      <td>1880</td>\n",
       "      <td>1942</td>\n",
       "    </tr>\n",
       "    <tr>\n",
       "      <th>28288</th>\n",
       "      <td>/gotthelf/annebae2/annebae2.html</td>\n",
       "      <td>9</td>\n",
       "      <td>Der Bub ward plötzlich krank, das heißt, man w...</td>\n",
       "      <td>gotthelf</td>\n",
       "      <td>Wie Anne Bäbi Jowäger haushaltet und wie es ih...</td>\n",
       "      <td>1843/44</td>\n",
       "      <td>Jeremias Gotthelf</td>\n",
       "      <td>1797</td>\n",
       "      <td>1854</td>\n",
       "    </tr>\n",
       "    <tr>\n",
       "      <th>1759</th>\n",
       "      <td>/wieland/aristipp/aristipp.html</td>\n",
       "      <td>180</td>\n",
       "      <td>Ich für meine Person, wurde auf eine angenehme...</td>\n",
       "      <td>wieland</td>\n",
       "      <td>Aristipp</td>\n",
       "      <td>1800-1801</td>\n",
       "      <td>Christoph Martin Wieland</td>\n",
       "      <td>1733</td>\n",
       "      <td>1813</td>\n",
       "    </tr>\n",
       "    <tr>\n",
       "      <th>1753</th>\n",
       "      <td>/wieland/aristipp/aristipp.html</td>\n",
       "      <td>174</td>\n",
       "      <td>Der Platonische Sokrates hat, seinem eigenen m...</td>\n",
       "      <td>wieland</td>\n",
       "      <td>Aristipp</td>\n",
       "      <td>1800-1801</td>\n",
       "      <td>Christoph Martin Wieland</td>\n",
       "      <td>1733</td>\n",
       "      <td>1813</td>\n",
       "    </tr>\n",
       "    <tr>\n",
       "      <th>7651</th>\n",
       "      <td>/herder/humanita/humanita.html</td>\n",
       "      <td>9</td>\n",
       "      <td>Sechstes Fragment\\n      Wiederauflebung der ...</td>\n",
       "      <td>herder</td>\n",
       "      <td>Briefe zu Beförderung der Humanität</td>\n",
       "      <td>1793 - 1797</td>\n",
       "      <td>Johann Gottfried Herder</td>\n",
       "      <td>1744</td>\n",
       "      <td>1803</td>\n",
       "    </tr>\n",
       "    <tr>\n",
       "      <th>29286</th>\n",
       "      <td>/gutzkow/zauber6/zauber6.html</td>\n",
       "      <td>1</td>\n",
       "      <td>Als im ersten Beginn des diesjährigen Frühling...</td>\n",
       "      <td>gutzkow</td>\n",
       "      <td>Der Zauberer von Rom, 6. Buch</td>\n",
       "      <td>1858-61</td>\n",
       "      <td>Karl Gutzkow</td>\n",
       "      <td>1811</td>\n",
       "      <td>1878</td>\n",
       "    </tr>\n",
       "    <tr>\n",
       "      <th>7850</th>\n",
       "      <td>/herder/volklied/volklied.html</td>\n",
       "      <td>58</td>\n",
       "      <td>Deutsch.Es ist kein lieber Ding auf Erden,\\n  ...</td>\n",
       "      <td>herder</td>\n",
       "      <td>Stimmen der Völker in Liedern</td>\n",
       "      <td>1778/79</td>\n",
       "      <td>Johann Gottfried Herder</td>\n",
       "      <td>1744</td>\n",
       "      <td>1803</td>\n",
       "    </tr>\n",
       "    <tr>\n",
       "      <th>7936</th>\n",
       "      <td>/herder/volklied/volklied.html</td>\n",
       "      <td>144</td>\n",
       "      <td>Spanisch.S. hist. de las guerr. Civil, p. 463....</td>\n",
       "      <td>herder</td>\n",
       "      <td>Stimmen der Völker in Liedern</td>\n",
       "      <td>1778/79</td>\n",
       "      <td>Johann Gottfried Herder</td>\n",
       "      <td>1744</td>\n",
       "      <td>1803</td>\n",
       "    </tr>\n",
       "    <tr>\n",
       "      <th>36847</th>\n",
       "      <td>/musil/mannohne/mannohne.html</td>\n",
       "      <td>5</td>\n",
       "      <td>Ulrich Der Mann ohne Eigenschaften, von dem hi...</td>\n",
       "      <td>musil</td>\n",
       "      <td>Der Mann ohne Eigenschaften. Erstes Buch</td>\n",
       "      <td>1930 - 1932</td>\n",
       "      <td>Robert Musil</td>\n",
       "      <td>1880</td>\n",
       "      <td>1942</td>\n",
       "    </tr>\n",
       "    <tr>\n",
       "      <th>31826</th>\n",
       "      <td>/freytag/dvergang/dvergang.html</td>\n",
       "      <td>45</td>\n",
       "      <td>(Darauf kehrt Petersen in seine Heimat Lübeck ...</td>\n",
       "      <td>freytag</td>\n",
       "      <td>Bilder aus der deutschen Vergangenheit</td>\n",
       "      <td>1859-67</td>\n",
       "      <td>Gustav Freytag</td>\n",
       "      <td>1816</td>\n",
       "      <td>1895</td>\n",
       "    </tr>\n",
       "    <tr>\n",
       "      <th>7975</th>\n",
       "      <td>/herder/volklied/volklied.html</td>\n",
       "      <td>183</td>\n",
       "      <td>Trauet den Weißen nicht, ihr Bewohner des Ufer...</td>\n",
       "      <td>herder</td>\n",
       "      <td>Stimmen der Völker in Liedern</td>\n",
       "      <td>1778/79</td>\n",
       "      <td>Johann Gottfried Herder</td>\n",
       "      <td>1744</td>\n",
       "      <td>1803</td>\n",
       "    </tr>\n",
       "    <tr>\n",
       "      <th>7906</th>\n",
       "      <td>/herder/volklied/volklied.html</td>\n",
       "      <td>114</td>\n",
       "      <td>Englisch.Desgleichen aus Dodsley's Collect T. ...</td>\n",
       "      <td>herder</td>\n",
       "      <td>Stimmen der Völker in Liedern</td>\n",
       "      <td>1778/79</td>\n",
       "      <td>Johann Gottfried Herder</td>\n",
       "      <td>1744</td>\n",
       "      <td>1803</td>\n",
       "    </tr>\n",
       "    <tr>\n",
       "      <th>7822</th>\n",
       "      <td>/herder/volklied/volklied.html</td>\n",
       "      <td>30</td>\n",
       "      <td>Schottisch.(Reliqu. T. I. p. 35.) Ein graulich...</td>\n",
       "      <td>herder</td>\n",
       "      <td>Stimmen der Völker in Liedern</td>\n",
       "      <td>1778/79</td>\n",
       "      <td>Johann Gottfried Herder</td>\n",
       "      <td>1744</td>\n",
       "      <td>1803</td>\n",
       "    </tr>\n",
       "    <tr>\n",
       "      <th>33272</th>\n",
       "      <td>/keller/heinric1/heinric1.html</td>\n",
       "      <td>4</td>\n",
       "      <td>Nicht ohne Herzklopfen vernahm er nun, daß man...</td>\n",
       "      <td>keller</td>\n",
       "      <td>Der grüne Heinrich</td>\n",
       "      <td>1854/1855</td>\n",
       "      <td>Gottfried Keller</td>\n",
       "      <td>1819</td>\n",
       "      <td>1890</td>\n",
       "    </tr>\n",
       "    <tr>\n",
       "      <th>36976</th>\n",
       "      <td>/musil/mannohn2/mannohn2.html</td>\n",
       "      <td>10</td>\n",
       "      <td>Weiterer Verlauf des Ausflugs auf die Schweden...</td>\n",
       "      <td>musil</td>\n",
       "      <td>Der Mann ohne Eigenschaften. Zweites Buch</td>\n",
       "      <td>1930 - 1932</td>\n",
       "      <td>Robert Musil</td>\n",
       "      <td>1880</td>\n",
       "      <td>1942</td>\n",
       "    </tr>\n",
       "    <tr>\n",
       "      <th>1776</th>\n",
       "      <td>/wieland/aristipp/aristipp.html</td>\n",
       "      <td>197</td>\n",
       "      <td>Ichthyofagen, (Fischesser) diejenige Klasse de...</td>\n",
       "      <td>wieland</td>\n",
       "      <td>Aristipp</td>\n",
       "      <td>1800-1801</td>\n",
       "      <td>Christoph Martin Wieland</td>\n",
       "      <td>1733</td>\n",
       "      <td>1813</td>\n",
       "    </tr>\n",
       "    <tr>\n",
       "      <th>31784</th>\n",
       "      <td>/freytag/dvergang/dvergang.html</td>\n",
       "      <td>3</td>\n",
       "      <td>Um 1100Sinnigkeit des deutschen Gemütes. Liebe...</td>\n",
       "      <td>freytag</td>\n",
       "      <td>Bilder aus der deutschen Vergangenheit</td>\n",
       "      <td>1859-67</td>\n",
       "      <td>Gustav Freytag</td>\n",
       "      <td>1816</td>\n",
       "      <td>1895</td>\n",
       "    </tr>\n",
       "    <tr>\n",
       "      <th>1693</th>\n",
       "      <td>/wieland/aristipp/aristipp.html</td>\n",
       "      <td>114</td>\n",
       "      <td>Ich bin dir, Dank sey den Göttern, wieder so n...</td>\n",
       "      <td>wieland</td>\n",
       "      <td>Aristipp</td>\n",
       "      <td>1800-1801</td>\n",
       "      <td>Christoph Martin Wieland</td>\n",
       "      <td>1733</td>\n",
       "      <td>1813</td>\n",
       "    </tr>\n",
       "    <tr>\n",
       "      <th>1627</th>\n",
       "      <td>/wieland/aristipp/aristipp.html</td>\n",
       "      <td>48</td>\n",
       "      <td>Der gute Genius deines gastfreundlichen Hauses...</td>\n",
       "      <td>wieland</td>\n",
       "      <td>Aristipp</td>\n",
       "      <td>1800-1801</td>\n",
       "      <td>Christoph Martin Wieland</td>\n",
       "      <td>1733</td>\n",
       "      <td>1813</td>\n",
       "    </tr>\n",
       "    <tr>\n",
       "      <th>27910</th>\n",
       "      <td>/gotthelf/geltstag/geltstag.html</td>\n",
       "      <td>25</td>\n",
       "      <td>Wie es doch so wunderbar geht! Während an eine...</td>\n",
       "      <td>gotthelf</td>\n",
       "      <td>Der Geltstag</td>\n",
       "      <td>1845/46</td>\n",
       "      <td>Jeremias Gotthelf</td>\n",
       "      <td>1797</td>\n",
       "      <td>1854</td>\n",
       "    </tr>\n",
       "    <tr>\n",
       "      <th>28269</th>\n",
       "      <td>/gotthelf/annebae1/annebae1.html</td>\n",
       "      <td>15</td>\n",
       "      <td>Am folgenden Morgen kam die Mutter und nahm di...</td>\n",
       "      <td>gotthelf</td>\n",
       "      <td>Wie Anne Bäbi Jowäger haushaltet und wie es ih...</td>\n",
       "      <td>1843/44</td>\n",
       "      <td>Jeremias Gotthelf</td>\n",
       "      <td>1797</td>\n",
       "      <td>1854</td>\n",
       "    </tr>\n",
       "    <tr>\n",
       "      <th>7813</th>\n",
       "      <td>/herder/volklied/volklied.html</td>\n",
       "      <td>21</td>\n",
       "      <td>Englisch.Aus einer Englischen Sammlung Lieder ...</td>\n",
       "      <td>herder</td>\n",
       "      <td>Stimmen der Völker in Liedern</td>\n",
       "      <td>1778/79</td>\n",
       "      <td>Johann Gottfried Herder</td>\n",
       "      <td>1744</td>\n",
       "      <td>1803</td>\n",
       "    </tr>\n",
       "    <tr>\n",
       "      <th>37031</th>\n",
       "      <td>/musil/mannohn3/mannohn3.html</td>\n",
       "      <td>26</td>\n",
       "      <td>Agathe findet Ulrichs Tagebuch Dieweil Ulrich ...</td>\n",
       "      <td>musil</td>\n",
       "      <td>Der Mann ohne Eigenschaften. Schluß des dritte...</td>\n",
       "      <td>1930 - 1932</td>\n",
       "      <td>Robert Musil</td>\n",
       "      <td>1880</td>\n",
       "      <td>1942</td>\n",
       "    </tr>\n",
       "    <tr>\n",
       "      <th>1674</th>\n",
       "      <td>/wieland/aristipp/aristipp.html</td>\n",
       "      <td>95</td>\n",
       "      <td>Mein Anschlag ist gelungen. Arasambes läßt sic...</td>\n",
       "      <td>wieland</td>\n",
       "      <td>Aristipp</td>\n",
       "      <td>1800-1801</td>\n",
       "      <td>Christoph Martin Wieland</td>\n",
       "      <td>1733</td>\n",
       "      <td>1813</td>\n",
       "    </tr>\n",
       "    <tr>\n",
       "      <th>7885</th>\n",
       "      <td>/herder/volklied/volklied.html</td>\n",
       "      <td>93</td>\n",
       "      <td>Englisch.Das bekannte Original steht in Percy ...</td>\n",
       "      <td>herder</td>\n",
       "      <td>Stimmen der Völker in Liedern</td>\n",
       "      <td>1778/79</td>\n",
       "      <td>Johann Gottfried Herder</td>\n",
       "      <td>1744</td>\n",
       "      <td>1803</td>\n",
       "    </tr>\n",
       "    <tr>\n",
       "      <th>37007</th>\n",
       "      <td>/musil/mannohn3/mannohn3.html</td>\n",
       "      <td>2</td>\n",
       "      <td>Der Tugut Es gibt gegen die unberechenbaren Re...</td>\n",
       "      <td>musil</td>\n",
       "      <td>Der Mann ohne Eigenschaften. Schluß des dritte...</td>\n",
       "      <td>1930 - 1932</td>\n",
       "      <td>Robert Musil</td>\n",
       "      <td>1880</td>\n",
       "      <td>1942</td>\n",
       "    </tr>\n",
       "    <tr>\n",
       "      <th>1610</th>\n",
       "      <td>/wieland/aristipp/aristipp.html</td>\n",
       "      <td>31</td>\n",
       "      <td>Wenn eine Frau die Neugier eines Mannes geflis...</td>\n",
       "      <td>wieland</td>\n",
       "      <td>Aristipp</td>\n",
       "      <td>1800-1801</td>\n",
       "      <td>Christoph Martin Wieland</td>\n",
       "      <td>1733</td>\n",
       "      <td>1813</td>\n",
       "    </tr>\n",
       "    <tr>\n",
       "      <th>29298</th>\n",
       "      <td>/gutzkow/zauber7/zauber7.html</td>\n",
       "      <td>1</td>\n",
       "      <td>Wol schon dreißig Jahre mochte Pater Vincente ...</td>\n",
       "      <td>gutzkow</td>\n",
       "      <td>Der Zauberer von Rom, 7. Buch</td>\n",
       "      <td>1858-61</td>\n",
       "      <td>Karl Gutzkow</td>\n",
       "      <td>1811</td>\n",
       "      <td>1878</td>\n",
       "    </tr>\n",
       "    <tr>\n",
       "      <th>1644</th>\n",
       "      <td>/wieland/aristipp/aristipp.html</td>\n",
       "      <td>65</td>\n",
       "      <td>Die Urtheile der Syrakusaner über die heroisch...</td>\n",
       "      <td>wieland</td>\n",
       "      <td>Aristipp</td>\n",
       "      <td>1800-1801</td>\n",
       "      <td>Christoph Martin Wieland</td>\n",
       "      <td>1733</td>\n",
       "      <td>1813</td>\n",
       "    </tr>\n",
       "    <tr>\n",
       "      <th>7894</th>\n",
       "      <td>/herder/volklied/volklied.html</td>\n",
       "      <td>102</td>\n",
       "      <td>Deutsch.&lt;Vgl. zu Nr. 30&gt;        Traurig ein Wa...</td>\n",
       "      <td>herder</td>\n",
       "      <td>Stimmen der Völker in Liedern</td>\n",
       "      <td>1778/79</td>\n",
       "      <td>Johann Gottfried Herder</td>\n",
       "      <td>1744</td>\n",
       "      <td>1803</td>\n",
       "    </tr>\n",
       "    <tr>\n",
       "      <th>1769</th>\n",
       "      <td>/wieland/aristipp/aristipp.html</td>\n",
       "      <td>190</td>\n",
       "      <td>Mehr als zehen Jahre sind schon verflossen, se...</td>\n",
       "      <td>wieland</td>\n",
       "      <td>Aristipp</td>\n",
       "      <td>1800-1801</td>\n",
       "      <td>Christoph Martin Wieland</td>\n",
       "      <td>1733</td>\n",
       "      <td>1813</td>\n",
       "    </tr>\n",
       "    <tr>\n",
       "      <th>7970</th>\n",
       "      <td>/herder/volklied/volklied.html</td>\n",
       "      <td>178</td>\n",
       "      <td>Eine Böhmische Sage.Aus der Mitte des neunten ...</td>\n",
       "      <td>herder</td>\n",
       "      <td>Stimmen der Völker in Liedern</td>\n",
       "      <td>1778/79</td>\n",
       "      <td>Johann Gottfried Herder</td>\n",
       "      <td>1744</td>\n",
       "      <td>1803</td>\n",
       "    </tr>\n",
       "    <tr>\n",
       "      <th>1592</th>\n",
       "      <td>/wieland/aristipp/aristipp.html</td>\n",
       "      <td>13</td>\n",
       "      <td>Daß Sokrates, wenn er mit andern filosofiert, ...</td>\n",
       "      <td>wieland</td>\n",
       "      <td>Aristipp</td>\n",
       "      <td>1800-1801</td>\n",
       "      <td>Christoph Martin Wieland</td>\n",
       "      <td>1733</td>\n",
       "      <td>1813</td>\n",
       "    </tr>\n",
       "    <tr>\n",
       "      <th>37032</th>\n",
       "      <td>/musil/mannohn3/mannohn3.html</td>\n",
       "      <td>27</td>\n",
       "      <td>Große Veränderungen Ulrich hatte dem General d...</td>\n",
       "      <td>musil</td>\n",
       "      <td>Der Mann ohne Eigenschaften. Schluß des dritte...</td>\n",
       "      <td>1930 - 1932</td>\n",
       "      <td>Robert Musil</td>\n",
       "      <td>1880</td>\n",
       "      <td>1942</td>\n",
       "    </tr>\n",
       "    <tr>\n",
       "      <th>36987</th>\n",
       "      <td>/musil/mannohn2/mannohn2.html</td>\n",
       "      <td>21</td>\n",
       "      <td>Wirf alles, was du hast, ins Feuer, bis zu den...</td>\n",
       "      <td>musil</td>\n",
       "      <td>Der Mann ohne Eigenschaften. Zweites Buch</td>\n",
       "      <td>1930 - 1932</td>\n",
       "      <td>Robert Musil</td>\n",
       "      <td>1880</td>\n",
       "      <td>1942</td>\n",
       "    </tr>\n",
       "    <tr>\n",
       "      <th>36961</th>\n",
       "      <td>/musil/mannohne/mannohne.html</td>\n",
       "      <td>119</td>\n",
       "      <td>Kontermine und Verführung Damals sah es aus, a...</td>\n",
       "      <td>musil</td>\n",
       "      <td>Der Mann ohne Eigenschaften. Erstes Buch</td>\n",
       "      <td>1930 - 1932</td>\n",
       "      <td>Robert Musil</td>\n",
       "      <td>1880</td>\n",
       "      <td>1942</td>\n",
       "    </tr>\n",
       "    <tr>\n",
       "      <th>7968</th>\n",
       "      <td>/herder/volklied/volklied.html</td>\n",
       "      <td>176</td>\n",
       "      <td>Deutsch.Wer was weiß, der schweig',\\n      Wem...</td>\n",
       "      <td>herder</td>\n",
       "      <td>Stimmen der Völker in Liedern</td>\n",
       "      <td>1778/79</td>\n",
       "      <td>Johann Gottfried Herder</td>\n",
       "      <td>1744</td>\n",
       "      <td>1803</td>\n",
       "    </tr>\n",
       "    <tr>\n",
       "      <th>33305</th>\n",
       "      <td>/keller/heinric1/heinric1.html</td>\n",
       "      <td>37</td>\n",
       "      <td>Blüh auf, gefrorner Christ! Der Mai ist vor de...</td>\n",
       "      <td>keller</td>\n",
       "      <td>Der grüne Heinrich</td>\n",
       "      <td>1854/1855</td>\n",
       "      <td>Gottfried Keller</td>\n",
       "      <td>1819</td>\n",
       "      <td>1890</td>\n",
       "    </tr>\n",
       "    <tr>\n",
       "      <th>4712</th>\n",
       "      <td>/goethe/dichwah1/dichwah1.html</td>\n",
       "      <td>0</td>\n",
       "      <td>Der Tempel-Verlag in Leipzig</td>\n",
       "      <td>goethe</td>\n",
       "      <td>Dichtung und Wahrheit. Erster und zweiter Teil</td>\n",
       "      <td>1811 - 1812</td>\n",
       "      <td>Johann Wolfgang von Goethe</td>\n",
       "      <td>1749</td>\n",
       "      <td>1832</td>\n",
       "    </tr>\n",
       "    <tr>\n",
       "      <th>7879</th>\n",
       "      <td>/herder/volklied/volklied.html</td>\n",
       "      <td>87</td>\n",
       "      <td>aus dem 13ten Jahrhundert.Von Thibault, Grafen...</td>\n",
       "      <td>herder</td>\n",
       "      <td>Stimmen der Völker in Liedern</td>\n",
       "      <td>1778/79</td>\n",
       "      <td>Johann Gottfried Herder</td>\n",
       "      <td>1744</td>\n",
       "      <td>1803</td>\n",
       "    </tr>\n",
       "    <tr>\n",
       "      <th>1631</th>\n",
       "      <td>/wieland/aristipp/aristipp.html</td>\n",
       "      <td>52</td>\n",
       "      <td>Du ahnest wohl nicht, schöne Lais, daß drey in...</td>\n",
       "      <td>wieland</td>\n",
       "      <td>Aristipp</td>\n",
       "      <td>1800-1801</td>\n",
       "      <td>Christoph Martin Wieland</td>\n",
       "      <td>1733</td>\n",
       "      <td>1813</td>\n",
       "    </tr>\n",
       "    <tr>\n",
       "      <th>2721</th>\n",
       "      <td>/wieland/gedicht2/gedicht2.html</td>\n",
       "      <td>4</td>\n",
       "      <td>(Nach den Lays de l'Oiselet in den Fabliaux et...</td>\n",
       "      <td>wieland</td>\n",
       "      <td>Pervonte oder die Wünsche</td>\n",
       "      <td>1778-1796</td>\n",
       "      <td>Christoph Martin Wieland</td>\n",
       "      <td>1733</td>\n",
       "      <td>1813</td>\n",
       "    </tr>\n",
       "    <tr>\n",
       "      <th>7901</th>\n",
       "      <td>/herder/volklied/volklied.html</td>\n",
       "      <td>109</td>\n",
       "      <td>Lappländisch.Ein aus Kleists Nachbildung gnugs...</td>\n",
       "      <td>herder</td>\n",
       "      <td>Stimmen der Völker in Liedern</td>\n",
       "      <td>1778/79</td>\n",
       "      <td>Johann Gottfried Herder</td>\n",
       "      <td>1744</td>\n",
       "      <td>1803</td>\n",
       "    </tr>\n",
       "    <tr>\n",
       "      <th>31803</th>\n",
       "      <td>/freytag/dvergang/dvergang.html</td>\n",
       "      <td>22</td>\n",
       "      <td>(1509 und folgende Jahre)Charakteristisches de...</td>\n",
       "      <td>freytag</td>\n",
       "      <td>Bilder aus der deutschen Vergangenheit</td>\n",
       "      <td>1859-67</td>\n",
       "      <td>Gustav Freytag</td>\n",
       "      <td>1816</td>\n",
       "      <td>1895</td>\n",
       "    </tr>\n",
       "    <tr>\n",
       "      <th>7958</th>\n",
       "      <td>/herder/volklied/volklied.html</td>\n",
       "      <td>166</td>\n",
       "      <td>In der Ausgabe von 1807 aus Herders Nachlaß hi...</td>\n",
       "      <td>herder</td>\n",
       "      <td>Stimmen der Völker in Liedern</td>\n",
       "      <td>1778/79</td>\n",
       "      <td>Johann Gottfried Herder</td>\n",
       "      <td>1744</td>\n",
       "      <td>1803</td>\n",
       "    </tr>\n",
       "    <tr>\n",
       "      <th>36921</th>\n",
       "      <td>/musil/mannohne/mannohne.html</td>\n",
       "      <td>79</td>\n",
       "      <td>Soliman liebt Soliman, der kleine Negersklave,...</td>\n",
       "      <td>musil</td>\n",
       "      <td>Der Mann ohne Eigenschaften. Erstes Buch</td>\n",
       "      <td>1930 - 1932</td>\n",
       "      <td>Robert Musil</td>\n",
       "      <td>1880</td>\n",
       "      <td>1942</td>\n",
       "    </tr>\n",
       "    <tr>\n",
       "      <th>1685</th>\n",
       "      <td>/wieland/aristipp/aristipp.html</td>\n",
       "      <td>106</td>\n",
       "      <td>ER. Was sie mir gethan haben? Wahrlich, ich ha...</td>\n",
       "      <td>wieland</td>\n",
       "      <td>Aristipp</td>\n",
       "      <td>1800-1801</td>\n",
       "      <td>Christoph Martin Wieland</td>\n",
       "      <td>1733</td>\n",
       "      <td>1813</td>\n",
       "    </tr>\n",
       "    <tr>\n",
       "      <th>1740</th>\n",
       "      <td>/wieland/aristipp/aristipp.html</td>\n",
       "      <td>161</td>\n",
       "      <td>Der schöne Lysanias hat sich durch sein sittsa...</td>\n",
       "      <td>wieland</td>\n",
       "      <td>Aristipp</td>\n",
       "      <td>1800-1801</td>\n",
       "      <td>Christoph Martin Wieland</td>\n",
       "      <td>1733</td>\n",
       "      <td>1813</td>\n",
       "    </tr>\n",
       "    <tr>\n",
       "      <th>36934</th>\n",
       "      <td>/musil/mannohne/mannohne.html</td>\n",
       "      <td>92</td>\n",
       "      <td>Aus den Lebensregeln reicher Leute Soviel Aufm...</td>\n",
       "      <td>musil</td>\n",
       "      <td>Der Mann ohne Eigenschaften. Erstes Buch</td>\n",
       "      <td>1930 - 1932</td>\n",
       "      <td>Robert Musil</td>\n",
       "      <td>1880</td>\n",
       "      <td>1942</td>\n",
       "    </tr>\n",
       "  </tbody>\n",
       "</table>\n",
       "</div>"
      ],
      "text/plain": [
       "                              title_url  chapter_num  \\\n",
       "7913     /herder/volklied/volklied.html          121   \n",
       "36940     /musil/mannohne/mannohne.html           98   \n",
       "28288  /gotthelf/annebae2/annebae2.html            9   \n",
       "1759    /wieland/aristipp/aristipp.html          180   \n",
       "1753    /wieland/aristipp/aristipp.html          174   \n",
       "7651     /herder/humanita/humanita.html            9   \n",
       "29286     /gutzkow/zauber6/zauber6.html            1   \n",
       "7850     /herder/volklied/volklied.html           58   \n",
       "7936     /herder/volklied/volklied.html          144   \n",
       "36847     /musil/mannohne/mannohne.html            5   \n",
       "31826   /freytag/dvergang/dvergang.html           45   \n",
       "7975     /herder/volklied/volklied.html          183   \n",
       "7906     /herder/volklied/volklied.html          114   \n",
       "7822     /herder/volklied/volklied.html           30   \n",
       "33272    /keller/heinric1/heinric1.html            4   \n",
       "36976     /musil/mannohn2/mannohn2.html           10   \n",
       "1776    /wieland/aristipp/aristipp.html          197   \n",
       "31784   /freytag/dvergang/dvergang.html            3   \n",
       "1693    /wieland/aristipp/aristipp.html          114   \n",
       "1627    /wieland/aristipp/aristipp.html           48   \n",
       "27910  /gotthelf/geltstag/geltstag.html           25   \n",
       "28269  /gotthelf/annebae1/annebae1.html           15   \n",
       "7813     /herder/volklied/volklied.html           21   \n",
       "37031     /musil/mannohn3/mannohn3.html           26   \n",
       "1674    /wieland/aristipp/aristipp.html           95   \n",
       "7885     /herder/volklied/volklied.html           93   \n",
       "37007     /musil/mannohn3/mannohn3.html            2   \n",
       "1610    /wieland/aristipp/aristipp.html           31   \n",
       "29298     /gutzkow/zauber7/zauber7.html            1   \n",
       "1644    /wieland/aristipp/aristipp.html           65   \n",
       "7894     /herder/volklied/volklied.html          102   \n",
       "1769    /wieland/aristipp/aristipp.html          190   \n",
       "7970     /herder/volklied/volklied.html          178   \n",
       "1592    /wieland/aristipp/aristipp.html           13   \n",
       "37032     /musil/mannohn3/mannohn3.html           27   \n",
       "36987     /musil/mannohn2/mannohn2.html           21   \n",
       "36961     /musil/mannohne/mannohne.html          119   \n",
       "7968     /herder/volklied/volklied.html          176   \n",
       "33305    /keller/heinric1/heinric1.html           37   \n",
       "4712     /goethe/dichwah1/dichwah1.html            0   \n",
       "7879     /herder/volklied/volklied.html           87   \n",
       "1631    /wieland/aristipp/aristipp.html           52   \n",
       "2721    /wieland/gedicht2/gedicht2.html            4   \n",
       "7901     /herder/volklied/volklied.html          109   \n",
       "31803   /freytag/dvergang/dvergang.html           22   \n",
       "7958     /herder/volklied/volklied.html          166   \n",
       "36921     /musil/mannohne/mannohne.html           79   \n",
       "1685    /wieland/aristipp/aristipp.html          106   \n",
       "1740    /wieland/aristipp/aristipp.html          161   \n",
       "36934     /musil/mannohne/mannohne.html           92   \n",
       "\n",
       "                                                 chapter author_url  \\\n",
       "7913   Spanisch.Aus Gongora Romanc. Liricos p. 328.O ...     herder   \n",
       "36940  Aus einem Staat, der an einem Sprachfehler zug...      musil   \n",
       "28288  Der Bub ward plötzlich krank, das heißt, man w...   gotthelf   \n",
       "1759   Ich für meine Person, wurde auf eine angenehme...    wieland   \n",
       "1753   Der Platonische Sokrates hat, seinem eigenen m...    wieland   \n",
       "7651    Sechstes Fragment\\n      Wiederauflebung der ...     herder   \n",
       "29286  Als im ersten Beginn des diesjährigen Frühling...    gutzkow   \n",
       "7850   Deutsch.Es ist kein lieber Ding auf Erden,\\n  ...     herder   \n",
       "7936   Spanisch.S. hist. de las guerr. Civil, p. 463....     herder   \n",
       "36847  Ulrich Der Mann ohne Eigenschaften, von dem hi...      musil   \n",
       "31826  (Darauf kehrt Petersen in seine Heimat Lübeck ...    freytag   \n",
       "7975   Trauet den Weißen nicht, ihr Bewohner des Ufer...     herder   \n",
       "7906   Englisch.Desgleichen aus Dodsley's Collect T. ...     herder   \n",
       "7822   Schottisch.(Reliqu. T. I. p. 35.) Ein graulich...     herder   \n",
       "33272  Nicht ohne Herzklopfen vernahm er nun, daß man...     keller   \n",
       "36976  Weiterer Verlauf des Ausflugs auf die Schweden...      musil   \n",
       "1776   Ichthyofagen, (Fischesser) diejenige Klasse de...    wieland   \n",
       "31784  Um 1100Sinnigkeit des deutschen Gemütes. Liebe...    freytag   \n",
       "1693   Ich bin dir, Dank sey den Göttern, wieder so n...    wieland   \n",
       "1627   Der gute Genius deines gastfreundlichen Hauses...    wieland   \n",
       "27910  Wie es doch so wunderbar geht! Während an eine...   gotthelf   \n",
       "28269  Am folgenden Morgen kam die Mutter und nahm di...   gotthelf   \n",
       "7813   Englisch.Aus einer Englischen Sammlung Lieder ...     herder   \n",
       "37031  Agathe findet Ulrichs Tagebuch Dieweil Ulrich ...      musil   \n",
       "1674   Mein Anschlag ist gelungen. Arasambes läßt sic...    wieland   \n",
       "7885   Englisch.Das bekannte Original steht in Percy ...     herder   \n",
       "37007  Der Tugut Es gibt gegen die unberechenbaren Re...      musil   \n",
       "1610   Wenn eine Frau die Neugier eines Mannes geflis...    wieland   \n",
       "29298  Wol schon dreißig Jahre mochte Pater Vincente ...    gutzkow   \n",
       "1644   Die Urtheile der Syrakusaner über die heroisch...    wieland   \n",
       "7894   Deutsch.<Vgl. zu Nr. 30>        Traurig ein Wa...     herder   \n",
       "1769   Mehr als zehen Jahre sind schon verflossen, se...    wieland   \n",
       "7970   Eine Böhmische Sage.Aus der Mitte des neunten ...     herder   \n",
       "1592   Daß Sokrates, wenn er mit andern filosofiert, ...    wieland   \n",
       "37032  Große Veränderungen Ulrich hatte dem General d...      musil   \n",
       "36987  Wirf alles, was du hast, ins Feuer, bis zu den...      musil   \n",
       "36961  Kontermine und Verführung Damals sah es aus, a...      musil   \n",
       "7968   Deutsch.Wer was weiß, der schweig',\\n      Wem...     herder   \n",
       "33305  Blüh auf, gefrorner Christ! Der Mai ist vor de...     keller   \n",
       "4712                    Der Tempel-Verlag in Leipzig         goethe   \n",
       "7879   aus dem 13ten Jahrhundert.Von Thibault, Grafen...     herder   \n",
       "1631   Du ahnest wohl nicht, schöne Lais, daß drey in...    wieland   \n",
       "2721   (Nach den Lays de l'Oiselet in den Fabliaux et...    wieland   \n",
       "7901   Lappländisch.Ein aus Kleists Nachbildung gnugs...     herder   \n",
       "31803  (1509 und folgende Jahre)Charakteristisches de...    freytag   \n",
       "7958   In der Ausgabe von 1807 aus Herders Nachlaß hi...     herder   \n",
       "36921  Soliman liebt Soliman, der kleine Negersklave,...      musil   \n",
       "1685   ER. Was sie mir gethan haben? Wahrlich, ich ha...    wieland   \n",
       "1740   Der schöne Lysanias hat sich durch sein sittsa...    wieland   \n",
       "36934  Aus den Lebensregeln reicher Leute Soviel Aufm...      musil   \n",
       "\n",
       "                                                   title         year  \\\n",
       "7913                       Stimmen der Völker in Liedern      1778/79   \n",
       "36940           Der Mann ohne Eigenschaften. Erstes Buch  1930 - 1932   \n",
       "28288  Wie Anne Bäbi Jowäger haushaltet und wie es ih...      1843/44   \n",
       "1759                                            Aristipp    1800-1801   \n",
       "1753                                            Aristipp    1800-1801   \n",
       "7651                 Briefe zu Beförderung der Humanität  1793 - 1797   \n",
       "29286                      Der Zauberer von Rom, 6. Buch      1858-61   \n",
       "7850                       Stimmen der Völker in Liedern      1778/79   \n",
       "7936                       Stimmen der Völker in Liedern      1778/79   \n",
       "36847           Der Mann ohne Eigenschaften. Erstes Buch  1930 - 1932   \n",
       "31826             Bilder aus der deutschen Vergangenheit      1859-67   \n",
       "7975                       Stimmen der Völker in Liedern      1778/79   \n",
       "7906                       Stimmen der Völker in Liedern      1778/79   \n",
       "7822                       Stimmen der Völker in Liedern      1778/79   \n",
       "33272                                 Der grüne Heinrich    1854/1855   \n",
       "36976          Der Mann ohne Eigenschaften. Zweites Buch  1930 - 1932   \n",
       "1776                                            Aristipp    1800-1801   \n",
       "31784             Bilder aus der deutschen Vergangenheit      1859-67   \n",
       "1693                                            Aristipp    1800-1801   \n",
       "1627                                            Aristipp    1800-1801   \n",
       "27910                                       Der Geltstag      1845/46   \n",
       "28269  Wie Anne Bäbi Jowäger haushaltet und wie es ih...      1843/44   \n",
       "7813                       Stimmen der Völker in Liedern      1778/79   \n",
       "37031  Der Mann ohne Eigenschaften. Schluß des dritte...  1930 - 1932   \n",
       "1674                                            Aristipp    1800-1801   \n",
       "7885                       Stimmen der Völker in Liedern      1778/79   \n",
       "37007  Der Mann ohne Eigenschaften. Schluß des dritte...  1930 - 1932   \n",
       "1610                                            Aristipp    1800-1801   \n",
       "29298                      Der Zauberer von Rom, 7. Buch      1858-61   \n",
       "1644                                            Aristipp    1800-1801   \n",
       "7894                       Stimmen der Völker in Liedern      1778/79   \n",
       "1769                                            Aristipp    1800-1801   \n",
       "7970                       Stimmen der Völker in Liedern      1778/79   \n",
       "1592                                            Aristipp    1800-1801   \n",
       "37032  Der Mann ohne Eigenschaften. Schluß des dritte...  1930 - 1932   \n",
       "36987          Der Mann ohne Eigenschaften. Zweites Buch  1930 - 1932   \n",
       "36961           Der Mann ohne Eigenschaften. Erstes Buch  1930 - 1932   \n",
       "7968                       Stimmen der Völker in Liedern      1778/79   \n",
       "33305                                 Der grüne Heinrich    1854/1855   \n",
       "4712      Dichtung und Wahrheit. Erster und zweiter Teil  1811 - 1812   \n",
       "7879                       Stimmen der Völker in Liedern      1778/79   \n",
       "1631                                            Aristipp    1800-1801   \n",
       "2721                           Pervonte oder die Wünsche    1778-1796   \n",
       "7901                       Stimmen der Völker in Liedern      1778/79   \n",
       "31803             Bilder aus der deutschen Vergangenheit      1859-67   \n",
       "7958                       Stimmen der Völker in Liedern      1778/79   \n",
       "36921           Der Mann ohne Eigenschaften. Erstes Buch  1930 - 1932   \n",
       "1685                                            Aristipp    1800-1801   \n",
       "1740                                            Aristipp    1800-1801   \n",
       "36934           Der Mann ohne Eigenschaften. Erstes Buch  1930 - 1932   \n",
       "\n",
       "                           author  born  died  \n",
       "7913      Johann Gottfried Herder  1744  1803  \n",
       "36940                Robert Musil  1880  1942  \n",
       "28288           Jeremias Gotthelf  1797  1854  \n",
       "1759     Christoph Martin Wieland  1733  1813  \n",
       "1753     Christoph Martin Wieland  1733  1813  \n",
       "7651      Johann Gottfried Herder  1744  1803  \n",
       "29286                Karl Gutzkow  1811  1878  \n",
       "7850      Johann Gottfried Herder  1744  1803  \n",
       "7936      Johann Gottfried Herder  1744  1803  \n",
       "36847                Robert Musil  1880  1942  \n",
       "31826              Gustav Freytag  1816  1895  \n",
       "7975      Johann Gottfried Herder  1744  1803  \n",
       "7906      Johann Gottfried Herder  1744  1803  \n",
       "7822      Johann Gottfried Herder  1744  1803  \n",
       "33272            Gottfried Keller  1819  1890  \n",
       "36976                Robert Musil  1880  1942  \n",
       "1776     Christoph Martin Wieland  1733  1813  \n",
       "31784              Gustav Freytag  1816  1895  \n",
       "1693     Christoph Martin Wieland  1733  1813  \n",
       "1627     Christoph Martin Wieland  1733  1813  \n",
       "27910           Jeremias Gotthelf  1797  1854  \n",
       "28269           Jeremias Gotthelf  1797  1854  \n",
       "7813      Johann Gottfried Herder  1744  1803  \n",
       "37031                Robert Musil  1880  1942  \n",
       "1674     Christoph Martin Wieland  1733  1813  \n",
       "7885      Johann Gottfried Herder  1744  1803  \n",
       "37007                Robert Musil  1880  1942  \n",
       "1610     Christoph Martin Wieland  1733  1813  \n",
       "29298                Karl Gutzkow  1811  1878  \n",
       "1644     Christoph Martin Wieland  1733  1813  \n",
       "7894      Johann Gottfried Herder  1744  1803  \n",
       "1769     Christoph Martin Wieland  1733  1813  \n",
       "7970      Johann Gottfried Herder  1744  1803  \n",
       "1592     Christoph Martin Wieland  1733  1813  \n",
       "37032                Robert Musil  1880  1942  \n",
       "36987                Robert Musil  1880  1942  \n",
       "36961                Robert Musil  1880  1942  \n",
       "7968      Johann Gottfried Herder  1744  1803  \n",
       "33305            Gottfried Keller  1819  1890  \n",
       "4712   Johann Wolfgang von Goethe  1749  1832  \n",
       "7879      Johann Gottfried Herder  1744  1803  \n",
       "1631     Christoph Martin Wieland  1733  1813  \n",
       "2721     Christoph Martin Wieland  1733  1813  \n",
       "7901      Johann Gottfried Herder  1744  1803  \n",
       "31803              Gustav Freytag  1816  1895  \n",
       "7958      Johann Gottfried Herder  1744  1803  \n",
       "36921                Robert Musil  1880  1942  \n",
       "1685     Christoph Martin Wieland  1733  1813  \n",
       "1740     Christoph Martin Wieland  1733  1813  \n",
       "36934                Robert Musil  1880  1942  "
      ]
     },
     "execution_count": 42,
     "metadata": {},
     "output_type": "execute_result"
    }
   ],
   "source": [
    "df.loc[df.year.str.len() >4].sample(50)"
   ]
  },
  {
   "cell_type": "code",
   "execution_count": 43,
   "id": "969960a1-e206-407f-bdb9-03da67562a04",
   "metadata": {},
   "outputs": [],
   "source": [
    "df.loc[df.year.str.len() > 4, 'year'] = df.loc[df.year.str.len() > 4, 'year'].str[:4]\n",
    "df['year'] = pd.to_numeric(df['year'])"
   ]
  },
  {
   "cell_type": "code",
   "execution_count": 47,
   "id": "36d4b8d1-7855-4526-98b9-c8e5929f20e0",
   "metadata": {},
   "outputs": [],
   "source": [
    "df = df.loc[df.year > 10]"
   ]
  },
  {
   "cell_type": "markdown",
   "id": "eac8c14f-6369-405d-b604-7a139e5b1393",
   "metadata": {},
   "source": [
    "Unfortunately this was quite a chunk. But we can come back to the year in the second iteration.\n",
    "\n",
    "As we only care for the first publishment year, we will only consider publishments when the author was still alive, i.e. 'born' < 'year' < 'died'. Otherwise it is too likely that we have a later edition or a collection of works."
   ]
  },
  {
   "cell_type": "code",
   "execution_count": 50,
   "id": "4c6b31f8-97ea-4b44-8829-66caeb991418",
   "metadata": {},
   "outputs": [],
   "source": [
    "df = df.loc[(df.born < df.year) & (df.year < df.died)]"
   ]
  },
  {
   "cell_type": "markdown",
   "id": "4bd94311-9d27-4c18-a6b5-5632d3b8e27d",
   "metadata": {},
   "source": [
    "Lastly, we check for duplicates that might have emerged from merging the dataframes."
   ]
  },
  {
   "cell_type": "code",
   "execution_count": 57,
   "id": "56b8c903-beba-4166-92bb-6595e8ed3374",
   "metadata": {},
   "outputs": [
    {
     "data": {
      "text/plain": [
       "9237"
      ]
     },
     "execution_count": 57,
     "metadata": {},
     "output_type": "execute_result"
    }
   ],
   "source": [
    "df.duplicated().sum() #that hurt"
   ]
  },
  {
   "cell_type": "code",
   "execution_count": 58,
   "id": "f7e14507-7e7f-4be1-b893-96d85ac6946f",
   "metadata": {},
   "outputs": [],
   "source": [
    "df.drop_duplicates(inplace=True)"
   ]
  },
  {
   "cell_type": "code",
   "execution_count": 62,
   "id": "84f2f9b7-3dc9-4e31-b3c5-b1c97b338416",
   "metadata": {},
   "outputs": [],
   "source": [
    "df = df.drop(columns= ['title', 'author_url', 'born', 'died']) "
   ]
  },
  {
   "cell_type": "code",
   "execution_count": 64,
   "id": "a761d4d3-993c-4853-9403-29b395050f9e",
   "metadata": {},
   "outputs": [],
   "source": [
    "cols = ['author', 'chapter', 'year', 'chapter_num', 'title_url']\n",
    "df = df[cols]"
   ]
  },
  {
   "cell_type": "code",
   "execution_count": 69,
   "id": "06308680-b29d-43ef-a07a-6c0934d8b1d5",
   "metadata": {},
   "outputs": [],
   "source": [
    "df.to_csv('data/df_filtered.csv', index=False)"
   ]
  },
  {
   "cell_type": "markdown",
   "id": "df777411-ca3e-4c2b-a148-13202aad5595",
   "metadata": {},
   "source": [
    "## Clean chapters\n",
    "It is time to look at the chapters themselves. We already know that there are a lot of unnecessary newlines and spaces. So we start by removing them."
   ]
  },
  {
   "cell_type": "code",
   "execution_count": 1,
   "id": "64989474-bfe9-4cfb-89f0-9cc3f8035e54",
   "metadata": {},
   "outputs": [],
   "source": [
    "import pandas as pd"
   ]
  },
  {
   "cell_type": "code",
   "execution_count": 2,
   "id": "29d29ddc-6e5d-4192-9b0f-a505da617eea",
   "metadata": {},
   "outputs": [],
   "source": [
    "ch = pd.read_csv('data/df_filtered.csv')"
   ]
  },
  {
   "cell_type": "code",
   "execution_count": 6,
   "id": "545dc041-d1cf-4a50-bf4f-7e66644ae8fa",
   "metadata": {},
   "outputs": [
    {
     "data": {
      "text/plain": [
       "1547"
      ]
     },
     "execution_count": 6,
     "metadata": {},
     "output_type": "execute_result"
    }
   ],
   "source": [
    "ch.duplicated(subset = 'chapter').sum()"
   ]
  },
  {
   "cell_type": "code",
   "execution_count": 8,
   "id": "a270adae-2a3f-4fc5-a3a5-d7a9cbbc36a3",
   "metadata": {},
   "outputs": [],
   "source": [
    "ch = ch.drop_duplicates(subset='chapter')"
   ]
  },
  {
   "cell_type": "code",
   "execution_count": 9,
   "id": "59d1e1ed-98ae-4c31-90cd-3ccf58aa16e0",
   "metadata": {},
   "outputs": [
    {
     "data": {
      "text/plain": [
       "count     11412.000000\n",
       "mean      12955.755433\n",
       "std       18038.578299\n",
       "min           1.000000\n",
       "25%        2845.500000\n",
       "50%       10365.500000\n",
       "75%       15666.500000\n",
       "max      544455.000000\n",
       "Name: chapter, dtype: float64"
      ]
     },
     "execution_count": 9,
     "metadata": {},
     "output_type": "execute_result"
    }
   ],
   "source": [
    "ch.chapter.str.len().describe()"
   ]
  },
  {
   "cell_type": "code",
   "execution_count": 10,
   "id": "5059ba6c-c4a2-42f3-9842-ea03c745ab99",
   "metadata": {},
   "outputs": [
    {
     "data": {
      "text/plain": [
       "count    11412.000000\n",
       "mean      1832.650894\n",
       "std         44.215251\n",
       "min       1746.000000\n",
       "25%       1800.000000\n",
       "50%       1827.000000\n",
       "75%       1865.000000\n",
       "max       1937.000000\n",
       "Name: year, dtype: float64"
      ]
     },
     "execution_count": 10,
     "metadata": {},
     "output_type": "execute_result"
    }
   ],
   "source": [
    "ch.year.describe()"
   ]
  },
  {
   "cell_type": "code",
   "execution_count": 11,
   "id": "05987a37-0308-473d-b0ff-b76d4cc42eb0",
   "metadata": {},
   "outputs": [
    {
     "data": {
      "text/plain": [
       "1805    679\n",
       "1816    586\n",
       "1827    275\n",
       "1812    266\n",
       "1800    258\n",
       "       ... \n",
       "1759      2\n",
       "1937      2\n",
       "1802      2\n",
       "1909      1\n",
       "1820      1\n",
       "Name: year, Length: 166, dtype: int64"
      ]
     },
     "execution_count": 11,
     "metadata": {},
     "output_type": "execute_result"
    }
   ],
   "source": [
    "ch.year.value_counts()"
   ]
  },
  {
   "cell_type": "code",
   "execution_count": 12,
   "id": "301a52c6-2b25-4e95-b4b4-c1b81ff74a53",
   "metadata": {},
   "outputs": [
    {
     "data": {
      "text/plain": [
       "Achim von Arnim     678\n",
       "Clemens Brentano      1\n",
       "Name: author, dtype: int64"
      ]
     },
     "execution_count": 12,
     "metadata": {},
     "output_type": "execute_result"
    }
   ],
   "source": [
    "ch.loc[ch.year == 1805, 'author'].value_counts()"
   ]
  },
  {
   "cell_type": "code",
   "execution_count": 89,
   "id": "19ca166e-0fde-4041-81f8-aa301baa363d",
   "metadata": {},
   "outputs": [],
   "source": [
    "from matplotlib import pyplot as plt"
   ]
  },
  {
   "cell_type": "code",
   "execution_count": 83,
   "id": "baf7d3d6-c85c-4e36-ac10-7d5cd8f85f6a",
   "metadata": {},
   "outputs": [
    {
     "data": {
      "image/png": "[encoded data removed]",
      "text/plain": [
       "<Figure size 432x288 with 1 Axes>"
      ]
     },
     "metadata": {
      "needs_background": "light"
     },
     "output_type": "display_data"
    }
   ],
   "source": [
    "plt.hist(ch.year, bins=198)\n",
    "plt.show()"
   ]
  },
  {
   "cell_type": "markdown",
   "id": "d3cf95d4-d898-4a0c-b35a-e1e54e74f901",
   "metadata": {},
   "source": [
    "# Simple base model\n",
    "Today we'll get an MVP in a very simple fashion:\n",
    "\n",
    "#### Tokenizing\n",
    "- tokenize each chapter using the word_tokenize method from nltk\n",
    "- keep tokens that have only letters with the string method .isalpha()\n",
    "- keep chapters with enough tokens, say 50\n",
    "- take the first 500 tokens for testing\n",
    "\n",
    "#### Base model\n"
   ]
  },
  {
   "cell_type": "code",
   "execution_count": 20,
   "id": "d2c715a3-974d-40b9-b994-38e7e1886527",
   "metadata": {},
   "outputs": [
    {
     "name": "stderr",
     "output_type": "stream",
     "text": [
      "[nltk_data] Downloading package punkt to\n",
      "[nltk_data]     C:\\Users\\muell\\AppData\\Roaming\\nltk_data...\n",
      "[nltk_data]   Unzipping tokenizers\\punkt.zip.\n"
     ]
    },
    {
     "data": {
      "text/plain": [
       "True"
      ]
     },
     "execution_count": 20,
     "metadata": {},
     "output_type": "execute_result"
    }
   ],
   "source": [
    "import nltk\n",
    "nltk.download('punkt')"
   ]
  },
  {
   "cell_type": "code",
   "execution_count": 16,
   "id": "83319b59-e880-4e9a-a915-b7a439f97f46",
   "metadata": {},
   "outputs": [],
   "source": [
    "test_chapter = ch.chapter[0]"
   ]
  },
  {
   "cell_type": "code",
   "execution_count": 22,
   "id": "84bb2f4a-caf0-4459-983b-1ae63ff30810",
   "metadata": {
    "collapsed": true,
    "jupyter": {
     "outputs_hidden": true
    },
    "tags": []
   },
   "outputs": [
    {
     "data": {
      "text/plain": [
       "'man hat zu unsern zeiten, besonders in frankreich, eine art von lustspielen versucht, welche nicht allein die gemüter der zuschauer zu ergötzen, sondern auch so zu rühren und so anzutreiben vermögend wäre, daß sie ihnen sogar tränen auspresse. man hat dergleichen komödie, zum scherz und zur verspottung, in der französischen sprache comédie larmoyante, das ist die weinerliche, genennt, und von nicht wenigen pflegt sie als eine abgeschmackte nachäffung des trauerspiels getadelt zu werden. ich bin zwar nicht willens, alle und jede stücke, welche in diese klasse können gebracht werden, zu verteidigen; sondern ich will bloß die art der einrichtung selbst retten und womöglich erweisen, daß die komödie, mit allem ruhme, heftiger bewegen könne. dacier und andre, welche die von dem aristoteles entworfene erklärung weitläuftiger haben erläutern wollen, setzen die ganze kraft und stärke der komödie in das lächerliche. nun kann man zwar nicht leugnen, daß nicht der größte teil derselben darauf ankomme, obgleich, nach dem vossius, auch dieses zweifelhaft sein könnte; allein, so viel ist auch gewiß, daß in dem lächerlichen nicht durchaus alle ihre tugend bestehe. denn entweder sind die reizenden stücke des terenz keine komödien zu nennen, oder die komödie hat ihre ernsthaften stellen und muß sie haben, damit selbst das lächerliche durch das beständige anhalten nicht geschwächt werde. denn was ohne unterlaß artig ist, das rührt entweder nicht genug oder ermüdet das gemüt indem es dasselbe allzusehr rührt. ich glaube also, daß aus der erklärung des aristoteles weiter nichts zu folgern ist als dieses, was für eine art von lastern die komödie vornehmlich durchziehen soll. es erhellt nemlich daraus, daß sie sich mit solchen lastern beschäftigen müsse, welche niemandem ohne schande, obschon ohne seinem und ohne andrer schaden, anhängen können; kurz, solche laster, welche lachen und satire, nicht aber ahndung und öffentliche strafe verdienen, woran sich aber doch weder plautus noch diejenigen, die er unter den griechen nachgeahmet hat, besonders gekehrt zu haben scheinen. ja, man muß sogar zugestehen, daß es eine art laster gibt, welche gar sehr mit eines andern schaden verbunden ist, als zum exempel die verschwendung, und dennoch in der komödie angebracht werden kann, wenn es nur auf eine geschickte und kunstmäßige art geschieht. ich sehe also nicht, worinne derjenige lustspieldichter sündige, welcher, in betrachtung der nützlichkeit, die regeln der kunst dann und wann beiseite setzt, besonders wenn man von ihm sagen kann:\\n\\nhabet bonorum exemplum, quo exemplo sibi\\n        licere id facere quod illi fecerunt putatterenz, »heautontimorumenos«.\\n\\nes sei also immer die sinnreiche verspottung der laster und ungereimtheiten die vornehmste verrichtung der komödie, damit eine mit nutzen verbundene fröhlichkeit die gemüter der zuschauer einnehme; nur merke man auch zugleich, daß es eine doppelte gattung des lächerlichen gibt. die eine ist die stammhafte und, so zu reden, am meisten handgreifliche, weil sie in ein lautes gelächter ausbricht; die andere ist feiner und bescheidener, weil sie zwar ebenfalls beifall und vergnügen erweckt, immer aber nur einen solchen beifall und ein solches vergnügen, welches nicht so stark ausbricht, sondern gleichsam in dem innersten des herzens verschlossen bleibt. wann nun die ausgelassene und heftige freude, welche aus der ersten gattung entspringt, nicht leicht eine ernsthaftere gemütsbewegung verstattet; so glaube ich doch, daß jene gesetztere freude sie verstatten werde. und wenn ferner die freude nicht das einzige vergnügen ist, welches bei den nachahmungen des gemeinen lebens empfunden werden kann; so sage man mir doch, worinne dasjenige lustspiel zu tadeln sei, welches sich einen solchen inhalt erwählet, durch welchen es, außer der freude, auch eine art von gemütsbewegung hervorbringen kann, welche zwar den schein der traurigkeit hat, an und für sich selbst aber ungemein süße ist. da nun aber dieses alsdann sehr leicht geschehen kann, wenn man die komödie nicht nur die laster, sondern auch die tugenden schildern läßt; so sehe ich nicht, warum es ihr nicht vergönnt sein sollte, mit den tadelhaften personen auch gute und liebenswürdige zu verbinden und sich dadurch sowohl angenehmer als nützlicher zu machen, damit einigermaßen jener alten klage des komischen trupps bei dem plautus abgeholfen werde:\\n\\nhuius modi paucas poetae reperiunt comoedias,\\n        ubi boni meliores fiant.\\n\\nwenigstens sind unter den alten, wie scaliger erinnert, sowohl unter den griechen als unter den römern, verschiedene gewesen, welche eine doppelte gattung von komödie zugelassen und sie in die sittliche und lächerliche eingeteilet haben. unter der sittlichen verstanden sie diejenige, in welcher die sitten, und unter der lächerlichen, in welcher das lächerliche herrschte. doch wenn man nicht allein darauf zu sehen hat, was in der komödie zu geschehen pflegt, sondern auch auf das, was darinne geschehen sollte, warum wollen wir sie nicht lieber, nach maßgebung des trapps, also erklären, daß wir sagen, die komödie sei ein dramatisches gedicht, welches abschilderungen von dem gemeinen privatleben enthalte, die tugend anpreise und verschiedene laster und ungereimtheiten der menschen auf eine scherzhafte und feine art durchziehe. ich gestehe ganz gerne, daß sich diese erklärung nicht auf alle und jede exempel anwenden lasse; allein, wenn man auch durchaus eine solche verlangte, welche alles, was jemals unter dem namen komödie begriffen worden, in sich fassen sollte, so würde man entweder gar keine oder doch ein ungeheuer von einer erklärung bekommen. genug, daß diese von uns angenommene erklärung von dem endzwecke, welchen die komödie erreichen soll und auch leicht erreichen kann, abgeleitet ist und auch daher ihre entschuldigung und verteidigung nehmen darf.damit ich aber die sache der rührenden komödie, wo nicht glücklich, doch sorgfältig führen möge, so muß ich einer doppelten anklage entgegengehen; deren eine dahinaus läuft, daß auf diese weise der unterscheid, welcher zwischen einer tragödie und komödie sein müsse, aufgehoben werde; und deren andre darauf ankömmt, daß diejenige komödie sich selbst zuwider wäre, welche die affekten sorgfältig erregen wolle.was den ersten grund anbelangt, so scheint es mir gar nicht, daß man zu befürchten habe, die grenzen beider gattungen möchten vermengt werden. die komödie kann ganz wohl zu rühren fähig sein und gleichwohl von der tragödie noch weit entfernt bleiben, indem sie weder ebendieselben leidenschaften rege macht noch aus ebenderselben absicht und durch ebendieselben mittel als die tragödie zu tun pflegt. es wäre freilich unsinnig, wenn sich die komödie jene großen und schrecklichen zurüstungen der tragödie, mord, verzweiflung und dergleichen, anmaßen wollte; allein, wenn hat sie dieses jemals getan? sie begnügt sich mit einer gemeinen, obschon seltnen, begebenheit und weiß von dem adel und von der hoheit der handlung nichts; sie weiß nichts von den sitten und empfindungen großer helden, welche sich entweder durch ihre erhabne tugend oder durch ihre außerordentliche häßlichkeit ausnehmen; sie weiß nichts von jenem tragischen, hohen und prächtigen ausdrucke. dieses alles ist so klar, daß ich es nur verdunkeln würde, wenn ich es mehr auseinandersetzen wollte. was hat man also für einen grund, zu behaupten, daß die rührende komödie, wenn sie dann und wann erbarmen erweckt, in die vorzüge der tragödie einen eingriff tue? können denn die kleinen übel, welche sie dieser oder jener person zustoßen läßt, jene heftige empfindung des mitleids erregen, welche der tragödie eigen ist? es sind kaum die anfänge dieser empfindung, welche die komödie zuläßt und auf kurze zeit in der absicht anwendet, daß sie diese kleine bewegung durch etwas erwünschtes wieder stillen möge; welches in der tragödie ganz anders zu geschehen pflegt. doch wir wollen uns zu der vornehmsten quelle wenden, aus welcher die komödie ihre rührungen herholt, und zusehen, ob sie sich vielleicht auf dieser seite des eigentums der tragödie anmaße. man sage mir also, wenn rühret denn diese neue art von komödie, von welcher wir handeln? geschieht es nicht meistenteils, wenn sie eine tugendhafte, gesetzte und außerordentliche liebe vorstellet? was ist aber nun zwischen der liebe, welche die tragödie anwendet, und derjenigen, welche die komödie braucht, für ein unterscheid? ein sehr großer. die liebe in der komödie ist nicht jene heroische liebe, welche durch die bande wichtiger angelegenheiten, der pflicht, der tapferkeit, des größten ehrgeizes, entweder unzertrennlich verknüpfet oder unglücklich zertrennet wird; es ist nicht jene lermende liebe, welche von einer menge von gefahren und lastern begleitet wird; nicht jene verzweifelnde liebe: sondern eine angenehm unruhige liebe, welche zwar in verschiedene hindernisse und beschwerlichkeiten verwickelt wird, die sie entweder vermehren oder schwächen, die aber alle glücklich überstiegen werden und einen ausgang gewinnen, welcher, wenn er auch nicht für alle personen des stücks angenehm, doch dem wunsche der zuschauer gemäß zu sein pflegt. es ist daher im geringsten keine vermischung der kunst zu befürchten, solange sich nicht die komödie mit ebenderselben liebe beschäftiget, welche in der tragödie vorkömmt, sondern von ihr in ansehung der wirkungen und der damit verknüpften umstände ebenso weit, als in ansehung der stärke und hoheit, entfernt bleibt. denn so wie die liebe in einem doppelten bilde strahlt, welche auf so verschiedene weise ausgedrückt werden, daß man sie schwerlich für einerlei halten kann; ja, wie sogar die gewalt, die sie über die gemüter der menschen hat, von ganz verschiedner art ist, so daß, wenn der eine mit zerstreuten haaren, mit verwirrter stirn und verzweifelnden augen herumirret, der andere das haar zierlich in locken schlägt und mit lächelnd trauriger miene und angenehm unruhigen augen seinen kummer verrät: ebenso, sage ich, ist die liebe, welche in beiden spielen gebraucht wird, ganz und gar nicht von einerlei art und kann also auch nicht auf einerlei oder auch nur auf ähnliche art rühren. ja, es fehlt so viel, daß die komödie in diesem stücke die rechte der tragödie zu schmälern scheinen sollte, daß sie vielmehr nichts als ihr recht zu behaupten sucht. denn ob ich schon denjenigen nicht beistimme, welche, durch das ansehen einiger alter tragödienschreiber bewogen, die liebe gänzlich aus der tragischen fabel verbannen wollen; so ist doch so viel gewiß, daß nicht jede liebe, besonders die zärtlichere, sich für sie schickt und daß auch diejenige, die sich für sie schickt, nicht darinne herrschen darf, weil es nicht erlaubt ist, die liebe einzig und allein zu dem inhalte eines trauerspiels zu machen. sie kann zwar jenen heftigern gemütsbewegungen, welche der tragödie hoheit, glanz und bewunderung erteilen, gelegentlich beigefügt werden, damit sie dieselben bald heftiger antreibe, bald zurückhalte, nicht aber, damit sie selbst das hauptwerk der handlung ausmache. dieses gesetz, welches man der tragödie vorgeschrieben hat und welches aus der natur einer heroischen tat hergeholet ist, zeiget deutlich genug, daß es allein der komödie zukomme, aus der liebe ihre haupthandlung zu machen. alles derohalben, was die liebe, ihren schrecklichen und traurigen teil beiseite gesetzt, im rührenden vermag, kann sich die komödie mit allem recht anmaßen. der vortreffliche corneille erinnert sehr wohl, daß dasjenige stück, in welchem allein die liebe herrschet, wann es auch schon in den vornehmsten personen wäre, keine tragödie, sondern, seiner natürlichen kraft nach, eine komödie sei. wieviel weniger kann daher dasjenige stück, in welchem nur die heftige liebe einiger privatpersonen aufgeführet wird, das wesen des trauerspiels angenommen zu haben scheinen? das, was ich aber von der liebe und von dem anspruche der komödie auf dieselbe gesagt habe, kann, glaube ich, ebensowohl von den übrigen stücken behauptet werden, welche die gemüter zu bewegen vermögend sind; von der freundschaft, von der beständigkeit, von der freigebigkeit, von dem dankbaren gemüte und so weiter. denn weil diese tugenden denjenigen, der sie besitzt, zwar zu einem rechtschaffnen, nicht aber zu einem großen und der tragödie würdigen manne machen und also auch vornehmlich nur zierden des privatlebens sind, wovon die komödie eine abschilderung ist: so wird sich auch die komödie die vorstellung dieser tugenden mit allem rechte anmaßen und alles zu gehöriger zeit und am gehörigen orte anwenden dürfen, was sie, die gemüter auf eine angenehme art zu rühren, darbieten können. allein, auf diese art, kann man einwenden, wird die komödie allzu frostig und trocken scheinen; sie wird von jungen leuten weniger geliebt und von denjenigen weniger besucht werden, welche durch ein heftiges lachen nur ihren bauch erschüttern wollen. was schadet das? genug, daß sie alsdann, wie der berühmte werenfels saget, weise, gelehrte, rechtschaffne und kunstverständige männer ergötzen wird, welche mehr auf das schickliche als auf das lächerliche, mehr auf das artige als auf das grimassenhafte sehen: und wann schon die, welche nur possen suchen, dabei nicht klatschen, so wird sie doch denen gefallen, welche, mit dem plautus zu reden, »pudicitiae praemium esse voluntmodifizierte form des schlußverses der captivi:\\n      \\n\\nqui pudicitiae esse voltis praemium,\\n          plausum date.\\n\\n\\n»und ein jeder, der von euch gute sitten liebet, klatsche!«.«\\n\\nqui pudicitiae esse voltis praemium,\\n          plausum date.\\n\\n'"
      ]
     },
     "execution_count": 22,
     "metadata": {},
     "output_type": "execute_result"
    }
   ],
   "source": [
    "test_chapter.lower()"
   ]
  },
  {
   "cell_type": "code",
   "execution_count": 26,
   "id": "cc8ffa94-0481-4d53-9d2d-001badbfbec2",
   "metadata": {
    "tags": []
   },
   "outputs": [],
   "source": [
    "tokens = nltk.tokenize.word_tokenize(test_chapter.lower(), language='german')"
   ]
  },
  {
   "cell_type": "code",
   "execution_count": 48,
   "id": "0c05db44-cb14-456a-a7a2-92770567d3de",
   "metadata": {},
   "outputs": [],
   "source": [
    "fdist = nltk.FreqDist([word for word in tokens[:500] if word.isalpha()])"
   ]
  },
  {
   "cell_type": "code",
   "execution_count": 85,
   "id": "c6f21bb9-df95-4b20-8a14-244ab77152c8",
   "metadata": {
    "collapsed": true,
    "jupyter": {
     "outputs_hidden": true
    },
    "tags": []
   },
   "outputs": [
    {
     "data": {
      "text/plain": [
       "FreqDist({'die': 15, 'und': 15, 'der': 12, 'nicht': 10, 'zu': 8, 'in': 7, 'daß': 7, 'komödie': 7, 'eine': 6, 'welche': 6, ...})"
      ]
     },
     "execution_count": 85,
     "metadata": {},
     "output_type": "execute_result"
    }
   ],
   "source": [
    "fdist"
   ]
  },
  {
   "cell_type": "code",
   "execution_count": 51,
   "id": "a20d48a3-07ba-47e2-86fa-5091feac71b2",
   "metadata": {},
   "outputs": [],
   "source": [
    "ch['tokens'] = ch['chapter'].apply(lambda x: nltk.tokenize.word_tokenize(x.lower(), language='german'))"
   ]
  },
  {
   "cell_type": "code",
   "execution_count": 53,
   "id": "bde7be29-5aaf-4d71-84a1-26493e62f676",
   "metadata": {},
   "outputs": [],
   "source": [
    "ch['tokens'] = ch['tokens'].apply(lambda x: [word for word in x if word.isalpha()])"
   ]
  },
  {
   "cell_type": "code",
   "execution_count": 55,
   "id": "217e471d-3103-4f58-9b44-3c023b8b6351",
   "metadata": {},
   "outputs": [],
   "source": [
    "ch['token_num'] = ch['tokens'].apply(lambda x: len(x))"
   ]
  },
  {
   "cell_type": "code",
   "execution_count": 56,
   "id": "837ab7eb-feed-462c-9071-149bb3745f31",
   "metadata": {},
   "outputs": [
    {
     "data": {
      "text/plain": [
       "count    11412.000000\n",
       "mean      1972.970820\n",
       "std       2757.233646\n",
       "min          0.000000\n",
       "25%        413.000000\n",
       "50%       1561.000000\n",
       "75%       2419.250000\n",
       "max      93052.000000\n",
       "Name: token_num, dtype: float64"
      ]
     },
     "execution_count": 56,
     "metadata": {},
     "output_type": "execute_result"
    }
   ],
   "source": [
    "ch['token_num'].describe()"
   ]
  },
  {
   "cell_type": "code",
   "execution_count": 64,
   "id": "86734d0a-955e-47c9-8dc0-debf25535d87",
   "metadata": {},
   "outputs": [],
   "source": [
    "ch = ch.loc[~((ch.token_num < 100) &(ch.chapter_num == 0))]"
   ]
  },
  {
   "cell_type": "code",
   "execution_count": 68,
   "id": "274acb7c-9ceb-47cd-b5de-c50493a50fa5",
   "metadata": {},
   "outputs": [],
   "source": [
    "ch = ch.loc[~(ch.token_num == 0)]"
   ]
  },
  {
   "cell_type": "code",
   "execution_count": 69,
   "id": "7dfc5c45-17fc-4ab1-9ec5-417d81fdd0c9",
   "metadata": {},
   "outputs": [
    {
     "data": {
      "text/plain": [
       "count    11252.000000\n",
       "mean      2000.793192\n",
       "std       2766.807870\n",
       "min          1.000000\n",
       "25%        455.000000\n",
       "50%       1586.000000\n",
       "75%       2431.500000\n",
       "max      93052.000000\n",
       "Name: token_num, dtype: float64"
      ]
     },
     "execution_count": 69,
     "metadata": {},
     "output_type": "execute_result"
    }
   ],
   "source": [
    "ch['token_num'].describe()"
   ]
  },
  {
   "cell_type": "code",
   "execution_count": 75,
   "id": "ff60e42a-af28-4354-b855-b0ce2b5e3315",
   "metadata": {},
   "outputs": [],
   "source": [
    "ch = ch.loc[~(ch.token_num < 50)]"
   ]
  },
  {
   "cell_type": "code",
   "execution_count": 83,
   "id": "c13ffc11-7ee3-48c7-9f8c-fbe933ff9e44",
   "metadata": {},
   "outputs": [
    {
     "data": {
      "text/plain": [
       "count    10963.000000\n",
       "mean      2052.707288\n",
       "std       2784.259775\n",
       "min         50.000000\n",
       "25%        532.500000\n",
       "50%       1635.000000\n",
       "75%       2461.000000\n",
       "max      93052.000000\n",
       "Name: token_num, dtype: float64"
      ]
     },
     "execution_count": 83,
     "metadata": {},
     "output_type": "execute_result"
    }
   ],
   "source": [
    "ch.token_num.describe()"
   ]
  },
  {
   "cell_type": "code",
   "execution_count": 84,
   "id": "0a486085-647f-4d64-961c-680f15b40c0b",
   "metadata": {},
   "outputs": [],
   "source": [
    "ch['test_tokens'] = ch.apply(lambda x: x.tokens[:500] if x.token_num > 500 else x.tokens, axis=1)"
   ]
  },
  {
   "cell_type": "code",
   "execution_count": 131,
   "id": "2ab75b36-8870-4aa6-8546-a60804d24a81",
   "metadata": {},
   "outputs": [],
   "source": [
    "ch['decade'] = ch['year'].apply(lambda x: str(x)[:3] + '0')"
   ]
  },
  {
   "cell_type": "code",
   "execution_count": 95,
   "id": "c8642955-c4cc-44f9-b9c6-5ad2bf6b6704",
   "metadata": {},
   "outputs": [
    {
     "data": {
      "text/plain": [
       "1800s    1154\n",
       "1810s    1036\n",
       "1850s     905\n",
       "1790s     848\n",
       "1870s     710\n",
       "1770s     698\n",
       "1880s     686\n",
       "1860s     674\n",
       "1830s     670\n",
       "1820s     641\n",
       "1840s     569\n",
       "1760s     524\n",
       "1890s     414\n",
       "1900s     411\n",
       "1780s     339\n",
       "1930s     214\n",
       "1740s     181\n",
       "1750s     116\n",
       "1910s      94\n",
       "1920s      79\n",
       "Name: decade, dtype: int64"
      ]
     },
     "execution_count": 95,
     "metadata": {},
     "output_type": "execute_result"
    }
   ],
   "source": [
    "ch.decade.value_counts()"
   ]
  },
  {
   "cell_type": "code",
   "execution_count": 106,
   "id": "884149f8-820b-41f7-8dd0-da715977769b",
   "metadata": {},
   "outputs": [
    {
     "data": {
      "image/png": "[encoded data removed]",
      "text/plain": [
       "<Figure size 432x288 with 1 Axes>"
      ]
     },
     "metadata": {
      "needs_background": "light"
     },
     "output_type": "display_data"
    }
   ],
   "source": [
    "plt.hist(ch.decade.sort_values(), bins= 20)\n",
    "plt.xticks(rotation = 60)\n",
    "plt.xticks(['1740s', '1750s', '1760s', '1770s', '1780s', '1790s',\n",
    "            '1800s', '1810s', '1820s', '1830s', '1840s', \n",
    "            '1850s', '1860s', '1870s', '1880s', '1890s', \n",
    "            '1900s', '1910s', '1920s', '1930s']) \n",
    "plt.show()"
   ]
  },
  {
   "cell_type": "markdown",
   "id": "ebcb090f-6470-418e-8ba6-4ed4cf5986d6",
   "metadata": {},
   "source": [
    "we see some issue here: a major part of the chapters was written in the 19th century. We don't care about that for now, but keep it in mind for later. Two solution could be:\n",
    "- focus on the rich middle part: about 1760s - 1890s with a limit of about 500 chapters per decade\n",
    "- collect data explicitly from decades that are misrepresented\n"
   ]
  },
  {
   "cell_type": "code",
   "execution_count": 115,
   "id": "beb770d4-b255-4c4e-ae48-888832455df1",
   "metadata": {},
   "outputs": [],
   "source": [
    "ch['test_strings'] = ch['test_tokens'].apply(lambda x: ' '.join(x))"
   ]
  },
  {
   "cell_type": "code",
   "execution_count": 132,
   "id": "5360e5fb-9e26-4ef9-b569-f8178a45d030",
   "metadata": {},
   "outputs": [],
   "source": [
    "X = ch['test_strings']\n",
    "y = ch['decade']"
   ]
  },
  {
   "cell_type": "code",
   "execution_count": 133,
   "id": "1a51752c-540a-47f9-b3fd-afb0ee6f1d9d",
   "metadata": {},
   "outputs": [],
   "source": [
    "from sklearn.model_selection import train_test_split\n",
    "from sklearn.feature_extraction.text import CountVectorizer, TfidfTransformer\n",
    "from sklearn.naive_bayes import MultinomialNB"
   ]
  },
  {
   "cell_type": "code",
   "execution_count": 134,
   "id": "e95e3f72-faad-4239-bfd2-dc6a992801af",
   "metadata": {},
   "outputs": [],
   "source": [
    "X_train, X_test, y_train, y_test = train_test_split(X,y, train_size = 0.85, random_state=42)"
   ]
  },
  {
   "cell_type": "code",
   "execution_count": 135,
   "id": "c5b8f372-fd7b-4fd2-9b88-7ca6a883c5f2",
   "metadata": {},
   "outputs": [],
   "source": [
    "count_vector = CountVectorizer()\n",
    "X_train_counts = count_vector.fit_transform(X_train)"
   ]
  },
  {
   "cell_type": "code",
   "execution_count": 136,
   "id": "75f5db42-aba2-46eb-b9c6-6f74a68c65db",
   "metadata": {},
   "outputs": [],
   "source": [
    "tfidf_transformer = TfidfTransformer()\n",
    "X_train_tfidf = tfidf_transformer.fit_transform(X_train_counts)"
   ]
  },
  {
   "cell_type": "code",
   "execution_count": 137,
   "id": "5405d5ae-9380-4c44-9ef8-6cdf5a86316c",
   "metadata": {},
   "outputs": [
    {
     "data": {
      "text/plain": [
       "MultinomialNB()"
      ]
     },
     "execution_count": 137,
     "metadata": {},
     "output_type": "execute_result"
    }
   ],
   "source": [
    "clf = MultinomialNB()\n",
    "clf.fit(X_train_tfidf, y_train)"
   ]
  },
  {
   "cell_type": "code",
   "execution_count": 138,
   "id": "de8af32e-2148-443b-81e5-3b81f45d1da6",
   "metadata": {},
   "outputs": [],
   "source": [
    "X_test_counts = count_vector.transform(X_test)\n",
    "X_test_tfidf = tfidf_transformer.transform(X_test_counts)"
   ]
  },
  {
   "cell_type": "code",
   "execution_count": 139,
   "id": "5705e343-582e-4acd-aefb-d912b263d483",
   "metadata": {},
   "outputs": [],
   "source": [
    "y_pred = clf.predict(X_test_tfidf)"
   ]
  },
  {
   "cell_type": "code",
   "execution_count": 140,
   "id": "5669ef9c-98d9-4759-a346-52cf45056353",
   "metadata": {},
   "outputs": [],
   "source": [
    "from sklearn.metrics import accuracy_score"
   ]
  },
  {
   "cell_type": "code",
   "execution_count": 141,
   "id": "506325b0-65e9-418d-986d-1c4e17d78584",
   "metadata": {},
   "outputs": [
    {
     "data": {
      "text/plain": [
       "0.3513677811550152"
      ]
     },
     "execution_count": 141,
     "metadata": {},
     "output_type": "execute_result"
    }
   ],
   "source": [
    "accuracy_score(y_test, y_pred)"
   ]
  },
  {
   "cell_type": "code",
   "execution_count": 127,
   "id": "a014f11c-df2e-49e3-a0c0-ad656d087be7",
   "metadata": {},
   "outputs": [],
   "source": [
    "import seaborn as sns"
   ]
  },
  {
   "cell_type": "code",
   "execution_count": 183,
   "id": "7e182f88-6008-42d5-b812-1b67976cc1d5",
   "metadata": {},
   "outputs": [],
   "source": [
    "from sklearn.metrics import confusion_matrix, ConfusionMatrixDisplay"
   ]
  },
  {
   "cell_type": "code",
   "execution_count": 185,
   "id": "bd766ea6-1a88-4032-a603-c71c6a027fac",
   "metadata": {},
   "outputs": [
    {
     "data": {
      "image/png": "[encoded data removed]",
      "text/plain": [
       "<Figure size 432x288 with 2 Axes>"
      ]
     },
     "metadata": {
      "needs_background": "light"
     },
     "output_type": "display_data"
    }
   ],
   "source": [
    "dist = ConfusionMatrixDisplay(heat_data)\n",
    "dist.plot()\n",
    "plt.show()"
   ]
  },
  {
   "cell_type": "code",
   "execution_count": 176,
   "id": "f5fe035b-88bf-46ec-86ca-dcff1bd91853",
   "metadata": {},
   "outputs": [],
   "source": [
    "heat_data = confusion_matrix(y_test, y_pred)"
   ]
  },
  {
   "cell_type": "code",
   "execution_count": 188,
   "id": "6c9d8946-de0a-469c-a107-ddf4ebfe7b03",
   "metadata": {},
   "outputs": [
    {
     "data": {
      "image/png": "[encoded data removed]",
      "text/plain": [
       "<Figure size 864x720 with 2 Axes>"
      ]
     },
     "metadata": {
      "needs_background": "light"
     },
     "output_type": "display_data"
    }
   ],
   "source": [
    "fig, ax = plt.subplots(figsize = (12,10))\n",
    "sns.heatmap(data = heat_data)\n",
    "\n",
    "plt.show()"
   ]
  },
  {
   "cell_type": "code",
   "execution_count": 193,
   "id": "d83b0e8b-bb21-4bd1-8ade-576448182569",
   "metadata": {},
   "outputs": [
    {
     "data": {
      "text/plain": [
       "41"
      ]
     },
     "execution_count": 193,
     "metadata": {},
     "output_type": "execute_result"
    }
   ],
   "source": [
    "ch.author.nunique()"
   ]
  },
  {
   "cell_type": "markdown",
   "id": "3e7eddbc-9342-4c26-b8a9-6daa7aff00d3",
   "metadata": {},
   "source": [
    "from the value_counts of the test_data and from the heatmap it can be seen that our model likes to predict the decades that it has been fed the most.\n",
    "But nonetheless: 35% accuracy.\n",
    "\n",
    "better than random, so it could be worse :) I wished the predictions would have been closer to the principal diagonal of the heatmap though.\n",
    "\n",
    "Interesting observation to note: The predicted labels for 2, 3, 9, 10, 12, 13, 16 (and almost 14) have all been correct! \n",
    "\n",
    "The corresponding decades are: 1760, 1770, 1830, 1840, 1860, 1870, 1900.\n",
    "\n",
    "So the machine only used these labels if it was (almost) certain the label was correct! \n",
    "Maybe some works from these decade use quite unique words, that are not seen in other decades. These could very well be Character Names or places that were mentioned. If these special words are missing it takes the \"safe\" decades which the machine was trained with the most.\n",
    "\n",
    "## Ideas for improvement:\n",
    "- As mentioned before we saw that our data is skewed. We can collect more data or limit the amount of chapter from each decade.\n",
    "- Get more authors in exchange for a maximum number of titles from each author for a more diverse training. Right now we only have 41 authors.\n",
    "- Don't limit the number of tokens for training the model. Maybe because of the limited amount of words the AI could not get the 'essence' of the chapter for classification\n",
    "- Try other classification models\n",
    "- remove stop-words in preprocessing\n",
    "- Remove Character names and names of places from the tokens.\n",
    "- Try not to predict the decade but the era/period (e.g. baroque, classicism, romanticism). If some author has the most publications e.g. in the years 1809 - 1811, then the categorization into different decades seems arbitrary for the machine. Style differences among different eras (and therefore maybe also between ) might be easier to grasp for classification models."
   ]
  }
 ],
 "metadata": {
  "kernelspec": {
   "display_name": "Python 3 (ipykernel)",
   "language": "python",
   "name": "python3"
  },
  "language_info": {
   "codemirror_mode": {
    "name": "ipython",
    "version": 3
   },
   "file_extension": ".py",
   "mimetype": "text/x-python",
   "name": "python",
   "nbconvert_exporter": "python",
   "pygments_lexer": "ipython3",
   "version": "3.9.7"
  }
 },
 "nbformat": 4,
 "nbformat_minor": 5
}
