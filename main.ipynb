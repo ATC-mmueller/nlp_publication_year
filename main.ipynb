{
 "cells": [
  {
   "cell_type": "markdown",
   "id": "b24cb577-b002-4580-b28f-d80e699aed51",
   "metadata": {},
   "source": [
    "## Data Scraping\n",
    "\n",
    "As a first step we will scrape the necessary data to proceed, namely:\n",
    "- titles for each author that are publicly available\n",
    "- publishing year, if it is stored in the metadata\n",
    "- text strings split into single chapters"
   ]
  },
  {
   "cell_type": "code",
   "execution_count": 1,
   "id": "7caa9ea1-5543-4269-b3fe-6c9e46726620",
   "metadata": {},
   "outputs": [],
   "source": [
    "from bs4 import BeautifulSoup\n",
    "import requests"
   ]
  },
  {
   "cell_type": "code",
   "execution_count": 2,
   "id": "889e7022-50a0-452b-ab71-de5423057993",
   "metadata": {},
   "outputs": [],
   "source": [
    "import pandas as pd"
   ]
  },
  {
   "cell_type": "code",
   "execution_count": 3,
   "id": "21d0a18b-e26b-4caf-a7b5-f703a8405b48",
   "metadata": {},
   "outputs": [],
   "source": [
    "from src.scraping import scrape_titles_years\n",
    "from src.utils import dict_to_csv, csv_to_dict"
   ]
  },
  {
   "cell_type": "code",
   "execution_count": 4,
   "id": "df01a59d-0e7b-4533-be44-1f41a51e3faa",
   "metadata": {},
   "outputs": [],
   "source": [
    "authors_df = pd.read_csv('data/authors.csv')\n",
    "titles_years_list = []\n",
    "for url in authors_df.author_url:\n",
    "    titles_years_list.extend(scrape_titles_years(url))\n",
    "\n",
    "df = pd.DataFrame(data = titles_years_list, columns = ['author_url', 'title', 'title_url', 'year'])\n",
    "df.to_csv('data/titles.csv', index=False)"
   ]
  },
  {
   "cell_type": "code",
   "execution_count": 3,
   "id": "db3925d9-7952-472c-901d-2dbd0c61e3ec",
   "metadata": {},
   "outputs": [],
   "source": [
    "titles_df = pd.read_csv('data/titles.csv')"
   ]
  },
  {
   "cell_type": "code",
   "execution_count": 4,
   "id": "c49d5c4b-f203-4be7-85c1-08a462b78fcb",
   "metadata": {},
   "outputs": [],
   "source": [
    "from src.scraping import scrape_chapters"
   ]
  },
  {
   "cell_type": "code",
   "execution_count": 6,
   "id": "a7c6e176-b0fa-4ef4-9767-4a8b5832097a",
   "metadata": {},
   "outputs": [],
   "source": [
    "chapters_list = []\n",
    "for title in titles_df.title_url:\n",
    "    chapters_list.append(scrape_chapters(title))\n",
    "\n",
    "df = pd.DataFrame(data = chapters_list, columns = ['title_url',\n",
    "                                              'chapter_num',\n",
    "                                              'chapter'])\n",
    "df.to_csv('data/chapters.csv', index=False) "
   ]
  },
  {
   "cell_type": "markdown",
   "id": "5979d1d3-e43f-4987-b8d0-d6f4639177ee",
   "metadata": {},
   "source": [
    "## Using API's\n",
    "If scraping the years from projekt-gutenberg.org does not yield any results, we'll have to rely on API's. Trying to avoid that because of hard limits though."
   ]
  },
  {
   "cell_type": "code",
   "execution_count": null,
   "id": "50118512-6045-43a8-9585-8b895d432a70",
   "metadata": {},
   "outputs": [],
   "source": [
    "from src.utils import PrivateKeysHandler"
   ]
  },
  {
   "cell_type": "code",
   "execution_count": 22,
   "id": "baca2f5c-c457-41b7-8253-f7190c811b78",
   "metadata": {},
   "outputs": [],
   "source": [
    "relative_path_to_file = '.env'\n",
    "keys = PrivateKeysHandler(relative_path_to_file)\n",
    "api_key_dict = keys.load_keys('APIs')"
   ]
  },
  {
   "cell_type": "code",
   "execution_count": 52,
   "id": "687112e6-af77-49a3-a861-d3c7cc7fd71e",
   "metadata": {
    "collapsed": true,
    "jupyter": {
     "outputs_hidden": true
    },
    "tags": []
   },
   "outputs": [
    {
     "name": "stdout",
     "output_type": "stream",
     "text": [
      "{\"search_term\":\"theodor+fontane+effi+briest\",\"search_site\":null,\"knowledge_panel\":{\"name\":\"Effi Briest\",\"label\":\"Novel by Theodor Fontane\",\"description\":{\"text\":\"Effi Briest is a realist novel by Theodor Fontane. Published in book form in 1895, Effi Briest marks both a watershed and a climax in the poetic realism of literature.\",\"url\":\"https:\\/\\/en.wikipedia.org\\/wiki\\/Effi_Briest\",\"site\":\"Wikipedia\"},\"image\":{\"url\":\"https:\\/\\/encrypted-tbn0.gstatic.com\\/images?q=tbn:mP-X_DD_yDH2zM\",\"width\":181,\"height\":278,\"page_url\":\"https:\\/\\/books.google.com\\/books\\/about\\/Effi_Briest.html?id=OYX5JoRGQkoC&source=kp_cover\"},\"info\":[{\"title\":\"Originally published\",\"labels\":[\"1894\"]},{\"title\":\"Author\",\"labels\":[\"Theodor Fontane\"]},{\"title\":\"Genre\",\"labels\":[\"Novel\"]},{\"title\":\"Adaptations\",\"labels\":[\"Effi Briest (1974)\",\"The False Step (1939)\"]}]},\"results\":[{\"position\":1,\"url\":\"https:\\/\\/en.wikipedia.org\\/wiki\\/Effi_Briest\",\"title\":\"Effi Briest - Wikipedia\",\"description\":\"Effi Briest is a realist novel by Theodor Fontane. Published in book form in 1895, Effi Briest marks both a watershed and a climax in the poetic realism of\\u00a0...\"}],\"related_keywords\":{\"spelling_suggestion_html\":null,\"spelling_suggestion\":null,\"keywords\":[{\"position\":1,\"knowledge\":null,\"keyword_html\":\"<b>theodor fontane effi briest<\\/b>\",\"keyword\":\"theodor fontane effi briest\"},{\"position\":2,\"knowledge\":null,\"keyword_html\":\"<b>sterilet en cuivre avantage et inconvenient<\\/b>\",\"keyword\":\"sterilet en cuivre avantage et inconvenient\"},{\"position\":3,\"knowledge\":null,\"keyword_html\":\"<b>theodor w. adorno quotes<\\/b>\",\"keyword\":\"theodor w. adorno quotes\"},{\"position\":4,\"knowledge\":null,\"keyword_html\":\"<b>the cons of formant<\\/b>\",\"keyword\":\"the cons of formant\"}]}}\n"
     ]
    }
   ],
   "source": [
    "# import requests\n",
    "\n",
    "# url = \"https://google-web-search.p.rapidapi.com/\"\n",
    "\n",
    "# querystring = {\"query\":\"theodor+fontane+effi+briest\",\"max\":\"1\"}\n",
    "\n",
    "# headers = {\n",
    "# \t\"X-RapidAPI-Key\": api_key_dict['google_web_search_key'],\n",
    "# \t\"X-RapidAPI-Host\": \"google-web-search.p.rapidapi.com\"\n",
    "# }\n",
    "\n",
    "# response = requests.request(\"GET\", url, headers=headers, params=querystring)\n",
    "\n",
    "# print(response.text)"
   ]
  },
  {
   "cell_type": "code",
   "execution_count": 59,
   "id": "d3862dba-b998-45d5-bce6-45abde07a2a4",
   "metadata": {},
   "outputs": [
    {
     "data": {
      "text/plain": [
       "1894"
      ]
     },
     "execution_count": 59,
     "metadata": {},
     "output_type": "execute_result"
    }
   ],
   "source": [
    "#int(response.json()['knowledge_panel']['info'][0]['labels'][0])"
   ]
  },
  {
   "cell_type": "code",
   "execution_count": null,
   "id": "f90fcbff-d263-476d-8d85-334aa02b6b09",
   "metadata": {},
   "outputs": [],
   "source": []
  }
 ],
 "metadata": {
  "kernelspec": {
   "display_name": "Python 3 (ipykernel)",
   "language": "python",
   "name": "python3"
  },
  "language_info": {
   "codemirror_mode": {
    "name": "ipython",
    "version": 3
   },
   "file_extension": ".py",
   "mimetype": "text/x-python",
   "name": "python",
   "nbconvert_exporter": "python",
   "pygments_lexer": "ipython3",
   "version": "3.9.7"
  }
 },
 "nbformat": 4,
 "nbformat_minor": 5
}
