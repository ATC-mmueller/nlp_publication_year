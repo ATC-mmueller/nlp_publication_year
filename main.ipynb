{
 "cells": [
  {
   "cell_type": "code",
   "execution_count": 64,
   "id": "7caa9ea1-5543-4269-b3fe-6c9e46726620",
   "metadata": {},
   "outputs": [],
   "source": [
    "from bs4 import BeautifulSoup\n",
    "import requests"
   ]
  },
  {
   "cell_type": "code",
   "execution_count": null,
   "id": "21d0a18b-e26b-4caf-a7b5-f703a8405b48",
   "metadata": {},
   "outputs": [],
   "source": [
    "from src.utils import PrivateKeysHandler"
   ]
  },
  {
   "cell_type": "code",
   "execution_count": null,
   "id": "baca2f5c-c457-41b7-8253-f7190c811b78",
   "metadata": {},
   "outputs": [],
   "source": [
    "relative_path_to_file = '.env'\n",
    "keys = PrivateKeysHandler(relative_path_to_file)\n",
    "api_key_dict = keys.load_keys('APIs')"
   ]
  },
  {
   "cell_type": "code",
   "execution_count": 1,
   "id": "889e7022-50a0-452b-ab71-de5423057993",
   "metadata": {},
   "outputs": [],
   "source": [
    "import pandas as pd"
   ]
  },
  {
   "cell_type": "code",
   "execution_count": 65,
   "id": "e48eb333-920c-4336-9732-0d2937e7262a",
   "metadata": {},
   "outputs": [],
   "source": [
    "url = 'https://www.projekt-gutenberg.org/etahoff/goldtopf/goldtopf.html'"
   ]
  },
  {
   "cell_type": "code",
   "execution_count": 66,
   "id": "82796d7c-0744-4a8e-9e88-5b564ac18f18",
   "metadata": {},
   "outputs": [],
   "source": [
    "r = requests.get('https://www.projekt-gutenberg.org/etahoff/goldtopf/goldtopf.html')"
   ]
  },
  {
   "cell_type": "code",
   "execution_count": 67,
   "id": "5a296c44-84a1-45de-983a-4cfc8333fb70",
   "metadata": {},
   "outputs": [
    {
     "data": {
      "text/plain": [
       "200"
      ]
     },
     "execution_count": 67,
     "metadata": {},
     "output_type": "execute_result"
    }
   ],
   "source": [
    "r.status_code"
   ]
  },
  {
   "cell_type": "code",
   "execution_count": 68,
   "id": "83961f04-b6c9-45af-95c3-93f7b076f8e4",
   "metadata": {},
   "outputs": [],
   "source": [
    "soup = BeautifulSoup(r.content, 'html.parser')"
   ]
  },
  {
   "cell_type": "code",
   "execution_count": 12,
   "id": "e98d24df-9477-4d9e-9a80-1e4860b8d64e",
   "metadata": {
    "collapsed": true,
    "jupyter": {
     "outputs_hidden": true
    },
    "tags": []
   },
   "outputs": [
    {
     "data": {
      "text/plain": [
       "<!DOCTYPE HTML PUBLIC \"-//W3C//DTD HTML 4.01 Transitional//EN\" \"hmpro6.dtd\">\n",
       "\n",
       "<html lang=\"de\">\n",
       "<head>\n",
       "<title>E.T.A. Hoffmann: Der goldne Topf</title>\n",
       "<meta content=\"fairy\" name=\"type\"/>\n",
       "<meta content=\"Der goldne Topf\" name=\"booktitle\"/>\n",
       "<meta content=\"E.T.A. Hoffmann\" name=\"author\"/>\n",
       "<meta content=\"1981\" name=\"year\"/>\n",
       "<meta content=\"Insel Verlag\" name=\"publisher\"/>\n",
       "<meta content=\"Frankfurt am Main\" name=\"address\"/>\n",
       "<meta content=\"3-458-32270-1\" name=\"isbn\"/>\n",
       "<meta content=\"Der goldne Topf\" name=\"title\"/>\n",
       "<meta content=\"gerd.bouillon@t-online.de\" name=\"sender\"/>\n",
       "<link href=\"../../css/prosa.css\" rel=\"stylesheet\" type=\"text/css\"/>\n",
       "<meta content=\"1814\" name=\"firstpub\"/>\n",
       "<link href=\"../../css/dropdown.css\" rel=\"stylesheet\" type=\"text/css\"/>\n",
       "<link href=\"../../css/form.css\" rel=\"stylesheet\" type=\"text/css\"/>\n",
       "<meta content=\"Projekt Gutenberg | Die weltweit größte kostenlose deutschsprachige Volltext-Literatursammlung | Klassische Werke von A bis Z | Bücher gratis online lesen\" name=\"description\"/>\n",
       "<script src=\"/js/showmeta.js\" type=\"text/javascript\"></script>\n",
       "<meta content=\"text/html; charset=utf-8\" http-equiv=\"Content-Type\">\n",
       "<meta content=\"de\" http-equiv=\"content-language\"/>\n",
       "<!-- Matomo -->\n",
       "<script type=\"text/javascript\">\n",
       "  var _paq = window._paq || [];\n",
       "  /* tracker methods like \"setCustomDimension\" should be called before \"trackPageView\" */\n",
       "  _paq.push(['trackPageView']);\n",
       "  _paq.push(['enableLinkTracking']);\n",
       "  (function() {\n",
       "    var u=\"//www.projekt-gutenberg.org/matomo/\";\n",
       "    _paq.push(['setTrackerUrl', u+'matomo.php']);\n",
       "    _paq.push(['setSiteId', '1']);\n",
       "    var d=document, g=d.createElement('script'), s=d.getElementsByTagName('script')[0];\n",
       "    g.type='text/javascript'; g.async=true; g.defer=true; g.src=u+'matomo.js'; s.parentNode.insertBefore(g,s);\n",
       "  })();\n",
       "</script>\n",
       "<!-- End Matomo Code -->\n",
       "</meta></head>\n",
       "<body>\n",
       "<div class=\"navi-gb-ed15\">\n",
       "<table align=\"center\" background=\"../../info/pic/bg-header.jpg\" bgcolor=\"#ffffff\" border=\"0\" cellpadding=\"0\" cellspacing=\"0\" class=\"center\" width=\"100%\">\n",
       "<tr>\n",
       "<td>\n",
       "<table align=\"center\" border=\"0\" cellpadding=\"0\" cellspacing=\"0\" class=\"center\" height=\"61\" width=\"100%\">\n",
       "<tr>\n",
       "<td align=\"center\" class=\"autalpha\">\n",
       "<img alt=\"Projekt Gutenberg-DE\" border=\"0\" height=\"150\" src=\"../../info/pic/gb_800.jpg\" width=\"800\"/> </td>\n",
       "</tr>\n",
       "<tr>\n",
       "<td>\n",
       "<table align=\"center\" cellpadding=\"0\" cellspacing=\"0\" height=\"20\" width=\"100%\">\n",
       "<tr>\n",
       "<td class=\"mainnav\">\n",
       "<a href=\"../../index.html\">Startseite</a></td>\n",
       "<td align=\"CENTER\" class=\"mainnav\">∞</td>\n",
       "<td align=\"center\" class=\"mainnav\">\n",
       "<a href=\"../../info/texte/allworka.html\">Alle Werke</a></td>\n",
       "<td align=\"CENTER\" class=\"mainnav\">∞</td>\n",
       "<td align=\"center\" class=\"mainnav\">\n",
       "<a href=\"../../info/texte/neu.html\">Neu</a></td>\n",
       "<td align=\"CENTER\" class=\"mainnav\">∞</td>\n",
       "<td align=\"center\" class=\"mainnav\">\n",
       "<a href=\"../../info/texte/info.html\">Information</a></td>\n",
       "<td align=\"CENTER\" class=\"mainnav\">∞</td>\n",
       "<td align=\"center\" class=\"mainnav\">\n",
       "<a href=\"https://gutenberg.abc.de/\" target=\"_blank\">Shop</a></td>\n",
       "<td align=\"CENTER\" class=\"mainnav\">∞</td>\n",
       "<td align=\"center\" class=\"mainnav\">\n",
       "<a href=\"../../info/texte/lesetips.html\">Lesetips</a></td>\n",
       "<td align=\"CENTER\" class=\"mainnav\">∞</td>\n",
       "<td align=\"center\" class=\"mainnav\">\n",
       "<a href=\"../../info/texte/themen.html\">Themen</a></td>\n",
       "<td align=\"CENTER\" class=\"mainnav\">∞</td>\n",
       "<td align=\"center\" class=\"mainnav\">\n",
       "<a class=\"mainlink\" href=\"../../info/texte/verlag.html\">Buchverlag</a></td>\n",
       "<td align=\"center\" class=\"mainnav\">∞</td>\n",
       "<td align=\"center\" class=\"mainnav\"><a href=\"../../info/texte/impress.html\">Impressum</a></td>\n",
       "<td align=\"center\" class=\"mainnav\">∞</td>\n",
       "<td align=\"center\" class=\"mainnav\"><a href=\"http://www.abc.de/datenschutz.html\" target=\"_blank\">Datenschutz</a></td>\n",
       "<td align=\"center\" class=\"mainnav\">∞</td>\n",
       "<td class=\"mainnav\"><a onclick=\"ShowMeta()\" onmouseout=\"HideMeta()\" size=\"-1\"><font color=\"#003399\">Quellenangabe</font></a></td>\n",
       "</tr>\n",
       "</table> </td>\n",
       "</tr>\n",
       "<tr>\n",
       "<td>\n",
       "<table align=\"center\" border=\"0\" width=\"95%\">\n",
       "<tr>\n",
       "<td align=\"right\"> Autoren: </td>\n",
       "<td align=\"center\" class=\"autalpha\">\n",
       "<a href=\"../../autoren/info/autor-a.html\">A</a> </td>\n",
       "<td class=\"trenner\">·</td>\n",
       "<td align=\"center\" class=\"autalpha\">\n",
       "<a href=\"../../autoren/info/autor-b.html\">B</a> </td>\n",
       "<td class=\"trenner\">·</td>\n",
       "<td align=\"center\" class=\"autalpha\">\n",
       "<a href=\"../../autoren/info/autor-c.html\">C</a> </td>\n",
       "<td class=\"trenner\">·</td>\n",
       "<td align=\"center\" class=\"autalpha\">\n",
       "<a href=\"../../autoren/info/autor-d.html\">D</a> </td>\n",
       "<td class=\"trenner\">·</td>\n",
       "<td align=\"center\" class=\"autalpha\">\n",
       "<a href=\"../../autoren/info/autor-e.html\">E</a> </td>\n",
       "<td class=\"trenner\">·</td>\n",
       "<td align=\"center\" class=\"autalpha\">\n",
       "<a href=\"../../autoren/info/autor-f.html\">F</a> </td>\n",
       "<td class=\"trenner\">·</td>\n",
       "<td align=\"center\" class=\"autalpha\">\n",
       "<a href=\"../../autoren/info/autor-g.html\">G</a> </td>\n",
       "<td class=\"trenner\">·</td>\n",
       "<td align=\"center\" class=\"autalpha\">\n",
       "<a href=\"../../autoren/info/autor-h.html\">H</a> </td>\n",
       "<td class=\"trenner\">·</td>\n",
       "<td align=\"center\" class=\"autalpha\">\n",
       "<a href=\"../../autoren/info/autor-i.html\">I</a> </td>\n",
       "<td class=\"trenner\">·</td>\n",
       "<td align=\"center\" class=\"autalpha\">\n",
       "<a href=\"../../autoren/info/autor-j.html\">J</a> </td>\n",
       "<td class=\"trenner\">·</td>\n",
       "<td align=\"center\" class=\"autalpha\">\n",
       "<a href=\"../../autoren/info/autor-k.html\">K</a> </td>\n",
       "<td class=\"trenner\">·</td>\n",
       "<td align=\"center\" class=\"autalpha\">\n",
       "<a href=\"../../autoren/info/autor-l.html\">L</a> </td>\n",
       "<td class=\"trenner\">·</td>\n",
       "<td align=\"center\" class=\"autalpha\">\n",
       "<a href=\"../../autoren/info/autor-m.html\">M</a> </td>\n",
       "<td class=\"trenner\">·</td>\n",
       "<td align=\"center\" class=\"autalpha\">\n",
       "<a href=\"../../autoren/info/autor-n.html\">N</a> </td>\n",
       "<td class=\"trenner\">·</td>\n",
       "<td align=\"center\" class=\"autalpha\">\n",
       "<a href=\"../../autoren/info/autor-o.html\">O</a> </td>\n",
       "<td class=\"trenner\">·</td>\n",
       "<td align=\"center\" class=\"autalpha\">\n",
       "<a href=\"../../autoren/info/autor-p.html\">P</a> </td>\n",
       "<td class=\"trenner\">·</td>\n",
       "<td align=\"center\" class=\"autalpha\">\n",
       "<a href=\"../../autoren/info/autor-q.html\">Q</a> </td>\n",
       "<td class=\"trenner\">·</td>\n",
       "<td align=\"center\" class=\"autalpha\">\n",
       "<a href=\"../../autoren/info/autor-r.html\">R</a> </td>\n",
       "<td class=\"trenner\">·</td>\n",
       "<td align=\"center\" class=\"autalpha\">\n",
       "<a href=\"../../autoren/info/autor-s.html\">S</a> </td>\n",
       "<td class=\"trenner\">·</td>\n",
       "<td align=\"center\" class=\"autalpha\">\n",
       "<a href=\"../../autoren/info/autor-t.html\">T</a> </td>\n",
       "<td class=\"trenner\">·</td>\n",
       "<td align=\"center\" class=\"autalpha\">\n",
       "<a href=\"../../autoren/info/autor-u.html\">U</a> </td>\n",
       "<td class=\"trenner\">·</td>\n",
       "<td align=\"center\" class=\"autalpha\">\n",
       "<a href=\"../../autoren/info/autor-v.html\">V</a> </td>\n",
       "<td class=\"trenner\">·</td>\n",
       "<td align=\"center\" class=\"autalpha\">\n",
       "<a href=\"../../autoren/info/autor-w.html\">W</a> </td>\n",
       "<td class=\"trenner\">·</td>\n",
       "<td align=\"center\" class=\"autalpha\">\n",
       "<a href=\"../../autoren/info/autor-x.html\">X</a> </td>\n",
       "<td class=\"trenner\">·</td>\n",
       "<td align=\"center\" class=\"autalpha\">\n",
       "<a href=\"../../autoren/info/autor-y.html\">Y</a> </td>\n",
       "<td class=\"trenner\">·</td>\n",
       "<td align=\"center\" class=\"autalpha\">\n",
       "<a href=\"../../autoren/info/autor-z.html\">Z</a> </td>\n",
       "<td class=\"trenner\">·</td>\n",
       "<td align=\"center\" class=\"autalpha\">\n",
       "<a href=\"../../autoren/info/autor-az.html\">Alle Autoren</a> </td>\n",
       "<td> </td>\n",
       "<td align=\"center\" class=\"autalpha\">\n",
       "<form action=\"/info/search/search.php\" class=\"gsearch\" id=\"search\" method=\"post\" style=\"margin:auto;max-width:500px\">\n",
       "<input name=\"searchstring\" type=\"text\" value=\"\"/>\n",
       "<button name=\"search\" type=\"submit\" value=\"suchen\"> <img alt=\"Suchen\" height=\"13\" src=\"/pic/lupe_weiss.png\" width=\"13\"/> </button>\n",
       "</form></td>\n",
       "</tr>\n",
       "</table> </td>\n",
       "</tr>\n",
       "</table> </td>\n",
       "</tr>\n",
       "</table> <br clear=\"all\"/> </div>\n",
       "<p><h5>E.T.A. Hoffmann</h5>\n",
       "<h5>Der goldne Topf</h5>\n",
       "<div class=\"dropdown\"><span><a href=\"index.html\">Inhalt</a></span><div class=\"dropdown-content\"><h4>Inhalt</h4>\n",
       "<ul>\n",
       "<li><a href=\"goldtopf.html\">E.T.A. Hoffmann</a></li>\n",
       "<li><a href=\"gtopf011.html\">Erste Vigilie</a></li>\n",
       "<li><a href=\"gtopf021.html\">Zweite Vigilie</a></li>\n",
       "<li><a href=\"gtopf022.html\">Kapitel 4</a></li>\n",
       "<li><a href=\"gtopf031.html\">Dritte Vigilie</a></li>\n",
       "<li><a href=\"gtopf041.html\">Vierte Vigilie</a></li>\n",
       "<li><a href=\"gtopf051.html\">Fünfte Vigilie</a></li>\n",
       "<li><a href=\"gtopf052.html\">Kapitel 8</a></li>\n",
       "<li><a href=\"gtopf061.html\">Sechste Vigilie</a></li>\n",
       "<li><a href=\"gtopf071.html\">Siebente Vigilie</a></li>\n",
       "<li><a href=\"gtopf081.html\">Achte Vigilie</a></li>\n",
       "<li><a href=\"gtopf082.html\">Kapitel 12</a></li>\n",
       "<li><a href=\"gtopf091.html\">Neunte Vigilie</a></li>\n",
       "<li><a href=\"gtopf092.html\">Kapitel 14</a></li>\n",
       "<li><a href=\"gtopf101.html\">Zehnte Vigilie</a></li>\n",
       "<li><a href=\"gtopf111.html\">Eilfte Vigilie</a></li>\n",
       "<li><a href=\"gtopf121.html\"><a id=\"DDE_LINK1\" name=\"DDE_LINK1\">Zwölfte Vigilie</a></a></li>\n",
       "</ul></div></div><a href=\"/autoren/namen/etahoff.html\" style=\"float: right;\">E.T.A. Hoffmann</a><br><hr color=\"#808080\" size=\"1\"/>   <a href=\"gtopf011.html\" style=\"float: right;\">weiter &gt;&gt;</a> \n",
       "\n",
       "<h3 class=\"author\">E.T.A. Hoffmann</h3>\n",
       "<h2 class=\"title\">Der goldne Topf</h2>\n",
       "<h3 class=\"subtitle\">Ein Märchen aus der neuen Zeit (1814)</h3>\n",
       "<hr class=\"short\"/>\n",
       "<h3>Inhalt</h3>\n",
       "<table class=\"toc\" summary=\"\">\n",
       "<tr>\n",
       "<td align=\"right\" valign=\"top\"><a href=\"#gtopf011\">Erste Vigilie</a></td>\n",
       "<td><i>Die Unglücksfälle des Studenten Anselmus. – Des Konrektors Paulmann Sanitätsknaster und die goldgrünen Schlangen.</i></td>\n",
       "</tr>\n",
       "<tr>\n",
       "<td align=\"right\" valign=\"top\"><a href=\"#gtopf021\">Zweite Vigilie</a></td>\n",
       "<td><i>Wie der Student Anselmus für betrunken und wahnwitzig gehalten wurde. – Die Fahrt über die Elbe. – Die Bravour-Arie des Kapellmeisters Graun. – Conradis Magen-Likör und das bronzierte Äpfelweib.</i></td>\n",
       "</tr>\n",
       "<tr>\n",
       "<td align=\"right\" valign=\"top\"><a href=\"#gtopf031\">Dritte Vigilie</a></td>\n",
       "<td><i>Nachrichten von der Familie des Archivarius Lindhorst.</i> – <i>Veronikas blaue Augen. – Der Registrator Heerbrand.</i></td>\n",
       "</tr>\n",
       "<tr>\n",
       "<td align=\"right\" valign=\"top\"><a href=\"#gtopf041\">Vierte Vigilie</a></td>\n",
       "<td><i>Melancholie des Studenten Anselmus. – Der smaragdene Spiegel. – Wie der Archivarius Lindhorst als Stoßgeier davonflog und der Student Anselmus niemandem begegnete.</i></td>\n",
       "</tr>\n",
       "<tr>\n",
       "<td align=\"right\" valign=\"top\"><a href=\"#gtopf051\">Fünfte Vigilie</a></td>\n",
       "<td><i>Die Frau Hofrätin Anselmus. – Cicero de officiis. – Meerkatzen und anderes Gesindel – Die alte Liese. – Das Aequinoctium.</i></td>\n",
       "</tr>\n",
       "<tr>\n",
       "<td align=\"right\" valign=\"top\"><a href=\"#gtopf061\">Sechste Vigilie</a></td>\n",
       "<td><i>Der Garten des Archivarius Lindhorst nebst einigen Spottvögeln. – Der goldne Topf. – Die englische Kursivschrift. – Schnöde Hahnenfüße. – Der Geisterfürst.</i></td>\n",
       "</tr>\n",
       "<tr>\n",
       "<td align=\"right\" valign=\"top\"><a href=\"#gtopf071\">Siebente Vigilie</a></td>\n",
       "<td><i>Wie der Konrektor Paulmann die Pfeife ausklopfte und zu Bett ging. – Rembrandt und Höllenbreughel. – Der Zauberspiegel und des Doktors Eckstein Rezept gegen eine unbekannte Krankheit.</i></td>\n",
       "</tr>\n",
       "<tr>\n",
       "<td align=\"right\" valign=\"top\"><a href=\"#gtopf081\">Achte Vigilie</a></td>\n",
       "<td><i>Die Bibliothek der Palmbäume. – Schicksale eines unglücklichen Salamanders. – Wie die schwarze Feder eine Runkelrübe liebkosete und der Registrator Heerbrand sich sehr betrank.</i></td>\n",
       "</tr>\n",
       "<tr>\n",
       "<td align=\"right\" valign=\"top\"><a href=\"#gtopf091\">Neunte Vigilie</a></td>\n",
       "<td><i>Wie der Student Anselmus zu einiger Vernunft gelangte. – Die Punschgesellschaft. – Wie der Student Anselmus den Konrektor Paulmann für einen Schuhu hielt, und dieser sich darob sehr erzürnte. – Der Tintenklecks und seine Folgen.</i></td>\n",
       "</tr>\n",
       "<tr>\n",
       "<td align=\"right\" valign=\"top\"><a href=\"#gtopf101\">Zehnte Vigilie</a></td>\n",
       "<td><i>Die Leiden des Studenten Anselmus in der gläsernen Flasche. – Glückliches Leben der Kreuzschüler und Praktikanten. – Die Schlacht im Bibliothek-Zimmer des Archivarius Lindhorst. – Sieg des Salamanders und Befreiung des Studenten Anselmus.</i></td>\n",
       "</tr>\n",
       "<tr>\n",
       "<td align=\"right\" valign=\"top\"><a href=\"#gtopf111\">Eilfte Vigilie</a></td>\n",
       "<td><i>Des Konrektors Paulmann Unwille über die in seiner Familie ausgebrochene Tollheit. – Wie der Registrator Heerbrand Hofrat worden und im stärksten Froste in Schuhen und seidenen Strümpfen einherging. – Veronikas Geständnisse. – Verlobung bei der dampfenden Suppenschüssel.</i></td>\n",
       "</tr>\n",
       "<tr>\n",
       "<td align=\"right\" valign=\"top\"><a href=\"#gtopf121\">Zwölfte Vigilie</a></td>\n",
       "<td><i>Nachricht von dem Rittergut, das der Anselmus als des Archivarius Lindhorst Schwiegersohn bezogen, und wie er dort mit der Serpentina lebt. – Beschluß.</i></td>\n",
       "</tr>\n",
       "</table>\n",
       "<hr class=\"short\"/>\n",
       "<hr color=\"#808080\" size=\"1\"/>   <a href=\"gtopf011.html\" style=\"float: right;\">weiter &gt;&gt;</a> \n",
       "</br></p></body>\n",
       "</html>"
      ]
     },
     "execution_count": 12,
     "metadata": {},
     "output_type": "execute_result"
    }
   ],
   "source": [
    "soup"
   ]
  },
  {
   "cell_type": "code",
   "execution_count": 69,
   "id": "ad634518-4975-4df7-afc8-c10abc60a6f7",
   "metadata": {},
   "outputs": [],
   "source": [
    "title = soup.select(\"meta[name='title']\")"
   ]
  },
  {
   "cell_type": "code",
   "execution_count": 70,
   "id": "a68b987f-b13b-4a92-a347-39dcd18b0f3c",
   "metadata": {},
   "outputs": [
    {
     "data": {
      "text/plain": [
       "'Der goldne Topf'"
      ]
     },
     "execution_count": 70,
     "metadata": {},
     "output_type": "execute_result"
    }
   ],
   "source": [
    "title[0]['content']"
   ]
  },
  {
   "cell_type": "code",
   "execution_count": 71,
   "id": "f3626ef1-96ce-4955-95af-e71a878286a0",
   "metadata": {},
   "outputs": [],
   "source": [
    "author = soup.select(\"meta[name='author']\")"
   ]
  },
  {
   "cell_type": "code",
   "execution_count": 72,
   "id": "eb572751-1fdc-45f4-9885-2c819e00189b",
   "metadata": {},
   "outputs": [
    {
     "data": {
      "text/plain": [
       "'E.T.A. Hoffmann'"
      ]
     },
     "execution_count": 72,
     "metadata": {},
     "output_type": "execute_result"
    }
   ],
   "source": [
    "author[0]['content']"
   ]
  },
  {
   "cell_type": "code",
   "execution_count": 73,
   "id": "2bc502b0-08b9-4107-806a-56e7ff75a9ee",
   "metadata": {},
   "outputs": [],
   "source": [
    "ch = []"
   ]
  },
  {
   "cell_type": "code",
   "execution_count": 74,
   "id": "4ca01329-d79a-4006-8ded-36b499bef8d1",
   "metadata": {},
   "outputs": [],
   "source": [
    "for chapter in soup.select('.dropdown-content li a[href]'):\n",
    "    ch.append(chapter['href'])"
   ]
  },
  {
   "cell_type": "code",
   "execution_count": 75,
   "id": "75697e21-8038-49a2-ac37-f60ffa821f95",
   "metadata": {},
   "outputs": [],
   "source": [
    "ch1 = url.replace(ch[0], ch[1])"
   ]
  },
  {
   "cell_type": "code",
   "execution_count": 76,
   "id": "e8e99326-5992-46b1-82f2-c4abc44d8b05",
   "metadata": {},
   "outputs": [
    {
     "data": {
      "text/plain": [
       "'https://www.projekt-gutenberg.org/etahoff/goldtopf/gtopf011.html'"
      ]
     },
     "execution_count": 76,
     "metadata": {},
     "output_type": "execute_result"
    }
   ],
   "source": [
    "ch1"
   ]
  },
  {
   "cell_type": "code",
   "execution_count": 77,
   "id": "447e9368-ea23-4f7d-a77c-8a13f61e463c",
   "metadata": {},
   "outputs": [],
   "source": [
    "response = requests.get(ch1)"
   ]
  },
  {
   "cell_type": "code",
   "execution_count": 79,
   "id": "fca076d0-58e7-475b-9927-91db7645a1a1",
   "metadata": {},
   "outputs": [],
   "source": [
    "soup1 = BeautifulSoup(response.content, 'html.parser')"
   ]
  },
  {
   "cell_type": "code",
   "execution_count": 82,
   "id": "f77d7a3a-3846-488f-8f38-00a81c840daa",
   "metadata": {},
   "outputs": [],
   "source": [
    "chapter1 = soup1.select('h2 ~ p')"
   ]
  },
  {
   "cell_type": "code",
   "execution_count": 83,
   "id": "e5a4e10c-09c1-4946-b7de-4efe71ebab36",
   "metadata": {
    "collapsed": true,
    "jupyter": {
     "outputs_hidden": true
    },
    "tags": []
   },
   "outputs": [
    {
     "data": {
      "text/plain": [
       "[<p class=\"center\"><i>Die Unglücksfälle des Studenten Anselmus. – Des Konrektors Paulmann Sanitätsknaster und die goldgrünen Schlangen.</i></p>,\n",
       " <p>Am Himmelfahrtstage, nachmittags um drei Uhr, rannte ein junger Mensch in Dresden durchs Schwarze Tor, und geradezu in einen Korb mit Äpfeln und Kuchen hinein, die ein altes häßliches Weib feilbot, so daß alles, was der Quetschung glücklich entgangen, hinausgeschleudert wurde, und die Straßenjungen sich lustig in die Beute teilten, die ihnen der hastige Herr zugeworfen. Auf das Zetergeschrei, das die Alte erhob, verließen die Gevatterinnen ihre Kuchen- und Branntweintische, umringten den jungen Menschen und schimpften mit pöbelhaftem Ungestüm auf ihn hinein, so daß er, vor Ärger und Scham verstummend, nur seinen kleinen, nicht eben besonders gefüllten Geldbeutel hinhielt, den die Alte begierig ergriff und schnell einsteckte. Nun öffnete sich der festgeschlossene Kreis, aber indem der junge Mensch hinausschoß, rief ihm die Alte nach: »Ja renne – renne nur zu, Satanskind – ins Kristall bald dein Fall – ins Kristall!« – Die gellende, krächzende Stimme des Weibes hatte etwas Entsetzliches, so daß die Spaziergänger verwundert stillstanden, und das Lachen, das sich erst verbreitet, mit einemmal verstummte. – Der Student Anselmus (niemand anders war der junge Mensch) fühlte sich, unerachtet er des Weibes sonderbare Worte durchaus nicht verstand, von einem unwillkürlichen Grausen ergriffen, und er beflügelte noch mehr seine Schritte, um sich den auf ihn gerichteten Blicken der neugierigen Menge zu entziehen. Wie er sich nun durch das Gewühl geputzter Menschen durcharbeitete, hörte er überall murmeln: »Der arme junge Mann – Ei! – über das verdammte Weib!« – Auf ganz sonderbare Weise hatten die geheimnisvollen Worte der Alten dem lächerlichen Abenteuer eine gewisse tragische Wendung gegeben, so daß man dem vorhin ganz Unbemerkten jetzt teilnehmend nachsah. Die Frauenzimmer verziehen dem wohlgebildeten Gesichte, dessen Ausdruck die Glut des innern Grimms noch erhöhte, sowie dem kräftigen Wuchse des Jünglings alles Ungeschick sowie den ganz aus dem Gebiete aller Mode liegenden Anzug. Sein hechtgrauer Frack war nämlich so zugeschnitten, als habe der Schneider, der ihn gearbeitet, die moderne Form nur von Hörensagen gekannt, und das schwarzatlasne wohlgeschonte Unterkleid gab dem Ganzen einen gewissen magistermäßigen Stil, dem sich nun wieder Gang und Stellung durchaus nicht fügen wollte. – Als der Student schon beinahe das Ende der Allee erreicht, die nach dem Linkischen Bade führt, wollte ihm beinahe der Atem ausgehen. Er war genötigt, langsamer zu wandeln; aber kaum wagte er den Blick in die Höhe zu richten, denn noch immer sah er die Äpfel und Kuchen um sich tanzen, und jeder freundliche Blick dieses oder jenes Mädchens war ihm nur der Reflex des schadenfrohen Gelächters am Schwarzen Tor. So war er bis an den Eingang des Linkischen Bades gekommen; eine Reihe festlich gekleideter Menschen nach der andern zog herein. Musik von Blasinstrumenten ertönte von innen, und immer lauter und lauter wurde das Gewühl der lustigen Gäste. Die Tränen wären dem armen Studenten Anselmus beinahe in die Augen getreten, denn auch er hatte, da der Himmelfahrtstag immer ein besonderes Familienfest für ihn gewesen, an der Glückseligkeit des Linkischen Paradieses teilnehmen, ja er hatte es bis zu einer halben Portion Kaffee mit Rum und einer Bouteille Doppelbier treiben wollen und, um so recht schlampampen zu können, mehr Geld eingesteckt, als eigentlich erlaubt und tunlich war. Und nun hatte ihn der fatale Tritt in den Äpfelkorb um alles gebracht, was er bei sich getragen. An Kaffee, an Doppelbier, an Musik, an den Anblick der geputzten Mädchen – kurz! – an alle geträumten Genüsse war nicht zu denken; er schlich langsam vorbei und schlug endlich den Weg an der Elbe ein, der gerade ganz einsam war. Unter einem Holunderbaume, der aus der Mauer hervorgesprossen, fand er ein freundliches Rasenplätzchen; da setzte er sich hin und stopfte eine Pfeife von dem Sanitätsknaster, den ihm sein Freund, der Konrektor Paulmann, geschenkt. – Dicht vor ihm plätscherten und rauschten die goldgelben Wellen des schönen Elbstroms, hinter demselben streckte das herrliche Dresden kühn und stolz seine lichten Türme empor in den duftigen Himmelsgrund, der sich hinabsenkte auf die blumigen Wiesen und frisch grünenden Wälder, und aus tiefer Dämmerung gaben die zackichten Gebirge Kunde vom fernen Böhmerlande. Aber finster vor sich hinblickend, blies der Student Anselmus die Dampfwolken in die Luft, und sein Unmut wurde endlich laut, indem er sprach: »Wahr ist es doch, ich bin zu allem möglichen Kreuz und Elend geboren! – Daß ich niemals Bohnenkönig geworden, daß ich im Paar oder Unpaar immer falsch geraten, daß mein Butterbrot immer auf die fette Seite gefallen, von allem diesen Jammer will ich gar nicht reden; aber ist es nicht ein schreckliches Verhängnis, daß ich, als ich denn doch nun dem Satan zum Trotz Student geworden war, ein Kümmeltürke sein und bleiben mußte? – Ziehe ich wohl je einen neuen Rock an, ohne gleich das erstemal einen Talgfleck hineinzubringen oder mir an einem übel eingeschlagenen Nagel ein verwünschtes Loch hineinzureißen? Grüße ich wohl je einen Herrn Hofrat oder eine Dame, ohne den Hut weit von mir zu schleudern oder gar auf dem glatten Boden auszugleiten und schändlich umzustülpen? Hatte ich nicht schon in Halle jeden Markttag eine bestimmte Ausgabe von drei bis vier Groschen für zertretene Töpfe, weil mir der Teufel in den Kopf setzt, meinen Gang geradeaus zu nehmen wie die Laminge? Bin ich denn ein einziges Mal ins Kollegium oder wo man mich sonst hinbeschieden, zu rechter Zeit gekommen? Was half es, daß ich eine halbe Stunde vorher ausging und mich vor die Tür hinstellte, den Drücker in der Hand, denn sowie ich mit dem Glockenschlage aufdrücken wollte, goß mir der Satan ein Waschbecken über den Kopf oder ließ mich mit einem Heraustretenden zusammenrennen, daß ich in tausend Händel verwickelt wurde und darüber alles versäumte. – Ach! ach! wo seid ihr hin, ihr seligen Träume künftigen Glücks, wie ich stolz wähnte, ich könne es wohl hier noch bis zum Geheimen Sekretär bringen! Aber hat mir mein Unstern nicht die besten Gönner verfeindet? – Ich weiß, daß der Geheime Rat, an den ich empfohlen bin, verschnittenes Haar nicht leiden mag; mit Mühe befestigt der Friseur einen kleinen Zopf an meinem Hinterhaupt, aber bei der ersten Verbeugung springt die unglückselige Schnur, und ein munterer Mops, der mich umschnüffelt, apportiert im Jubel das Zöpfchen dem Geheimen Rate. Ich springe erschrocken nach und stürze über den Tisch, an dem er frühstückend gearbeitet hat, so daß Tassen, Teller, Tintenfaß – Sandbüchse klirrend herabstürzen, und der Strom von Schokolade und Tinte sich über die eben geschriebene Relation ergießt. ›Herr, sind Sie des Teufels!‹ brüllt der erzürnte Geheime Rat und schiebt mich zur Tür hinaus. – Was hilft es, daß mir der Konrektor Paulmann Hoffnung zu einem Schreiberdienste gemacht hat, wird es denn mein Unstern zulassen, der mich überall verfolgt! – Nur noch heute! – Ich wollte den lieben Himmelfahrtstag recht in der Gemütlichkeit feiern, ich wollte ordentlich was daraufgehen lassen. Ich hätte ebensogut wie jeder andere Gast in Linkes Bade stolz rufen können: ›Markör – eine Flasche Doppelbier – aber vom besten bitte ich!‹ – Ich hätte bis spät abends sitzen können und noch dazu ganz nahe bei dieser oder jener Gesellschaft herrlich geputzter schöner Mädchen. Ich weiß es schon, der Mut wäre mir gekommen, ich wäre ein ganz anderer Mensch geworden; ja, ich hätte es so weit gebracht, daß wenn diese oder jene gefragt: ›Wie spät mag es wohl jetzt sein?‹ oder: ›Was ist denn das, was sie spielen?‹ da wäre ich mit leichtem Anstande aufgesprungen, ohne mein Glas umzuwerfen oder über die Bank zu stolpern; mich in gebeugter Stellung anderthalb Schritte vorwärtsbewegend, hätte ich gesagt: ›Erlauben Sie, Mademoiselle, Ihnen zu dienen, es ist die Ouvertüre aus dem Donauweibchen‹ oder: ›Es wird gleich sechs Uhr schlagen.‹ – Hätte mir das ein Mensch in der Welt übel deuten können? – Nein! sage ich, die Mädchen hätten sich so schalkhaft lächelnd angesehen, wie es wohl zu geschehen pflegt, wenn ich mich ermutige, zu zeigen, daß ich mich auch wohl auf den leichten Weltton verstehe und mit Damen umzugehen weiß. Aber da führt mich der Satan in den verwünschten Äpfelkorb, und nun muß ich in der Einsamkeit meinen Sanitätsknaster -« Hier wurde der Student Anselmus in seinem Selbstgespräche durch ein sonderbares Rieseln und Rascheln unterbrochen, das sich dicht neben ihm im Grase erhob, bald aber in die Zweige und Blätter des Holunderbaums hinaufglitt, der sich über seinem Haupte wölbte. Bald war es, als schüttle der Abendwind die Blätter, bald, als kosten Vögelein in den Zweigen, die kleinen Fittige im mutwilligen Hin- und Herflattern rührend. – Da fing es an zu flüstern und zu lispeln, und es war, als ertönten die Blüten wie aufgehangene Kristallglöckchen. Anselmus horchte und horchte. Da wurde, er wußte selbst nicht wie, das Gelispel und Geflüster und Geklingel zu leisen halbverwehten Worten:</p>,\n",
       " <p>»Zwischendurch – zwischenein – zwischen Zweigen, zwischen schwellenden Blüten, schwingen, schlängeln, schlingen wir uns – Schwesterlein – Schwesterlein, schwinge dich im Schimmer – schnell, schnell herauf – herab – Abendsonne schießt Strahlen, zischelt der Abendwind – raschelt der Tau – Blüten singen – rühren wir Zünglein, singen wir mit Blüten und Zweigen – Sterne bald glänzen – müssen herab zwischendurch, zwischenein schlängeln, schlingen, schwingen wir uns Schwesterlein.« –</p>,\n",
       " <p>So ging es fort in Sinne verwirrender Rede. Der Student Anselmus dachte: »Das ist denn doch nur der Abendwind, der heute mit ordentlich verständlichen Worten flüstert.« – Aber in dem Augenblick ertönte es über seinem Haupte wie ein Dreiklang heller Kristallglocken; er schaute hinauf und erblickte drei in grünem Gold erglänzende Schlänglein, die sich um die Zweige gewickelt hatten und die Köpfchen der Abendsonne entgegenstreckten. Da flüsterte und lispelte es von neuem in jenen Worten, und die Schlänglein schlüpften und kosten auf und nieder durch die Blätter und Zweige, und wie sie sich so schnell rührten, da war es, als streue der Holunderbusch tausend funkelnde Smaragde durch seine dunklen Blätter. »Das ist die Abendsonne, die so in dem Holunderbusch spielt«, dachte der Student Anselmus, aber da ertönten die Glocken wieder, und Anselmus sah, wie eine Schlange ihr Köpfchen nach ihm herabstreckte. Durch alle Glieder fuhr es ihm wie ein elektrischer Schlag, er erbebte im Innersten – er starrte hinauf, und ein Paar herrliche dunkelblaue Augen blickten ihn an mit unaussprechlicher Sehnsucht, so daß ein nie gekanntes Gefühl der höchsten Seligkeit und des tiefsten Schmerzes seine Brust zersprengen wollte. Und wie er voll heißen Verlangens immer in die holdseligen Augen schaute, da ertönten stärker in lieblichen Akkorden die Kristallglocken, und die funkelnden Smaragde fielen auf ihn herab und umspannen ihn, in tausend Flämmchen um ihn herflackernd und spielend mit schimmernden Goldfaden. Der Holunderbusch rührte sich und sprach: »Du lagst in meinem Schatten, mein Duft umfloß dich, aber du verstandest mich nicht. Der Duft ist meine Sprache, wenn ihn die Liebe entzündet.« Der Abendwind strich vorüber und sprach: »Ich umspielte deine Schläfe, aber du verstandest mich nicht, der Hauch ist meine Sprache, wenn ihn die Liebe entzündet.« Die Sonnenstrahlen brachen durch das Gewölk, und der Schein brannte wie in Worten: »Ich umgoß dich mit glühendem Gold, aber du verstandest mich nicht; Glut ist meine Sprache, wenn sie die Liebe entzündet.«</p>,\n",
       " <p>Und immer inniger und inniger versunken in den Blick des herrlichen Augenpaars, wurde heißer die Sehnsucht, glühender das Verlangen. Da regte und bewegte sich alles, wie zum frohen Leben erwacht. Blumen und Blüten dufteten um ihn her, und ihr Duft war wie herrlicher Gesang von tausend Flötenstimmen, und was sie gesungen, trugen im Widerhall die goldenen vorüberfliehenden Abendwolken in ferne Lande. Aber als der letzte Strahl der Sonne schnell hinter den Bergen verschwand, und nun die Dämmerung ihren Flor über die Gegend warf, da rief, wie aus weiter Ferne, eine rauhe tiefe Stimme:</p>,\n",
       " <p>»Hei, hei, was ist das für ein Gemunkel und Geflüster da drüben? – Hei, hei, wer sucht mir doch den Strahl hinter den Bergen! – genug gesonnt, genug gesungen – Hei, hei, durch Busch und Gras – durch Gras und Strom! – Hei, – hei – Her u – u – u nter – Her u – u – u nter!« –</p>,\n",
       " <p>So verschwand die Stimme wie im Murmeln eines fernen Donners, aber die Kristallglocken zerbrachen im schneidenden Mißton. Alles war verstummt, und Anselmus sah, wie die drei Schlangen schimmernd und blinkend durch das Gras nach dem Strome schlüpften; rischelnd und raschelnd stürzten sie sich in die Elbe, und über den Wogen, wo sie verschwunden, knisterte ein grünes Feuer empor, das in schiefer Richtung nach der Stadt zu leuchtend verdampfte.</p>]"
      ]
     },
     "execution_count": 83,
     "metadata": {},
     "output_type": "execute_result"
    }
   ],
   "source": [
    "chapter1"
   ]
  },
  {
   "cell_type": "code",
   "execution_count": 84,
   "id": "c641af26-478a-4a39-8288-1ff5f04f9fc9",
   "metadata": {},
   "outputs": [],
   "source": [
    "text = []\n",
    "for p in chapter1:\n",
    "    text.append(p.get_text())"
   ]
  },
  {
   "cell_type": "code",
   "execution_count": 86,
   "id": "4088619d-21bc-4616-89a8-c0e44439bb70",
   "metadata": {
    "tags": []
   },
   "outputs": [],
   "source": [
    "par1 = ''\n",
    "for par in text:\n",
    "    par1 += par"
   ]
  },
  {
   "cell_type": "code",
   "execution_count": 87,
   "id": "8e1b822a-7460-45d0-8534-bdeabef38348",
   "metadata": {
    "collapsed": true,
    "jupyter": {
     "outputs_hidden": true
    },
    "tags": []
   },
   "outputs": [
    {
     "data": {
      "text/plain": [
       "'Die Unglücksfälle des Studenten Anselmus. – Des Konrektors Paulmann Sanitätsknaster und die goldgrünen Schlangen.Am Himmelfahrtstage, nachmittags um drei Uhr, rannte ein junger Mensch in Dresden durchs Schwarze Tor, und geradezu in einen Korb mit Äpfeln und Kuchen hinein, die ein altes häßliches Weib feilbot, so daß alles, was der Quetschung glücklich entgangen, hinausgeschleudert wurde, und die Straßenjungen sich lustig in die Beute teilten, die ihnen der hastige Herr zugeworfen. Auf das Zetergeschrei, das die Alte erhob, verließen die Gevatterinnen ihre Kuchen- und Branntweintische, umringten den jungen Menschen und schimpften mit pöbelhaftem Ungestüm auf ihn hinein, so daß er, vor Ärger und Scham verstummend, nur seinen kleinen, nicht eben besonders gefüllten Geldbeutel hinhielt, den die Alte begierig ergriff und schnell einsteckte. Nun öffnete sich der festgeschlossene Kreis, aber indem der junge Mensch hinausschoß, rief ihm die Alte nach: »Ja renne – renne nur zu, Satanskind – ins Kristall bald dein Fall – ins Kristall!« – Die gellende, krächzende Stimme des Weibes hatte etwas Entsetzliches, so daß die Spaziergänger verwundert stillstanden, und das Lachen, das sich erst verbreitet, mit einemmal verstummte. – Der Student Anselmus (niemand anders war der junge Mensch) fühlte sich, unerachtet er des Weibes sonderbare Worte durchaus nicht verstand, von einem unwillkürlichen Grausen ergriffen, und er beflügelte noch mehr seine Schritte, um sich den auf ihn gerichteten Blicken der neugierigen Menge zu entziehen. Wie er sich nun durch das Gewühl geputzter Menschen durcharbeitete, hörte er überall murmeln: »Der arme junge Mann – Ei! – über das verdammte Weib!« – Auf ganz sonderbare Weise hatten die geheimnisvollen Worte der Alten dem lächerlichen Abenteuer eine gewisse tragische Wendung gegeben, so daß man dem vorhin ganz Unbemerkten jetzt teilnehmend nachsah. Die Frauenzimmer verziehen dem wohlgebildeten Gesichte, dessen Ausdruck die Glut des innern Grimms noch erhöhte, sowie dem kräftigen Wuchse des Jünglings alles Ungeschick sowie den ganz aus dem Gebiete aller Mode liegenden Anzug. Sein hechtgrauer Frack war nämlich so zugeschnitten, als habe der Schneider, der ihn gearbeitet, die moderne Form nur von Hörensagen gekannt, und das schwarzatlasne wohlgeschonte Unterkleid gab dem Ganzen einen gewissen magistermäßigen Stil, dem sich nun wieder Gang und Stellung durchaus nicht fügen wollte. – Als der Student schon beinahe das Ende der Allee erreicht, die nach dem Linkischen Bade führt, wollte ihm beinahe der Atem ausgehen. Er war genötigt, langsamer zu wandeln; aber kaum wagte er den Blick in die Höhe zu richten, denn noch immer sah er die Äpfel und Kuchen um sich tanzen, und jeder freundliche Blick dieses oder jenes Mädchens war ihm nur der Reflex des schadenfrohen Gelächters am Schwarzen Tor. So war er bis an den Eingang des Linkischen Bades gekommen; eine Reihe festlich gekleideter Menschen nach der andern zog herein. Musik von Blasinstrumenten ertönte von innen, und immer lauter und lauter wurde das Gewühl der lustigen Gäste. Die Tränen wären dem armen Studenten Anselmus beinahe in die Augen getreten, denn auch er hatte, da der Himmelfahrtstag immer ein besonderes Familienfest für ihn gewesen, an der Glückseligkeit des Linkischen Paradieses teilnehmen, ja er hatte es bis zu einer halben Portion Kaffee mit Rum und einer Bouteille Doppelbier treiben wollen und, um so recht schlampampen zu können, mehr Geld eingesteckt, als eigentlich erlaubt und tunlich war. Und nun hatte ihn der fatale Tritt in den Äpfelkorb um alles gebracht, was er bei sich getragen. An Kaffee, an Doppelbier, an Musik, an den Anblick der geputzten Mädchen – kurz! – an alle geträumten Genüsse war nicht zu denken; er schlich langsam vorbei und schlug endlich den Weg an der Elbe ein, der gerade ganz einsam war. Unter einem Holunderbaume, der aus der Mauer hervorgesprossen, fand er ein freundliches Rasenplätzchen; da setzte er sich hin und stopfte eine Pfeife von dem Sanitätsknaster, den ihm sein Freund, der Konrektor Paulmann, geschenkt. – Dicht vor ihm plätscherten und rauschten die goldgelben Wellen des schönen Elbstroms, hinter demselben streckte das herrliche Dresden kühn und stolz seine lichten Türme empor in den duftigen Himmelsgrund, der sich hinabsenkte auf die blumigen Wiesen und frisch grünenden Wälder, und aus tiefer Dämmerung gaben die zackichten Gebirge Kunde vom fernen Böhmerlande. Aber finster vor sich hinblickend, blies der Student Anselmus die Dampfwolken in die Luft, und sein Unmut wurde endlich laut, indem er sprach: »Wahr ist es doch, ich bin zu allem möglichen Kreuz und Elend geboren! – Daß ich niemals Bohnenkönig geworden, daß ich im Paar oder Unpaar immer falsch geraten, daß mein Butterbrot immer auf die fette Seite gefallen, von allem diesen Jammer will ich gar nicht reden; aber ist es nicht ein schreckliches Verhängnis, daß ich, als ich denn doch nun dem Satan zum Trotz Student geworden war, ein Kümmeltürke sein und bleiben mußte? – Ziehe ich wohl je einen neuen Rock an, ohne gleich das erstemal einen Talgfleck hineinzubringen oder mir an einem übel eingeschlagenen Nagel ein verwünschtes Loch hineinzureißen? Grüße ich wohl je einen Herrn Hofrat oder eine Dame, ohne den Hut weit von mir zu schleudern oder gar auf dem glatten Boden auszugleiten und schändlich umzustülpen? Hatte ich nicht schon in Halle jeden Markttag eine bestimmte Ausgabe von drei bis vier Groschen für zertretene Töpfe, weil mir der Teufel in den Kopf setzt, meinen Gang geradeaus zu nehmen wie die Laminge? Bin ich denn ein einziges Mal ins Kollegium oder wo man mich sonst hinbeschieden, zu rechter Zeit gekommen? Was half es, daß ich eine halbe Stunde vorher ausging und mich vor die Tür hinstellte, den Drücker in der Hand, denn sowie ich mit dem Glockenschlage aufdrücken wollte, goß mir der Satan ein Waschbecken über den Kopf oder ließ mich mit einem Heraustretenden zusammenrennen, daß ich in tausend Händel verwickelt wurde und darüber alles versäumte. – Ach! ach! wo seid ihr hin, ihr seligen Träume künftigen Glücks, wie ich stolz wähnte, ich könne es wohl hier noch bis zum Geheimen Sekretär bringen! Aber hat mir mein Unstern nicht die besten Gönner verfeindet? – Ich weiß, daß der Geheime Rat, an den ich empfohlen bin, verschnittenes Haar nicht leiden mag; mit Mühe befestigt der Friseur einen kleinen Zopf an meinem Hinterhaupt, aber bei der ersten Verbeugung springt die unglückselige Schnur, und ein munterer Mops, der mich umschnüffelt, apportiert im Jubel das Zöpfchen dem Geheimen Rate. Ich springe erschrocken nach und stürze über den Tisch, an dem er frühstückend gearbeitet hat, so daß Tassen, Teller, Tintenfaß – Sandbüchse klirrend herabstürzen, und der Strom von Schokolade und Tinte sich über die eben geschriebene Relation ergießt. ›Herr, sind Sie des Teufels!‹ brüllt der erzürnte Geheime Rat und schiebt mich zur Tür hinaus. – Was hilft es, daß mir der Konrektor Paulmann Hoffnung zu einem Schreiberdienste gemacht hat, wird es denn mein Unstern zulassen, der mich überall verfolgt! – Nur noch heute! – Ich wollte den lieben Himmelfahrtstag recht in der Gemütlichkeit feiern, ich wollte ordentlich was daraufgehen lassen. Ich hätte ebensogut wie jeder andere Gast in Linkes Bade stolz rufen können: ›Markör – eine Flasche Doppelbier – aber vom besten bitte ich!‹ – Ich hätte bis spät abends sitzen können und noch dazu ganz nahe bei dieser oder jener Gesellschaft herrlich geputzter schöner Mädchen. Ich weiß es schon, der Mut wäre mir gekommen, ich wäre ein ganz anderer Mensch geworden; ja, ich hätte es so weit gebracht, daß wenn diese oder jene gefragt: ›Wie spät mag es wohl jetzt sein?‹ oder: ›Was ist denn das, was sie spielen?‹ da wäre ich mit leichtem Anstande aufgesprungen, ohne mein Glas umzuwerfen oder über die Bank zu stolpern; mich in gebeugter Stellung anderthalb Schritte vorwärtsbewegend, hätte ich gesagt: ›Erlauben Sie, Mademoiselle, Ihnen zu dienen, es ist die Ouvertüre aus dem Donauweibchen‹ oder: ›Es wird gleich sechs Uhr schlagen.‹ – Hätte mir das ein Mensch in der Welt übel deuten können? – Nein! sage ich, die Mädchen hätten sich so schalkhaft lächelnd angesehen, wie es wohl zu geschehen pflegt, wenn ich mich ermutige, zu zeigen, daß ich mich auch wohl auf den leichten Weltton verstehe und mit Damen umzugehen weiß. Aber da führt mich der Satan in den verwünschten Äpfelkorb, und nun muß ich in der Einsamkeit meinen Sanitätsknaster\\xa0-« Hier wurde der Student Anselmus in seinem Selbstgespräche durch ein sonderbares Rieseln und Rascheln unterbrochen, das sich dicht neben ihm im Grase erhob, bald aber in die Zweige und Blätter des Holunderbaums hinaufglitt, der sich über seinem Haupte wölbte. Bald war es, als schüttle der Abendwind die Blätter, bald, als kosten Vögelein in den Zweigen, die kleinen Fittige im mutwilligen Hin- und Herflattern rührend. – Da fing es an zu flüstern und zu lispeln, und es war, als ertönten die Blüten wie aufgehangene Kristallglöckchen. Anselmus horchte und horchte. Da wurde, er wußte selbst nicht wie, das Gelispel und Geflüster und Geklingel zu leisen halbverwehten Worten:»Zwischendurch – zwischenein – zwischen Zweigen, zwischen schwellenden Blüten, schwingen, schlängeln, schlingen wir uns – Schwesterlein – Schwesterlein, schwinge dich im Schimmer – schnell, schnell herauf – herab – Abendsonne schießt Strahlen, zischelt der Abendwind – raschelt der Tau – Blüten singen – rühren wir Zünglein, singen wir mit Blüten und Zweigen – Sterne bald glänzen – müssen herab zwischendurch, zwischenein schlängeln, schlingen, schwingen wir uns Schwesterlein.«\\xa0–So ging es fort in Sinne verwirrender Rede. Der Student Anselmus dachte: »Das ist denn doch nur der Abendwind, der heute mit ordentlich verständlichen Worten flüstert.« – Aber in dem Augenblick ertönte es über seinem Haupte wie ein Dreiklang heller Kristallglocken; er schaute hinauf und erblickte drei in grünem Gold erglänzende Schlänglein, die sich um die Zweige gewickelt hatten und die Köpfchen der Abendsonne entgegenstreckten. Da flüsterte und lispelte es von neuem in jenen Worten, und die Schlänglein schlüpften und kosten auf und nieder durch die Blätter und Zweige, und wie sie sich so schnell rührten, da war es, als streue der Holunderbusch tausend funkelnde Smaragde durch seine dunklen Blätter. »Das ist die Abendsonne, die so in dem Holunderbusch spielt«, dachte der Student Anselmus, aber da ertönten die Glocken wieder, und Anselmus sah, wie eine Schlange ihr Köpfchen nach ihm herabstreckte. Durch alle Glieder fuhr es ihm wie ein elektrischer Schlag, er erbebte im Innersten – er starrte hinauf, und ein Paar herrliche dunkelblaue Augen blickten ihn an mit unaussprechlicher Sehnsucht, so daß ein nie gekanntes Gefühl der höchsten Seligkeit und des tiefsten Schmerzes seine Brust zersprengen wollte. Und wie er voll heißen Verlangens immer in die holdseligen Augen schaute, da ertönten stärker in lieblichen Akkorden die Kristallglocken, und die funkelnden Smaragde fielen auf ihn herab und umspannen ihn, in tausend Flämmchen um ihn herflackernd und spielend mit schimmernden Goldfaden. Der Holunderbusch rührte sich und sprach: »Du lagst in meinem Schatten, mein Duft umfloß dich, aber du verstandest mich nicht. Der Duft ist meine Sprache, wenn ihn die Liebe entzündet.« Der Abendwind strich vorüber und sprach: »Ich umspielte deine Schläfe, aber du verstandest mich nicht, der Hauch ist meine Sprache, wenn ihn die Liebe entzündet.« Die Sonnenstrahlen brachen durch das Gewölk, und der Schein brannte wie in Worten: »Ich umgoß dich mit glühendem Gold, aber du verstandest mich nicht; Glut ist meine Sprache, wenn sie die Liebe entzündet.«Und immer inniger und inniger versunken in den Blick des herrlichen Augenpaars, wurde heißer die Sehnsucht, glühender das Verlangen. Da regte und bewegte sich alles, wie zum frohen Leben erwacht. Blumen und Blüten dufteten um ihn her, und ihr Duft war wie herrlicher Gesang von tausend Flötenstimmen, und was sie gesungen, trugen im Widerhall die goldenen vorüberfliehenden Abendwolken in ferne Lande. Aber als der letzte Strahl der Sonne schnell hinter den Bergen verschwand, und nun die Dämmerung ihren Flor über die Gegend warf, da rief, wie aus weiter Ferne, eine rauhe tiefe Stimme:»Hei, hei, was ist das für ein Gemunkel und Geflüster da drüben? – Hei, hei, wer sucht mir doch den Strahl hinter den Bergen! – genug gesonnt, genug gesungen – Hei, hei, durch Busch und Gras – durch Gras und Strom! – Hei, – hei – Her u – u – u nter – Her u – u – u nter!«\\xa0–So verschwand die Stimme wie im Murmeln eines fernen Donners, aber die Kristallglocken zerbrachen im schneidenden Mißton. Alles war verstummt, und Anselmus sah, wie die drei Schlangen schimmernd und blinkend durch das Gras nach dem Strome schlüpften; rischelnd und raschelnd stürzten sie sich in die Elbe, und über den Wogen, wo sie verschwunden, knisterte ein grünes Feuer empor, das in schiefer Richtung nach der Stadt zu leuchtend verdampfte.'"
      ]
     },
     "execution_count": 87,
     "metadata": {},
     "output_type": "execute_result"
    }
   ],
   "source": [
    "par1"
   ]
  },
  {
   "cell_type": "code",
   "execution_count": 115,
   "id": "d47505a2-2212-44b8-8448-494fa69ccabb",
   "metadata": {},
   "outputs": [
    {
     "data": {
      "text/plain": [
       "'E.T.A. Hoffmann'"
      ]
     },
     "execution_count": 115,
     "metadata": {},
     "output_type": "execute_result"
    }
   ],
   "source": [
    "author[0]['content']"
   ]
  },
  {
   "cell_type": "code",
   "execution_count": 30,
   "id": "75833e48-9492-40ba-a959-0968c40f5d30",
   "metadata": {
    "collapsed": true,
    "jupyter": {
     "outputs_hidden": true
    },
    "tags": []
   },
   "outputs": [
    {
     "name": "stdout",
     "output_type": "stream",
     "text": [
      "{\"search_term\":\"e.t.a.+hoffmann+der+goldne+topf\",\"search_site\":null,\"knowledge_panel\":{\"name\":\"The Golden Pot\",\"label\":\"Novella by E. T. A. Hoffmann\",\"description\":{\"text\":\"The Golden Pot: A Modern Fairytale is a novella by E. T. A. Hoffmann, first published in 1814 and revised by the author in 1819. Hoffmann regarded it as his best story, and there is wide agreement among literary scholars that it is a masterpiece of romantic literature.\",\"url\":\"https:\\/\\/en.wikipedia.org\\/wiki\\/The_Golden_Pot\",\"site\":\"Wikipedia\"},\"image\":{\"url\":\"https:\\/\\/encrypted-tbn0.gstatic.com\\/images?q=tbn:qq8LM7MzuG6rwM\",\"width\":180,\"height\":279,\"page_url\":\"https:\\/\\/books.google.com\\/books\\/about\\/The_Golden_Flower_Pot_Fantasy_and_Horror.html?id=fwPKCgAAQBAJ&source=kp_cover\"},\"info\":[{\"title\":\"Originally published\",\"labels\":[\"1814\"]},{\"title\":\"Author\",\"labels\":[\"E. T. A. Hoffmann\"]}]},\"results\":[{\"position\":1,\"url\":\"https:\\/\\/de.wikipedia.org\\/wiki\\/Der_goldne_Topf\",\"title\":\"Der goldne Topf - Wikipedia\",\"description\":\"Der goldne Topf ist ein Kunstm\\u00e4rchen von E. T. A. Hoffmann, das 1814 erstmals erschien und 1819 vom Autor \\u00fcberarbeitet wurde. Es gilt\\u00a0...\"},{\"position\":2,\"url\":\"https:\\/\\/en.wikipedia.org\\/wiki\\/The_Golden_Pot\",\"title\":\"The Golden Pot - Wikipedia\",\"description\":\"The Golden Pot: A Modern Fairytale (\\\"Der goldne Topf. Ein M\\u00e4rchen aus der neuen Zeit\\\") is a novella by E. T. A. Hoffmann, first published in 1814 and\\u00a0...\"},{\"position\":3,\"url\":\"https:\\/\\/www.gutenberg.org\\/files\\/17362\\/17362-h\\/17362-h.htm\",\"title\":\"The Project Gutenberg eBook, Der Goldene Topf, by ETA Hoffmann ...\",\"description\":\"E.T.A. HOFFMANN: DER GOLDENE TOPF. MIT 11 FEDERZEICHNUNGEN VON EDMUND SCHAEFER ERSTES BIS F\\u00dcNFTES TAUSEND VERLAG VON GUSTAV KIEPENHEUER\\u00a0...\"},{\"position\":4,\"url\":\"http:\\/\\/www.gutenberg.org\\/ebooks\\/17362\",\"title\":\"Der Goldene Topf by E. T. A. Hoffmann - Project Gutenberg\",\"description\":\"Free kindle book and epub digitized and proofread by volunteers.\"},{\"position\":5,\"url\":\"https:\\/\\/www.goodreads.com\\/book\\/show\\/1558033.Der_goldne_Topf\",\"title\":\"Der goldne Topf by E.T.A. Hoffmann - Goodreads\",\"description\":\"This is the story The Golden Flower Pot or simply The n Flower Pot, as it is called in English. The German title is Der goldne Topf. Here follows a free online\\u00a0...\"},{\"position\":6,\"url\":\"https:\\/\\/www.goodreads.com\\/de\\/book\\/show\\/1558033.Der_goldne_Topf\",\"title\":\"Der goldne Topf by ETA Hoffmann - Goodreads\",\"description\":\"Read 136 reviews from the world's largest community for readers. Der goldne Topf, Hoffmanns \\u00bbM\\u00e4rchen aus der neuen Zeit\\u00ab, spielt virtuos mit den Ebenen des\\u2026\"},{\"position\":7,\"url\":\"https:\\/\\/etahoffmann.staatsbibliothek-berlin.de\\/portfolio-item\\/goldne-topf\\/\",\"title\":\"Der goldne Topf - E.T.A. Hoffmann Portal\",\"description\":\"Erschienen 1814 als dritter Band der Fantasiest\\u00fccke in Callot's Manier galt Der goldene Topf \\u2013 erst in der zweiten Auflage wurde der Titel vom Verleger Kunz\\u00a0...\"},{\"position\":8,\"url\":\"https:\\/\\/sites.google.com\\/site\\/germanliterature\\/19th-century\\/hoffmann\\/der-goldne-topf-the-golden-pot\",\"title\":\"German Literature - Der goldne Topf; The Golden Pot - Google Sites\",\"description\":\"In conceiving Der goldne Topf; The Golden Pot as a tale, Hoffmann follows the Romantic penchant for the folktale. Similar to Novalis' programmatic tale-like\\u00a0...\"},{\"position\":9,\"url\":\"https:\\/\\/www.inhaltsangabe.de\\/hoffmann\\/der-goldne-topf\\/\",\"title\":\"Der goldne Topf \\u2022 Zusammenfassung auf Inhaltsangabe.de\",\"description\":\"Bis heute gilt die Novelle \\u00bbDer goldne Topf\\u00ab von E. T. A. Hoffmann als eines der bedeutendsten Werke des Vertreters der Romantik.\"},{\"position\":10,\"url\":\"https:\\/\\/www.jstor.org\\/stable\\/42945687\",\"title\":\"Style and Level of Reality in E. T. A. Hoffmann's \\\"Der goldne Topf\\\"\",\"description\":\"McGlathery, seek to reduce Atlantis and all the apparently supernatural phenomena in Der goldne. Topf to figments of the more or less diseased imagination of\\u00a0...\"}],\"related_keywords\":null}\n"
     ]
    }
   ],
   "source": [
    "import requests\n",
    "\n",
    "url = \"https://google-web-search.p.rapidapi.com/\"\n",
    "\n",
    "querystring = {\"query\":\"e.t.a.+hoffmann+der+goldne+topf\",\"max\":\"10\"}\n",
    "\n",
    "headers = {\n",
    "\t\"X-RapidAPI-Key\": api_key_dict['google_web_search_key'],\n",
    "\t\"X-RapidAPI-Host\": \"google-web-search.p.rapidapi.com\"\n",
    "}\n",
    "\n",
    "response = requests.request(\"GET\", url, headers=headers, params=querystring)\n",
    "\n",
    "print(response.text)"
   ]
  },
  {
   "cell_type": "code",
   "execution_count": 51,
   "id": "53cf63b2-cf52-42f3-80d4-6cf0625bb2ec",
   "metadata": {},
   "outputs": [
    {
     "data": {
      "text/plain": [
       "[{'title': 'Originally published', 'labels': ['1814']},\n",
       " {'title': 'Author', 'labels': ['E. T. A. Hoffmann']}]"
      ]
     },
     "execution_count": 51,
     "metadata": {},
     "output_type": "execute_result"
    }
   ],
   "source": [
    "response.json()['knowledge_panel']['info']"
   ]
  },
  {
   "cell_type": "code",
   "execution_count": 52,
   "id": "687112e6-af77-49a3-a861-d3c7cc7fd71e",
   "metadata": {
    "collapsed": true,
    "jupyter": {
     "outputs_hidden": true
    },
    "tags": []
   },
   "outputs": [
    {
     "name": "stdout",
     "output_type": "stream",
     "text": [
      "{\"search_term\":\"theodor+fontane+effi+briest\",\"search_site\":null,\"knowledge_panel\":{\"name\":\"Effi Briest\",\"label\":\"Novel by Theodor Fontane\",\"description\":{\"text\":\"Effi Briest is a realist novel by Theodor Fontane. Published in book form in 1895, Effi Briest marks both a watershed and a climax in the poetic realism of literature.\",\"url\":\"https:\\/\\/en.wikipedia.org\\/wiki\\/Effi_Briest\",\"site\":\"Wikipedia\"},\"image\":{\"url\":\"https:\\/\\/encrypted-tbn0.gstatic.com\\/images?q=tbn:mP-X_DD_yDH2zM\",\"width\":181,\"height\":278,\"page_url\":\"https:\\/\\/books.google.com\\/books\\/about\\/Effi_Briest.html?id=OYX5JoRGQkoC&source=kp_cover\"},\"info\":[{\"title\":\"Originally published\",\"labels\":[\"1894\"]},{\"title\":\"Author\",\"labels\":[\"Theodor Fontane\"]},{\"title\":\"Genre\",\"labels\":[\"Novel\"]},{\"title\":\"Adaptations\",\"labels\":[\"Effi Briest (1974)\",\"The False Step (1939)\"]}]},\"results\":[{\"position\":1,\"url\":\"https:\\/\\/en.wikipedia.org\\/wiki\\/Effi_Briest\",\"title\":\"Effi Briest - Wikipedia\",\"description\":\"Effi Briest is a realist novel by Theodor Fontane. Published in book form in 1895, Effi Briest marks both a watershed and a climax in the poetic realism of\\u00a0...\"}],\"related_keywords\":{\"spelling_suggestion_html\":null,\"spelling_suggestion\":null,\"keywords\":[{\"position\":1,\"knowledge\":null,\"keyword_html\":\"<b>theodor fontane effi briest<\\/b>\",\"keyword\":\"theodor fontane effi briest\"},{\"position\":2,\"knowledge\":null,\"keyword_html\":\"<b>sterilet en cuivre avantage et inconvenient<\\/b>\",\"keyword\":\"sterilet en cuivre avantage et inconvenient\"},{\"position\":3,\"knowledge\":null,\"keyword_html\":\"<b>theodor w. adorno quotes<\\/b>\",\"keyword\":\"theodor w. adorno quotes\"},{\"position\":4,\"knowledge\":null,\"keyword_html\":\"<b>the cons of formant<\\/b>\",\"keyword\":\"the cons of formant\"}]}}\n"
     ]
    }
   ],
   "source": [
    "import requests\n",
    "\n",
    "url = \"https://google-web-search.p.rapidapi.com/\"\n",
    "\n",
    "querystring = {\"query\":\"theodor+fontane+effi+briest\",\"max\":\"1\"}\n",
    "\n",
    "headers = {\n",
    "\t\"X-RapidAPI-Key\": api_key_dict['google_web_search_key'],\n",
    "\t\"X-RapidAPI-Host\": \"google-web-search.p.rapidapi.com\"\n",
    "}\n",
    "\n",
    "response = requests.request(\"GET\", url, headers=headers, params=querystring)\n",
    "\n",
    "print(response.text)"
   ]
  },
  {
   "cell_type": "code",
   "execution_count": 59,
   "id": "d3862dba-b998-45d5-bce6-45abde07a2a4",
   "metadata": {},
   "outputs": [
    {
     "data": {
      "text/plain": [
       "1894"
      ]
     },
     "execution_count": 59,
     "metadata": {},
     "output_type": "execute_result"
    }
   ],
   "source": [
    "int(response.json()['knowledge_panel']['info'][0]['labels'][0])"
   ]
  },
  {
   "cell_type": "code",
   "execution_count": 120,
   "id": "5b25f4b8-ffa9-4b35-8b87-29abe06b14aa",
   "metadata": {
    "jupyter": {
     "source_hidden": true
    },
    "tags": []
   },
   "outputs": [],
   "source": [
    "author_list = ['Christian Fürchtegott Gellert',\n",
    "'Johann Christoph Gottsched',\n",
    "'Johann Jakob Breitinger',\n",
    "'Johann Jakob Bodmer',\n",
    "'Johann Christian Günther',\n",
    "'Barthold Heinrich Brockes',\n",
    "'Friedrich Hagedorn',\n",
    "'Ewald Christian von Kleist',\n",
    "'Salomon Gessner',\n",
    "'Friedrich Gottlieb Klopstock',\n",
    "'Christoph Martin Wieland',\n",
    "'Gotthold Ephraim Lessing',\n",
    "'Johann Wolfgang von Goethe',\n",
    "'Friedrich Schiller',\n",
    "'Jakob Lenz',\n",
    "'Georg Büchner',\n",
    "'Gerhart Hauptmann', \n",
    "'Bertolt Brecht',\n",
    "'Johann Gottfried Herder',\n",
    "'Karl Philipp Moritz',\n",
    "'Friedrich Hölderlin', \n",
    "'Heinrich von Kleist',\n",
    "'Jean Paul', \n",
    "'August Wilhelm', \n",
    "'Friedrich Schlegel',\n",
    "'Wilhelm Heinrich Wackenroder',\n",
    "'Ludwig Tieck',\n",
    "'Achim von Arnim',\n",
    "'Clemens Brentano', \n",
    "'Bettina von Arnim',\n",
    "'Wilhelm Grimm',\n",
    "'E. T. A. Hoffmann',\n",
    "'Joseph von Eichendorff', \n",
    "'Heinrich Heine',\n",
    "'Nikolaus Lenau',\n",
    "'Eduard Mörike', \n",
    "'Friedrich Rückert', \n",
    "'August von Platen', \n",
    "'Annette von Droste-Hülshoff', \n",
    "'Adalbert Stifter',\n",
    "'Jeremias Gotthelf', \n",
    "'Franz Grillparzer',\n",
    "'Johann Nepomuk Nestroy', \n",
    "'Ferdinand Raimund', \n",
    "'Georg Herwegh', \n",
    "'Heinrich Laube', \n",
    "'Karl Gutzkow', \n",
    "'Ferdinand Freiligrath',\n",
    "'Ludwig Börne', \n",
    "'Georg Büchner', \n",
    "'Conrad Ferdinand Meyer', \n",
    "'Theodor Storm', \n",
    "'Friedrich Hebbel', \n",
    "'Gustav Freytag', \n",
    "'Wilhelm Raabe',\n",
    "'Gottfried Keller', \n",
    "'Theodor Fontane', \n",
    "'Marie von Ebner-Eschenbach', \n",
    "'Ludwig Anzengruber',\n",
    "'Peter Rosegger', \n",
    "'Arno Holz', \n",
    "'Johannes Schlaf',  \n",
    "'Frank Wedekind', \n",
    "'Stefan George', \n",
    "'Hugo von Hofmannsthal', \n",
    "'Rainer Maria Rilke', \n",
    "'Heinrich Mann', \n",
    "'Hermann Broch',\n",
    "'Robert Musil',\n",
    "'Franz Kafka', \n",
    "'Hermann Hesse']"
   ]
  },
  {
   "cell_type": "code",
   "execution_count": 110,
   "id": "b63d2000-6116-4bc8-b3ad-6e95191879b1",
   "metadata": {},
   "outputs": [
    {
     "data": {
      "text/plain": [
       "'Johann Jakob Bodmer'"
      ]
     },
     "execution_count": 110,
     "metadata": {},
     "output_type": "execute_result"
    }
   ],
   "source": [
    "author_list[3]"
   ]
  },
  {
   "cell_type": "code",
   "execution_count": 111,
   "id": "bfe7e9d2-7805-413b-be29-95bdacf8dc9e",
   "metadata": {},
   "outputs": [],
   "source": [
    "data_list = []\n",
    "for name in author_list:\n",
    "    data_list.append([name])"
   ]
  },
  {
   "cell_type": "code",
   "execution_count": 118,
   "id": "e231fc02-8e44-40c2-8a91-26acaf0d917e",
   "metadata": {},
   "outputs": [],
   "source": [
    "assert len(data_list) == len(status_list)\n",
    "for i in range(len(data_list)):\n",
    "    data_list[i].append(status_list[i])"
   ]
  },
  {
   "cell_type": "code",
   "execution_count": 119,
   "id": "d2e25f8b-cd16-4d3f-b1f9-4a59369f6905",
   "metadata": {},
   "outputs": [
    {
     "data": {
      "text/plain": [
       "[['Christian Fürchtegott Gellert', 200],\n",
       " ['Johann Christoph Gottsched', 404],\n",
       " ['Johann Jakob Breitinger', 404],\n",
       " ['Johann Jakob Bodmer', 200],\n",
       " ['Johann Christian Günther', 200],\n",
       " ['Barthold Heinrich Brockes', 200],\n",
       " ['Friedrich Hagedorns', 404],\n",
       " ['Ewald Christian von Kleist', 200],\n",
       " ['Salomon Gessner', 200],\n",
       " ['Friedrich Gottlieb Klopstock', 404],\n",
       " ['Christoph Martin Wieland', 200],\n",
       " ['Gotthold Ephraim Lessing', 200],\n",
       " ['Johann Wolfgang von Goethe', 200],\n",
       " ['Friedrich Schiller', 200],\n",
       " ['Jakob Lenz', 200],\n",
       " ['Georg Büchner', 200],\n",
       " ['Gerhart Hauptmann', 404],\n",
       " ['Bertolt Brecht', 404],\n",
       " ['Johann Gottfried Herder', 200],\n",
       " ['Karl Philipp Moritz', 200],\n",
       " ['Friedrich Hölderlin', 404],\n",
       " ['Heinrich von Kleist', 200],\n",
       " ['Jean Paul', 404],\n",
       " ['August Wilhelm', 200],\n",
       " ['Friedrich Schlegel', 404],\n",
       " ['Wilhelm Heinrich Wackenroder', 404],\n",
       " ['Ludwig Tieck', 200],\n",
       " ['Achim von Arnim', 200],\n",
       " ['Clemens Brentano', 200],\n",
       " ['Bettina von Arnim', 200],\n",
       " ['Wilhelm Grimm', 200],\n",
       " ['E. T. A. Hoffmann', 404],\n",
       " ['Joseph von Eichendorff', 404],\n",
       " ['Heinrich Heine', 200],\n",
       " ['Nikolaus Lenau', 200],\n",
       " ['Eduard Mörike', 200],\n",
       " ['Friedrich Rückert', 200],\n",
       " ['August von Platen', 200],\n",
       " ['Annette von Droste-Hülshoff', 404],\n",
       " ['Adalbert Stifter', 200],\n",
       " ['Jeremias Gotthelf', 200],\n",
       " ['Franz Grillparzer', 404],\n",
       " ['Johann Nepomuk Nestroy', 200],\n",
       " ['Ferdinand Raimund', 200],\n",
       " ['Georg Herwegh', 200],\n",
       " ['Heinrich Laube', 200],\n",
       " ['Karl Gutzkow', 200],\n",
       " ['Ferdinand Freiligrath', 404],\n",
       " ['Ludwig Börne', 200],\n",
       " ['Georg Büchner', 200],\n",
       " ['Conrad Ferdinand Meyer', 404],\n",
       " ['Theodor Storm', 200],\n",
       " ['Friedrich Hebbel', 200],\n",
       " ['Gustav Freytag', 200],\n",
       " ['Wilhelm Raabe', 200],\n",
       " ['Gottfried Keller', 200],\n",
       " ['Theodor Fontane', 200],\n",
       " ['Marie von Ebner-Eschenbach', 404],\n",
       " ['Ludwig Anzengruber', 404],\n",
       " ['Peter Rosegger', 200],\n",
       " ['Arno Holz', 200],\n",
       " ['Johannes Schlaf', 200],\n",
       " ['Frank Wedekind', 200],\n",
       " ['Stefan George', 200],\n",
       " ['Hugo von Hofmannsthal', 404],\n",
       " ['Rainer Maria Rilke', 200],\n",
       " ['Heinrich Mann', 404],\n",
       " ['Hermann Broch', 404],\n",
       " ['Robert Musil', 200],\n",
       " ['Franz Kafka', 200],\n",
       " ['Hermann Hesse', 200]]"
      ]
     },
     "execution_count": 119,
     "metadata": {},
     "output_type": "execute_result"
    }
   ],
   "source": [
    "data_list"
   ]
  },
  {
   "cell_type": "code",
   "execution_count": 100,
   "id": "a4b7c77e-6780-4f57-9420-6422a220c1ca",
   "metadata": {},
   "outputs": [],
   "source": [
    "surname = []\n",
    "for author in author_list:\n",
    "    name = author.split(' ')\n",
    "    name[-1] = name[-1].replace('ä', 'ae')\n",
    "    name[-1] = name[-1].replace('ö', 'oe')\n",
    "    name[-1] = name[-1].replace('ü', 'ue')\n",
    "    name[-1] = name[-1].lower()\n",
    "    surname.append(name[-1])"
   ]
  },
  {
   "cell_type": "code",
   "execution_count": 101,
   "id": "80adf490-eed4-46e8-aa3b-cab870a8a80e",
   "metadata": {
    "collapsed": true,
    "jupyter": {
     "outputs_hidden": true
    },
    "tags": []
   },
   "outputs": [
    {
     "data": {
      "text/plain": [
       "['gellert',\n",
       " 'gottsched',\n",
       " 'breitinger',\n",
       " 'bodmer',\n",
       " 'guenther',\n",
       " 'brockes',\n",
       " 'hagedorns',\n",
       " 'kleist',\n",
       " 'gessner',\n",
       " 'klopstock',\n",
       " 'wieland',\n",
       " 'lessing',\n",
       " 'goethe',\n",
       " 'schiller',\n",
       " 'lenz',\n",
       " 'buechner',\n",
       " 'hauptmann',\n",
       " 'brecht',\n",
       " 'herder',\n",
       " 'moritz',\n",
       " 'hoelderlin',\n",
       " 'kleist',\n",
       " 'paul',\n",
       " 'wilhelm',\n",
       " 'schlegel',\n",
       " 'wackenroder',\n",
       " 'tieck',\n",
       " 'arnim',\n",
       " 'brentano',\n",
       " 'arnim',\n",
       " 'grimm',\n",
       " 'hoffmann',\n",
       " 'eichendorff',\n",
       " 'heine',\n",
       " 'lenau',\n",
       " 'moerike',\n",
       " 'rueckert',\n",
       " 'platen',\n",
       " 'droste-huelshoff',\n",
       " 'stifter',\n",
       " 'gotthelf',\n",
       " 'grillparzer',\n",
       " 'nestroy',\n",
       " 'raimund',\n",
       " 'herwegh',\n",
       " 'laube',\n",
       " 'gutzkow',\n",
       " 'freiligrath',\n",
       " 'boerne',\n",
       " 'buechner',\n",
       " 'meyer',\n",
       " 'storm',\n",
       " 'hebbel',\n",
       " 'freytag',\n",
       " 'raabe',\n",
       " 'keller',\n",
       " 'fontane',\n",
       " 'ebner-eschenbach',\n",
       " 'anzengruber',\n",
       " 'rosegger',\n",
       " 'holz',\n",
       " 'schlaf',\n",
       " 'wedekind',\n",
       " 'george',\n",
       " 'hofmannsthal',\n",
       " 'rilke',\n",
       " 'mann',\n",
       " 'broch',\n",
       " 'musil',\n",
       " 'kafka',\n",
       " 'hesse']"
      ]
     },
     "execution_count": 101,
     "metadata": {},
     "output_type": "execute_result"
    }
   ],
   "source": [
    "surname"
   ]
  },
  {
   "cell_type": "code",
   "execution_count": 102,
   "id": "f3bffe64-4a8c-48d7-b326-80850298a304",
   "metadata": {},
   "outputs": [],
   "source": [
    "status_list = []\n",
    "for author_name in surname:\n",
    "    author_url = 'https://www.projekt-gutenberg.org/autoren/namen/' + author_name + '.html'\n",
    "    response = requests.get(author_url)\n",
    "    status_list.append(response.status_code)"
   ]
  },
  {
   "cell_type": "code",
   "execution_count": 121,
   "id": "f4a6109c-21da-4b59-985e-a9b816f09632",
   "metadata": {},
   "outputs": [],
   "source": [
    "response = requests.get('https://www.projekt-gutenberg.org/autoren/namen/gellert.html')"
   ]
  },
  {
   "cell_type": "code",
   "execution_count": 123,
   "id": "cbefe130-fa0f-4255-82a9-03f5a78cfc28",
   "metadata": {},
   "outputs": [],
   "source": [
    "soup = BeautifulSoup(response.content, 'html.parser')"
   ]
  },
  {
   "cell_type": "code",
   "execution_count": 129,
   "id": "cfe83bde-2f79-4974-9c23-6e945ed4cc56",
   "metadata": {
    "tags": []
   },
   "outputs": [],
   "source": [
    "titles = []\n",
    "for a in soup.select('.archived ul li a'):\n",
    "    titles.append(a['href'])"
   ]
  },
  {
   "cell_type": "code",
   "execution_count": 130,
   "id": "5dfee33f-8b94-4cf1-aa78-31d02b57c2e8",
   "metadata": {},
   "outputs": [
    {
     "data": {
      "text/plain": [
       "['../../gellert/comoedia/comoedia.html',\n",
       " '../../gellert/zschwest/zschwest.html',\n",
       " '../../gellert/fbgellrt/fbgellrt.html',\n",
       " '../../gellert/odenlied/odenlied.html',\n",
       " '../../gellert/gedichte/gedichte.html',\n",
       " '../../gellert/moralged/moralged.html']"
      ]
     },
     "execution_count": 130,
     "metadata": {},
     "output_type": "execute_result"
    }
   ],
   "source": [
    "titles"
   ]
  },
  {
   "cell_type": "markdown",
   "id": "2276f01c-5c61-49ac-ade5-746b3421dec6",
   "metadata": {},
   "source": [
    "Idea: skip names where the webpage does not load. When creating a dataframe in the end, that row will have nan values. So these rows can easily be removed."
   ]
  }
 ],
 "metadata": {
  "kernelspec": {
   "display_name": "Python 3 (ipykernel)",
   "language": "python",
   "name": "python3"
  },
  "language_info": {
   "codemirror_mode": {
    "name": "ipython",
    "version": 3
   },
   "file_extension": ".py",
   "mimetype": "text/x-python",
   "name": "python",
   "nbconvert_exporter": "python",
   "pygments_lexer": "ipython3",
   "version": "3.9.7"
  }
 },
 "nbformat": 4,
 "nbformat_minor": 5
}
