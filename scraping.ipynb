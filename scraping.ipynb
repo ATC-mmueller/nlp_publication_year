{
 "cells": [
  {
   "cell_type": "markdown",
   "id": "11bb4dbc-4c76-48b4-85fd-499d776b0401",
   "metadata": {},
   "source": [
    "## Data Scraping\n",
    "\n",
    "As a first step we will scrape the necessary data to proceed, namely:\n",
    "- titles for each author that are publicly available\n",
    "- publishing year, if it is stored in the metadata\n",
    "- text strings split into single chapters"
   ]
  },
  {
   "cell_type": "code",
   "execution_count": 1,
   "id": "000203d9-6dc7-4df2-8f11-8e5a2df5c99d",
   "metadata": {},
   "outputs": [],
   "source": [
    "from bs4 import BeautifulSoup\n",
    "import requests"
   ]
  },
  {
   "cell_type": "code",
   "execution_count": 1,
   "id": "3d35ff27-856c-471d-b077-dfab75dadab0",
   "metadata": {},
   "outputs": [],
   "source": [
    "import pandas as pd"
   ]
  },
  {
   "cell_type": "code",
   "execution_count": 3,
   "id": "6591e00a-11ce-4b3f-b5f3-d26d5564ed31",
   "metadata": {},
   "outputs": [],
   "source": [
    "from src.scraping import scrape_titles_years\n",
    "from src.utils import dict_to_csv, csv_to_dict"
   ]
  },
  {
   "cell_type": "code",
   "execution_count": 4,
   "id": "c4bb35b3-cf05-47e6-b8d1-cb322c4b839d",
   "metadata": {},
   "outputs": [],
   "source": [
    "authors_df = pd.read_csv('data/authors.csv')\n",
    "titles_years_list = []\n",
    "for url in authors_df.author_url:\n",
    "    titles_years_list.extend(scrape_titles_years(url))\n",
    "\n",
    "df = pd.DataFrame(data = titles_years_list, columns = ['author_url', 'title', 'title_url', 'year'])\n",
    "df.to_csv('data/titles.csv', index=False)"
   ]
  },
  {
   "cell_type": "code",
   "execution_count": 3,
   "id": "0a7a7f0d-80ff-4a43-a9e8-409fff85a852",
   "metadata": {},
   "outputs": [],
   "source": [
    "titles_df = pd.read_csv('data/titles.csv')"
   ]
  },
  {
   "cell_type": "code",
   "execution_count": 4,
   "id": "abfce667-6c4b-4017-9ab2-ee7ff16e9be2",
   "metadata": {},
   "outputs": [],
   "source": [
    "from src.scraping import scrape_chapters"
   ]
  },
  {
   "cell_type": "code",
   "execution_count": 6,
   "id": "fc5dabab-6a25-46d3-b313-0d2520207588",
   "metadata": {},
   "outputs": [],
   "source": [
    "chapters_list = []\n",
    "for title in titles_df.title_url:\n",
    "    chapters_list.append(scrape_chapters(title))\n",
    "\n",
    "df = pd.DataFrame(data = chapters_list, columns = ['title_url',\n",
    "                                              'chapter_num',\n",
    "                                              'chapter'])\n",
    "df.to_csv('data/chapters.csv', index=False) "
   ]
  },
  {
   "cell_type": "markdown",
   "id": "2565c91e-e6c6-4651-bae9-f80ea48f519b",
   "metadata": {},
   "source": [
    "## Using API's\n",
    "If scraping the years from projekt-gutenberg.org does not yield any results, we'll have to rely on API's. Trying to avoid that because of hard limits though."
   ]
  },
  {
   "cell_type": "code",
   "execution_count": null,
   "id": "337f335a-0968-47e6-ba8c-dabbe030625d",
   "metadata": {},
   "outputs": [],
   "source": [
    "from src.utils import PrivateKeysHandler"
   ]
  },
  {
   "cell_type": "code",
   "execution_count": 22,
   "id": "1a8f7fdf-74ab-43ad-9b97-fa3b9f7ac2b8",
   "metadata": {},
   "outputs": [],
   "source": [
    "relative_path_to_file = '.env'\n",
    "keys = PrivateKeysHandler(relative_path_to_file)\n",
    "api_key_dict = keys.load_keys('APIs')"
   ]
  },
  {
   "cell_type": "code",
   "execution_count": 52,
   "id": "9aeed2c1-31c0-4466-9d6e-3e107e8f2aab",
   "metadata": {
    "collapsed": true,
    "jupyter": {
     "outputs_hidden": true
    },
    "tags": []
   },
   "outputs": [
    {
     "name": "stdout",
     "output_type": "stream",
     "text": [
      "{\"search_term\":\"theodor+fontane+effi+briest\",\"search_site\":null,\"knowledge_panel\":{\"name\":\"Effi Briest\",\"label\":\"Novel by Theodor Fontane\",\"description\":{\"text\":\"Effi Briest is a realist novel by Theodor Fontane. Published in book form in 1895, Effi Briest marks both a watershed and a climax in the poetic realism of literature.\",\"url\":\"https:\\/\\/en.wikipedia.org\\/wiki\\/Effi_Briest\",\"site\":\"Wikipedia\"},\"image\":{\"url\":\"https:\\/\\/encrypted-tbn0.gstatic.com\\/images?q=tbn:mP-X_DD_yDH2zM\",\"width\":181,\"height\":278,\"page_url\":\"https:\\/\\/books.google.com\\/books\\/about\\/Effi_Briest.html?id=OYX5JoRGQkoC&source=kp_cover\"},\"info\":[{\"title\":\"Originally published\",\"labels\":[\"1894\"]},{\"title\":\"Author\",\"labels\":[\"Theodor Fontane\"]},{\"title\":\"Genre\",\"labels\":[\"Novel\"]},{\"title\":\"Adaptations\",\"labels\":[\"Effi Briest (1974)\",\"The False Step (1939)\"]}]},\"results\":[{\"position\":1,\"url\":\"https:\\/\\/en.wikipedia.org\\/wiki\\/Effi_Briest\",\"title\":\"Effi Briest - Wikipedia\",\"description\":\"Effi Briest is a realist novel by Theodor Fontane. Published in book form in 1895, Effi Briest marks both a watershed and a climax in the poetic realism of\\u00a0...\"}],\"related_keywords\":{\"spelling_suggestion_html\":null,\"spelling_suggestion\":null,\"keywords\":[{\"position\":1,\"knowledge\":null,\"keyword_html\":\"<b>theodor fontane effi briest<\\/b>\",\"keyword\":\"theodor fontane effi briest\"},{\"position\":2,\"knowledge\":null,\"keyword_html\":\"<b>sterilet en cuivre avantage et inconvenient<\\/b>\",\"keyword\":\"sterilet en cuivre avantage et inconvenient\"},{\"position\":3,\"knowledge\":null,\"keyword_html\":\"<b>theodor w. adorno quotes<\\/b>\",\"keyword\":\"theodor w. adorno quotes\"},{\"position\":4,\"knowledge\":null,\"keyword_html\":\"<b>the cons of formant<\\/b>\",\"keyword\":\"the cons of formant\"}]}}\n"
     ]
    }
   ],
   "source": [
    "# import requests\n",
    "\n",
    "# url = \"https://google-web-search.p.rapidapi.com/\"\n",
    "\n",
    "# querystring = {\"query\":\"theodor+fontane+effi+briest\",\"max\":\"1\"}\n",
    "\n",
    "# headers = {\n",
    "# \t\"X-RapidAPI-Key\": api_key_dict['google_web_search_key'],\n",
    "# \t\"X-RapidAPI-Host\": \"google-web-search.p.rapidapi.com\"\n",
    "# }\n",
    "\n",
    "# response = requests.request(\"GET\", url, headers=headers, params=querystring)\n",
    "\n",
    "# print(response.text)"
   ]
  },
  {
   "cell_type": "code",
   "execution_count": 59,
   "id": "296d80b5-73db-460e-ae29-cbb9ed6dfde3",
   "metadata": {},
   "outputs": [
    {
     "data": {
      "text/plain": [
       "1894"
      ]
     },
     "execution_count": 59,
     "metadata": {},
     "output_type": "execute_result"
    }
   ],
   "source": [
    "#int(response.json()['knowledge_panel']['info'][0]['labels'][0])"
   ]
  },
  {
   "cell_type": "markdown",
   "id": "e03673ec-e521-4e57-8984-19d9a8de384b",
   "metadata": {},
   "source": [
    "# Second attempt\n"
   ]
  },
  {
   "cell_type": "code",
   "execution_count": 1,
   "id": "17656d82-908c-40cd-aa66-ea4ffd57e22a",
   "metadata": {},
   "outputs": [],
   "source": [
    "from bs4 import BeautifulSoup\n",
    "import requests"
   ]
  },
  {
   "cell_type": "code",
   "execution_count": 2,
   "id": "992d2da8-8387-4a8c-bbc7-09c8f81d665a",
   "metadata": {},
   "outputs": [],
   "source": [
    "import pandas as pd"
   ]
  },
  {
   "cell_type": "code",
   "execution_count": 3,
   "id": "6dc13777-779f-41ff-93b6-90a77ed2013b",
   "metadata": {},
   "outputs": [],
   "source": [
    "from src.scraping import scrape_titles, scrape_title_years"
   ]
  },
  {
   "cell_type": "code",
   "execution_count": 9,
   "id": "cae784a6-0536-4853-bac3-ff6f4b370123",
   "metadata": {},
   "outputs": [],
   "source": [
    "authors_df = pd.read_csv('data/authors_2nd.csv')\n",
    "titles_list = []\n",
    "for url in authors_df.author_url:\n",
    "    titles_list.extend(scrape_titles(url))\n",
    "\n",
    "df = pd.DataFrame(data = titles_years_list, columns = ['author_url', 'title', 'title_url'])\n",
    "df.to_csv('data/titles_2nd.csv', index=False)"
   ]
  },
  {
   "cell_type": "code",
   "execution_count": null,
   "id": "37ff40e3-a83b-4f19-ba78-873b3db7bb72",
   "metadata": {},
   "outputs": [],
   "source": [
    "df = pd.read_csv('data/titles_2nd.csv')\n",
    "title_years = []\n",
    "for title_url in df['title_url']:\n",
    "    title_years.extend(scrape_title_years(title_url))\n",
    "df['year'] = title_years\n",
    "df.to_csv('data/titles_2nd.csv', index=False)"
   ]
  },
  {
   "cell_type": "code",
   "execution_count": 10,
   "id": "41a66faf-3d3e-46f7-96b7-fdb7147d47d5",
   "metadata": {},
   "outputs": [
    {
     "data": {
      "text/html": [
       "<div>\n",
       "<style scoped>\n",
       "    .dataframe tbody tr th:only-of-type {\n",
       "        vertical-align: middle;\n",
       "    }\n",
       "\n",
       "    .dataframe tbody tr th {\n",
       "        vertical-align: top;\n",
       "    }\n",
       "\n",
       "    .dataframe thead th {\n",
       "        text-align: right;\n",
       "    }\n",
       "</style>\n",
       "<table border=\"1\" class=\"dataframe\">\n",
       "  <thead>\n",
       "    <tr style=\"text-align: right;\">\n",
       "      <th></th>\n",
       "      <th>author</th>\n",
       "      <th>author_url</th>\n",
       "      <th>born</th>\n",
       "      <th>died</th>\n",
       "    </tr>\n",
       "  </thead>\n",
       "  <tbody>\n",
       "    <tr>\n",
       "      <th>0</th>\n",
       "      <td>Ludwig Anzengruber</td>\n",
       "      <td>anzengru</td>\n",
       "      <td>1839</td>\n",
       "      <td>1889</td>\n",
       "    </tr>\n",
       "    <tr>\n",
       "      <th>1</th>\n",
       "      <td>Achim von Arnim</td>\n",
       "      <td>arnim</td>\n",
       "      <td>1781</td>\n",
       "      <td>1831</td>\n",
       "    </tr>\n",
       "    <tr>\n",
       "      <th>2</th>\n",
       "      <td>Bettina von Arnim</td>\n",
       "      <td>arnimb</td>\n",
       "      <td>1785</td>\n",
       "      <td>1859</td>\n",
       "    </tr>\n",
       "    <tr>\n",
       "      <th>3</th>\n",
       "      <td>Johann Jakob Bodmer</td>\n",
       "      <td>bodmer</td>\n",
       "      <td>1698</td>\n",
       "      <td>1783</td>\n",
       "    </tr>\n",
       "    <tr>\n",
       "      <th>4</th>\n",
       "      <td>Ludwig Börne</td>\n",
       "      <td>boerne</td>\n",
       "      <td>1786</td>\n",
       "      <td>1837</td>\n",
       "    </tr>\n",
       "    <tr>\n",
       "      <th>...</th>\n",
       "      <td>...</td>\n",
       "      <td>...</td>\n",
       "      <td>...</td>\n",
       "      <td>...</td>\n",
       "    </tr>\n",
       "    <tr>\n",
       "      <th>105</th>\n",
       "      <td>Georg Weerth</td>\n",
       "      <td>weerth</td>\n",
       "      <td>1822</td>\n",
       "      <td>1856</td>\n",
       "    </tr>\n",
       "    <tr>\n",
       "      <th>106</th>\n",
       "      <td>Johann Karl Wezel</td>\n",
       "      <td>wezel</td>\n",
       "      <td>1747</td>\n",
       "      <td>1819</td>\n",
       "    </tr>\n",
       "    <tr>\n",
       "      <th>107</th>\n",
       "      <td>Christoph Martin Wieland</td>\n",
       "      <td>wieland</td>\n",
       "      <td>1733</td>\n",
       "      <td>1813</td>\n",
       "    </tr>\n",
       "    <tr>\n",
       "      <th>108</th>\n",
       "      <td>Ernst von Wildenbruch</td>\n",
       "      <td>wildenbr</td>\n",
       "      <td>1845</td>\n",
       "      <td>1909</td>\n",
       "    </tr>\n",
       "    <tr>\n",
       "      <th>109</th>\n",
       "      <td>Stefan Zweig</td>\n",
       "      <td>zweig</td>\n",
       "      <td>1881</td>\n",
       "      <td>1942</td>\n",
       "    </tr>\n",
       "  </tbody>\n",
       "</table>\n",
       "<p>110 rows × 4 columns</p>\n",
       "</div>"
      ],
      "text/plain": [
       "                       author author_url  born  died\n",
       "0          Ludwig Anzengruber   anzengru  1839  1889\n",
       "1             Achim von Arnim      arnim  1781  1831\n",
       "2           Bettina von Arnim     arnimb  1785  1859\n",
       "3         Johann Jakob Bodmer     bodmer  1698  1783\n",
       "4                Ludwig Börne     boerne  1786  1837\n",
       "..                        ...        ...   ...   ...\n",
       "105              Georg Weerth     weerth  1822  1856\n",
       "106         Johann Karl Wezel      wezel  1747  1819\n",
       "107  Christoph Martin Wieland    wieland  1733  1813\n",
       "108     Ernst von Wildenbruch   wildenbr  1845  1909\n",
       "109              Stefan Zweig      zweig  1881  1942\n",
       "\n",
       "[110 rows x 4 columns]"
      ]
     },
     "execution_count": 10,
     "metadata": {},
     "output_type": "execute_result"
    }
   ],
   "source": [
    "authors_df"
   ]
  },
  {
   "cell_type": "code",
   "execution_count": 11,
   "id": "2e985a21-8b21-4529-9714-18a16e246304",
   "metadata": {},
   "outputs": [],
   "source": [
    "titles_df = pd.read_csv('data/titles_2nd.csv')"
   ]
  },
  {
   "cell_type": "code",
   "execution_count": 12,
   "id": "0b7a4abd-9b0f-438c-9cff-046cc6c136a9",
   "metadata": {},
   "outputs": [],
   "source": [
    "from src.scraping import scrape_chapters"
   ]
  },
  {
   "cell_type": "code",
   "execution_count": 13,
   "id": "849dd248-56b5-4e03-92c8-16a6d694e30c",
   "metadata": {},
   "outputs": [],
   "source": [
    "chapters_list = []\n",
    "for title in titles_df.title_url:\n",
    "    chapters_list.append(scrape_chapters(title))"
   ]
  },
  {
   "cell_type": "markdown",
   "id": "7a381248-3222-44f4-aaaa-8a04bb7d2b3e",
   "metadata": {},
   "source": [
    "right now the scrape_chapters function returns a list for every chapter. \n",
    "I should probably extend the chapters list instead of appending, or let the function return some more structured list. But for now I have to go through the chapters_list again to create my df and save it."
   ]
  },
  {
   "cell_type": "code",
   "execution_count": 26,
   "id": "5093adda-4270-435d-880e-d316f0e84cd8",
   "metadata": {},
   "outputs": [],
   "source": [
    "chapters = []\n",
    "for chapter in chapters_list:\n",
    "    for i in range(round(len(chapter) /3)):\n",
    "        chapters.append([chapter[3*i], chapter[3*i +1], chapter[3*i +2]])\n",
    "df = pd.DataFrame(data = chapters, columns = ['title_url',\n",
    "                                              'chapter_num',\n",
    "                                              'chapter'])\n",
    "df.to_csv('data/chapters_2nd.csv', index=False) "
   ]
  },
  {
   "cell_type": "code",
   "execution_count": 27,
   "id": "20a54cd5-7b53-49ac-b474-abbc40aeba34",
   "metadata": {},
   "outputs": [
    {
     "data": {
      "text/plain": [
       "(41022, 3)"
      ]
     },
     "execution_count": 27,
     "metadata": {},
     "output_type": "execute_result"
    }
   ],
   "source": [
    "df.shape"
   ]
  },
  {
   "cell_type": "markdown",
   "id": "bd1903b7-7595-4b2d-a809-c8ab915dfdec",
   "metadata": {},
   "source": [
    "we have 41022 chapters, which surprises me since I scraped more authors this time"
   ]
  },
  {
   "cell_type": "code",
   "execution_count": 28,
   "id": "cd9a5740-59a2-4da9-b93b-21147e64d5a0",
   "metadata": {},
   "outputs": [
    {
     "data": {
      "text/plain": [
       "Index(['title_url', 'chapter_num', 'chapter'], dtype='object')"
      ]
     },
     "execution_count": 28,
     "metadata": {},
     "output_type": "execute_result"
    }
   ],
   "source": [
    "df.columns"
   ]
  },
  {
   "cell_type": "code",
   "execution_count": 29,
   "id": "eb0773ec-ce82-4ebe-ba31-ec1006ef6595",
   "metadata": {},
   "outputs": [
    {
     "data": {
      "text/plain": [
       "1952"
      ]
     },
     "execution_count": 29,
     "metadata": {},
     "output_type": "execute_result"
    }
   ],
   "source": [
    "df.title_url.nunique()"
   ]
  }
 ],
 "metadata": {
  "kernelspec": {
   "display_name": "Python 3 (ipykernel)",
   "language": "python",
   "name": "python3"
  },
  "language_info": {
   "codemirror_mode": {
    "name": "ipython",
    "version": 3
   },
   "file_extension": ".py",
   "mimetype": "text/x-python",
   "name": "python",
   "nbconvert_exporter": "python",
   "pygments_lexer": "ipython3",
   "version": "3.9.7"
  }
 },
 "nbformat": 4,
 "nbformat_minor": 5
}
