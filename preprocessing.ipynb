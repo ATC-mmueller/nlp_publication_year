{
 "cells": [
  {
   "cell_type": "markdown",
   "id": "35f6de88-f0cb-4fd4-9522-35f1292b93f6",
   "metadata": {},
   "source": [
    "# Preprocessing chapters\n",
    "Now that we filtered our data it is time for some preprocessing using libraries like NLTK and Spacy."
   ]
  },
  {
   "cell_type": "code",
   "execution_count": 1,
   "id": "84da9b2e-b33f-42bc-8cca-67332286076a",
   "metadata": {},
   "outputs": [],
   "source": [
    "import pandas as pd"
   ]
  },
  {
   "cell_type": "code",
   "execution_count": 2,
   "id": "ac12bd20-07aa-40a2-bff9-9894d84f3bb6",
   "metadata": {},
   "outputs": [],
   "source": [
    "df = pd.read_csv('data/df_filtered.csv')"
   ]
  },
  {
   "cell_type": "code",
   "execution_count": 6,
   "id": "8714ae58-09a6-4d93-babb-0e3051b14e9b",
   "metadata": {},
   "outputs": [],
   "source": [
    "import nltk\n",
    "from nltk import word_tokenize"
   ]
  },
  {
   "cell_type": "code",
   "execution_count": 17,
   "id": "a961ea7f-ab1e-4f9a-a83e-feadbeb500d2",
   "metadata": {
    "tags": []
   },
   "outputs": [],
   "source": [
    "import spacy"
   ]
  }
 ],
 "metadata": {
  "kernelspec": {
   "display_name": "Python 3 (ipykernel)",
   "language": "python",
   "name": "python3"
  },
  "language_info": {
   "codemirror_mode": {
    "name": "ipython",
    "version": 3
   },
   "file_extension": ".py",
   "mimetype": "text/x-python",
   "name": "python",
   "nbconvert_exporter": "python",
   "pygments_lexer": "ipython3",
   "version": "3.9.7"
  }
 },
 "nbformat": 4,
 "nbformat_minor": 5
}
